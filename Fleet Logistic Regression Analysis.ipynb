{
  "nbformat": 4,
  "nbformat_minor": 0,
  "metadata": {
    "colab": {
      "name": "Copy of Copy of Group1 Data Analysis.ipynb",
      "provenance": [],
      "collapsed_sections": [],
      "include_colab_link": true
    },
    "kernelspec": {
      "name": "python3",
      "display_name": "Python 3"
    }
  },
  "cells": [
    {
      "cell_type": "markdown",
      "metadata": {
        "id": "view-in-github",
        "colab_type": "text"
      },
      "source": [
        "<a href=\"https://colab.research.google.com/github/baschram/bda-718-group-1/blob/master/Fleet%20Logistic%20Regression%20Analysis.ipynb\" target=\"_parent\"><img src=\"https://colab.research.google.com/assets/colab-badge.svg\" alt=\"Open In Colab\"/></a>"
      ]
    },
    {
      "cell_type": "markdown",
      "metadata": {
        "id": "LlQq4Eko6W1h"
      },
      "source": [
        "# Pyspark Install and Drive Mounting"
      ]
    },
    {
      "cell_type": "code",
      "metadata": {
        "id": "RP9HfJTEZqJT",
        "outputId": "206939b3-0467-4601-8337-81790a67ed42",
        "colab": {
          "base_uri": "https://localhost:8080/"
        }
      },
      "source": [
        "%%bash\n",
        "# Need to install pyspark\n",
        "# if pyspark is already installed, will print a message indicating pyspark already isntalled\n",
        "pip install pyspark\n",
        "pip install seaborn"
      ],
      "execution_count": 1,
      "outputs": [
        {
          "output_type": "stream",
          "text": [
            "Collecting pyspark\n",
            "  Downloading https://files.pythonhosted.org/packages/f0/26/198fc8c0b98580f617cb03cb298c6056587b8f0447e20fa40c5b634ced77/pyspark-3.0.1.tar.gz (204.2MB)\n",
            "Collecting py4j==0.10.9\n",
            "  Downloading https://files.pythonhosted.org/packages/9e/b6/6a4fb90cd235dc8e265a6a2067f2a2c99f0d91787f06aca4bcf7c23f3f80/py4j-0.10.9-py2.py3-none-any.whl (198kB)\n",
            "Building wheels for collected packages: pyspark\n",
            "  Building wheel for pyspark (setup.py): started\n",
            "  Building wheel for pyspark (setup.py): finished with status 'done'\n",
            "  Created wheel for pyspark: filename=pyspark-3.0.1-py2.py3-none-any.whl size=204612243 sha256=b4c2cccd9e8af079b04fba9344167374939b4301cf2cba69b34c5baff65d3001\n",
            "  Stored in directory: /root/.cache/pip/wheels/5e/bd/07/031766ca628adec8435bb40f0bd83bb676ce65ff4007f8e73f\n",
            "Successfully built pyspark\n",
            "Installing collected packages: py4j, pyspark\n",
            "Successfully installed py4j-0.10.9 pyspark-3.0.1\n",
            "Requirement already satisfied: seaborn in /usr/local/lib/python3.6/dist-packages (0.11.0)\n",
            "Requirement already satisfied: numpy>=1.15 in /usr/local/lib/python3.6/dist-packages (from seaborn) (1.18.5)\n",
            "Requirement already satisfied: matplotlib>=2.2 in /usr/local/lib/python3.6/dist-packages (from seaborn) (3.2.2)\n",
            "Requirement already satisfied: pandas>=0.23 in /usr/local/lib/python3.6/dist-packages (from seaborn) (1.1.4)\n",
            "Requirement already satisfied: scipy>=1.0 in /usr/local/lib/python3.6/dist-packages (from seaborn) (1.4.1)\n",
            "Requirement already satisfied: cycler>=0.10 in /usr/local/lib/python3.6/dist-packages (from matplotlib>=2.2->seaborn) (0.10.0)\n",
            "Requirement already satisfied: python-dateutil>=2.1 in /usr/local/lib/python3.6/dist-packages (from matplotlib>=2.2->seaborn) (2.8.1)\n",
            "Requirement already satisfied: kiwisolver>=1.0.1 in /usr/local/lib/python3.6/dist-packages (from matplotlib>=2.2->seaborn) (1.3.1)\n",
            "Requirement already satisfied: pyparsing!=2.0.4,!=2.1.2,!=2.1.6,>=2.0.1 in /usr/local/lib/python3.6/dist-packages (from matplotlib>=2.2->seaborn) (2.4.7)\n",
            "Requirement already satisfied: pytz>=2017.2 in /usr/local/lib/python3.6/dist-packages (from pandas>=0.23->seaborn) (2018.9)\n",
            "Requirement already satisfied: six in /usr/local/lib/python3.6/dist-packages (from cycler>=0.10->matplotlib>=2.2->seaborn) (1.15.0)\n"
          ],
          "name": "stdout"
        }
      ]
    },
    {
      "cell_type": "markdown",
      "metadata": {
        "id": "f9QUgjShvmaf"
      },
      "source": [
        "Import required spark packages and set spark environment to use additoinal memory and cores on colab instance"
      ]
    },
    {
      "cell_type": "code",
      "metadata": {
        "id": "qlRNgJJUOybF",
        "outputId": "fa94b07c-7019-4960-84c1-47b402952ced",
        "colab": {
          "base_uri": "https://localhost:8080/"
        }
      },
      "source": [
        "%matplotlib inline\n",
        "from pyspark.sql import SparkSession\n",
        "from pyspark.sql import SQLContext\n",
        "from pyspark.ml import feature\n",
        "import re\n",
        "from pyspark.sql import functions as fn\n",
        "from pyspark.sql.functions import col, regexp_replace, split\n",
        "from pyspark.sql.utils import AnalysisException\n",
        "from pyspark.sql import Row\n",
        "from pyspark.sql.types import IntegerType, DateType, FloatType, BooleanType\n",
        "import os\n",
        "import pandas as pd\n",
        "import seaborn as sns\n",
        "import matplotlib.pyplot as plt\n",
        "\n",
        "spark = SparkSession \\\n",
        "  .builder \\\n",
        "  .master(\"local[*]\")\\\n",
        "  .config(\"spark.memory.fraction\", 0.8) \\\n",
        "  .config(\"spark.executor.memory\", \"12g\") \\\n",
        "  .config(\"spark.driver.memory\", \"12g\")\\\n",
        "  .config(\"spark.memory.offHeap.enabled\",'true')\\\n",
        "  .config(\"spark.memory.offHeap.size\",\"12g\")\\\n",
        "  .getOrCreate()\n",
        "sc = spark.sparkContext\n",
        "sqlContext = SQLContext(sc)\n",
        "\n",
        "from google.colab import drive\n",
        "drive.mount('/content/drive')"
      ],
      "execution_count": 2,
      "outputs": [
        {
          "output_type": "stream",
          "text": [
            "Mounted at /content/drive\n"
          ],
          "name": "stdout"
        }
      ]
    },
    {
      "cell_type": "markdown",
      "metadata": {
        "id": "x3ICRsLr6gcq"
      },
      "source": [
        "# Data load and processing"
      ]
    },
    {
      "cell_type": "markdown",
      "metadata": {
        "id": "vg2_Vbzdv5qM"
      },
      "source": [
        "Initial data load and cleaning.  Code replicaed from intial EDA file\n",
        "\n",
        "Remove aany duplicate entires\n",
        "Drop columns with no data or are redundant infromation\n",
        "Regex replace to remove \"--\" and \"None\" fields for better NA processing\n",
        "\n",
        "Series of regex replace operations to remove unneeded text from data columns\n",
        "\n",
        "Change all text to lower case for consistency\n",
        "\n",
        "Decompose the torque column to list torque and rpm as two seperate columns\n",
        "\n",
        "Featute engineer torque grade column by dividing torque by rpm\n",
        "\n",
        "recast data types of columns\n",
        "\n",
        "Replaced NA with the dominant value of the column for categorical features\n",
        "\n",
        "Replaced NAs with means of continuous variables with high standard deviation\n",
        "\n",
        "Replaced NA with median for continous variables with low standard deviation\n"
      ]
    },
    {
      "cell_type": "code",
      "metadata": {
        "id": "0OuApHQTRRH0"
      },
      "source": [
        "sampled_df = spark.read.format(\"csv\").option(\"header\", \"true\").option('inferSchema','true').load(\"drive/Shared drives/IST 718 Group1/sampled_used_cars_data_nodesc.csv\")\n",
        "\n",
        "# EDA: Duplicate Data Removal\n",
        "sampled_df = sampled_df.distinct()\n",
        "\n",
        "# Drop the index column\n",
        "# Drop exterior color ,power, and wheel system displacement (redundant columns)\n",
        "# Drop Bed height (no values)\n",
        "sampled_df = sampled_df.drop(*['power','main_picture_url',\n",
        "                               'combine_fuel_economy', 'listing_id',\n",
        "                               'vehicle_damage_category','trimId',\n",
        "                               'trim_name','exterior_color','wheel_system_display','bed_height','power','is_certified'])\n",
        "\n",
        "# Generate of list of column names for future use\n",
        "colList = sampled_df.columns\n",
        "numColList = []\n",
        "catColList = []\n",
        "\n",
        "#Needs to occur prior to data type casting as the loop will convert columns back to strings\n",
        "for x in sampled_df.columns:\n",
        "  sampled_df = sampled_df.withColumn(x, regexp_replace(col(x),r'--',''))\n",
        "  sampled_df = sampled_df.withColumn(x, regexp_replace(col(x),r'None',''))\n",
        "\n",
        "#Column cleaning and type casting\n",
        "\n",
        "#Function to check if column exists or not\n",
        "def has_column(df, col):\n",
        "    try:\n",
        "        df[col]\n",
        "        return True\n",
        "    except AnalysisException:\n",
        "        return False\n",
        "\n",
        "sampled_df = sampled_df.withColumn('back_legroom',\n",
        "                                   regexp_replace(col('back_legroom'),r'\\sin',''))\n",
        "sampled_df = sampled_df.withColumn('front_legroom',\n",
        "                                   regexp_replace(col('front_legroom'),r'\\sin',''))\n",
        "sampled_df = sampled_df.withColumn('front_legroom',fn.translate('front_legroom','0',''))\n",
        "sampled_df = sampled_df.withColumn('height',\n",
        "                                   regexp_replace(col('height'),r'\\sin',''))\n",
        "sampled_df = sampled_df.withColumn('length',\n",
        "                                   regexp_replace(col('length'),r'\\sin',''))\n",
        "sampled_df = sampled_df.withColumn('wheelbase',\n",
        "                                   regexp_replace(col('wheelbase'),r'\\sin',''))\n",
        "sampled_df = sampled_df.withColumn('width',\n",
        "                                   regexp_replace(col('width'),r'\\sin',''))\n",
        "sampled_df = sampled_df.withColumn('bed_length',\n",
        "                                   regexp_replace(col('bed_length'),r'\\sin',''))\n",
        "sampled_df = sampled_df.withColumn('engine_cylinders',\n",
        "                                   regexp_replace(col('engine_cylinders'),'[a-zA-Z]',''))\n",
        "#Remove all digits from engine type\n",
        "sampled_df = sampled_df.withColumn('engine_type',\n",
        "                                   regexp_replace(col('engine_type'),r'\\d',''))\n",
        "#Remove all alphabet characters following space\n",
        "sampled_df = sampled_df.withColumn('engine_type',\n",
        "                                   regexp_replace(col('engine_type'),r'\\s[a-zA-Z]*',''))\n",
        "sampled_df = sampled_df.withColumn('maximum_seating',\n",
        "                                   regexp_replace(col('maximum_seating'),r'\\sseats',''))\n",
        "sampled_df = sampled_df.withColumn('fuel_tank_volume',\n",
        "                                   regexp_replace(col('fuel_tank_volume'),r'\\sgal',''))\n",
        "sampled_df = sampled_df.withColumn('major_options',\n",
        "                                   regexp_replace(col('major_options'),r\"[\\[]'\",''))\n",
        "sampled_df = sampled_df.withColumn('major_options',\n",
        "                                   regexp_replace(col('major_options'),r\"'[\\]]\",''))\n",
        "sampled_df = sampled_df.withColumn('major_options',\n",
        "                                   regexp_replace(col('major_options'),r\"'\",''))\n",
        "sampled_df = sampled_df.withColumn('transmission_display',\n",
        "                                   regexp_replace(col('transmission_display'),r\"\\D*\",''))\n",
        "\n",
        "sampled_df = sampled_df.withColumn('city',fn.lower(fn.col('city')))\n",
        "sampled_df = sampled_df.withColumn('interior_color',fn.lower(fn.col('interior_color')))\n",
        "sampled_df = sampled_df.withColumn('listing_color',fn.lower(fn.col('listing_color')))\n",
        "sampled_df = sampled_df.withColumn('make_name',fn.lower(fn.col('make_name')))\n",
        "sampled_df = sampled_df.withColumn('model_name',fn.lower(fn.col('model_name')))\n",
        "sampled_df = sampled_df.withColumn('sp_name',fn.lower(fn.col('sp_name')))\n",
        "\n",
        "#Decompose Torque column \n",
        "if has_column(sampled_df, 'torque'):\n",
        "  split_torque = split(sampled_df['torque'],r'\\slb-ft\\s@')\n",
        "  sampled_df = sampled_df.withColumn('torque_ftlb',split_torque.getItem(0))\n",
        "  sampled_df = sampled_df.withColumn('torque_rpm',split_torque.getItem(1))\n",
        "  #Drop now redundant torque column\n",
        "  sampled_df = sampled_df.drop('torque')\n",
        "\n",
        "#Remove all non digit charaters\n",
        "sampled_df = sampled_df.withColumn('torque_rpm',\n",
        "                                   regexp_replace(col('torque_rpm'),'\\D*',''))\n",
        "#Calculate new torque grade column\n",
        "sampled_df = sampled_df.withColumn('torque_grade',\n",
        "                                   sampled_df.torque_ftlb/sampled_df.torque_rpm)\n",
        "\n",
        "\n",
        "#Recast column data types\n",
        "\n",
        "\n",
        "#Integer type loop\n",
        "integer_cols = ['engine_displacement','engine_cylinders','daysonmarket','horsepower','maximum_seating','mileage','owner_count','savings_amount','transmission_display','year','torque_ftlb','torque_rpm']\n",
        "for i in integer_cols:\n",
        "  sampled_df = sampled_df.withColumn(i, sampled_df[i].cast(IntegerType()))\n",
        "\n",
        "#FloatType loop\n",
        "float_cols = ['back_legroom','front_legroom','city_fuel_economy','bed_length','fuel_tank_volume','latitude','height','highway_fuel_economy','length','longitude','price','seller_rating','wheelbase','width','torque_grade']\n",
        "for i in float_cols:\n",
        "  sampled_df = sampled_df.withColumn(i, sampled_df[i].cast(FloatType()))\n",
        "\n",
        "#DateType Loop\n",
        "date_cols = ['listed_date']\n",
        "for i in date_cols:\n",
        "  sampled_df = sampled_df.withColumn(i, sampled_df[i].cast(DateType()))\n",
        "\n",
        "#Boolean Loop\n",
        "bool_cols = ['fleet','frame_damaged','franchise_dealer','has_accidents','isCab','is_cpo','is_new','is_oemcpo','salvage','theft_title']\n",
        "for i in bool_cols:\n",
        "  sampled_df = sampled_df.withColumn(i, sampled_df[i].cast(BooleanType()))\n",
        "\n",
        "#NA Handeling\n",
        "\n",
        "#Set empty booleans values to false (assume no report = negative condition)\n",
        "sampled_df = sampled_df.na.fill(False, bool_cols)\n",
        "\n",
        "sampled_df = sampled_df.na.fill(0, \"back_legroom\")\n",
        "sampled_df = sampled_df.na.fill('Gasoline', \"fuel_type\")\n",
        "sampled_df = sampled_df.na.fill('SUV / Crossover', \"body_type\")\n",
        "sampled_df = sampled_df.na.fill(' ', \"major_options\")\n",
        "\n",
        "\n",
        "sampled_df = sampled_df.na.fill('A', \"transmission\")\n",
        "#Consolidate Dual clutch transmissions into automatic category\n",
        "sampled_df = sampled_df.withColumn('transmission',fn.when(col('transmission') == 'Dual Clutch','A').otherwise(col('transmission')))\n",
        "    #fn.translate('transmission',\"Dual Clutch\",'A'))\n",
        "\n",
        "sampled_df = sampled_df.na.fill('FWD', \"wheel_system\")\n",
        "#Consolidate Wheel system type 4x2 in RWD drive category\n",
        "sampled_df = sampled_df.withColumn('wheel_system',fn.translate('wheel_system',\"4X2\",\"RWD\"))\n",
        "\n",
        "#Use Spark imputer transform to replace NAs with median values of specified columns\n",
        "median_replace_col = ['owner_count','engine_cylinders','engine_displacement','horsepower','maximum_seating','mileage','transmission_display','torque_ftlb','torque_rpm','torque_grade']\n",
        "na_replace_with_median = feature.Imputer(strategy='median', inputCols=median_replace_col, outputCols=median_replace_col).fit(sampled_df)\n",
        "sampled_df = na_replace_with_median.transform(sampled_df)\n",
        "\n",
        "#Use Spark imputer transform to replace NAs with mean values of specified columns\n",
        "mean_replace_col = ['city_fuel_economy','front_legroom','fuel_tank_volume','highway_fuel_economy','seller_rating','wheelbase','height','length','width']\n",
        "na_replace_with_mean = feature.Imputer(strategy='mean', inputCols=mean_replace_col, outputCols=mean_replace_col).fit(sampled_df)\n",
        "sampled_df = na_replace_with_mean.transform(sampled_df)\n",
        "\n",
        "#Conditional engine type fill if cylinders =6-12 then v type, if < 6 I type\n",
        "sampled_df = sampled_df.withColumn('engine_type',fn.when(col('engine_cylinders').isin([6,8,10,12]) & fn.isnull(col('engine_type')),'V').otherwise(col('engine_type')))\n",
        "sampled_df = sampled_df.withColumn('engine_type',fn.when((col('engine_cylinders') < 6) & fn.isnull(col('engine_type')),'I').otherwise(col('engine_type')))\n",
        "#Any remaining engine_type NAs get filled in with I\n",
        "sampled_df = sampled_df.na.fill('I', \"engine_type\")\n",
        "\n"
      ],
      "execution_count": 3,
      "outputs": []
    },
    {
      "cell_type": "code",
      "metadata": {
        "id": "zktnmcUABzwC",
        "outputId": "98f1959b-6c1b-4a17-f1ec-8aa34ba69e8a",
        "colab": {
          "base_uri": "https://localhost:8080/"
        }
      },
      "source": [
        "df_agg = logreg_sampled_df.agg(*[fn.count(fn.when(fn.isnull(c), c)).alias(c) for c in logreg_sampled_df.columns])\n",
        "df_agg.show()"
      ],
      "execution_count": null,
      "outputs": [
        {
          "output_type": "stream",
          "text": [
            "+------------+------+----------+---------+------+----+-----------------+------------+----------+----------------+-------------------+-----------+------+-------------+----------------+--------------+-------------+----------------+---------+-------------+------+--------------------+----------+--------------+------+------+------+---------+--------+------+-----------+-------------+---------+-------------+---------+---------------+-------+----------+-----------+-----+-------+--------------+-------------+-----+-------+-----------+------------+--------------------+------------+---------+-----+----+-----------+----------+------------+---------+----------------+---------------+--------------+-----------+-----------+------+-------------+--------------+-----------+------------+\n",
            "|back_legroom|   bed|bed_length|body_type| cabin|city|city_fuel_economy|daysonmarket|dealer_zip|engine_cylinders|engine_displacement|engine_type| fleet|frame_damaged|franchise_dealer|franchise_make|front_legroom|fuel_tank_volume|fuel_type|has_accidents|height|highway_fuel_economy|horsepower|interior_color| isCab|is_cpo|is_new|is_oemcpo|latitude|length|listed_date|listing_color|longitude|major_options|make_name|maximum_seating|mileage|model_name|owner_count|price|salvage|savings_amount|seller_rating|sp_id|sp_name|theft_title|transmission|transmission_display|wheel_system|wheelbase|width|year|torque_ftlb|torque_rpm|torque_grade|sp_name_x|interior_color_x|listing_color_x|wheel_system_x|fuel_type_x|body_type_x|city_x|engine_type_x|transmission_x|make_name_x|model_name_x|\n",
            "+------------+------+----------+---------+------+----+-----------------+------------+----------+----------------+-------------------+-----------+------+-------------+----------------+--------------+-------------+----------------+---------+-------------+------+--------------------+----------+--------------+------+------+------+---------+--------+------+-----------+-------------+---------+-------------+---------+---------------+-------+----------+-----------+-----+-------+--------------+-------------+-----+-------+-----------+------------+--------------------+------------+---------+-----+----+-----------+----------+------------+---------+----------------+---------------+--------------+-----------+-----------+------+-------------+--------------+-----------+------------+\n",
            "|       48421|596126|    516116|     2742|587309|   0|            98380|           0|         0|           20098|              34488|      20098|285964|       285964|               0|        113708|        35009|           32041|    16536|       285964| 31846|               98380|     34488|             0|285964|563490|     0|   572936|       0| 31843|     599998|            0|        0|        39648|        0|          31847|  28743|         0|     304030|    0| 285964|             0|         8178|   22|      0|     285964|       12764|              358478|       29426|    31836|31845|   0|     103534|    103534|      103534|        0|               0|              0|             0|          0|          0|     0|            0|             0|          0|           0|\n",
            "+------------+------+----------+---------+------+----+-----------------+------------+----------+----------------+-------------------+-----------+------+-------------+----------------+--------------+-------------+----------------+---------+-------------+------+--------------------+----------+--------------+------+------+------+---------+--------+------+-----------+-------------+---------+-------------+---------+---------------+-------+----------+-----------+-----+-------+--------------+-------------+-----+-------+-----------+------------+--------------------+------------+---------+-----+----+-----------+----------+------------+---------+----------------+---------------+--------------+-----------+-----------+------+-------------+--------------+-----------+------------+\n",
            "\n"
          ],
          "name": "stdout"
        }
      ]
    },
    {
      "cell_type": "markdown",
      "metadata": {
        "id": "Yh1klY5VxtM6"
      },
      "source": [
        "Conducted feature engineering to convert categorical values to numeric.  All categories did not have any ordinal features and used the deault frequency sorting for selecting category labels.  Recast boolean columns to integers."
      ]
    },
    {
      "cell_type": "markdown",
      "metadata": {
        "id": "Fd75KTmi6oex"
      },
      "source": [
        "# Classification Preprocessing"
      ]
    },
    {
      "cell_type": "code",
      "metadata": {
        "id": "8Zvt6Wi5WbGY"
      },
      "source": [
        "from pyspark.ml import feature\n",
        "from pyspark.ml import Pipeline\n",
        "\n",
        "#Convert categorical columns to numeric values with string indexer.  Use freqency as sorting value as no ordinal strucutre\n",
        "#Create list of all categorical columns used in model\n",
        "categorical_col_input = ['body_type','city','engine_type','fuel_type','interior_color','listing_color','make_name','model_name','sp_name','transmission','wheel_system']\n",
        "#Create transformed column names by adding _x\n",
        "categorical_col_output = [i + '_x' for i in categorical_col_input]\n",
        "#Convert strings to category numbers\n",
        "categorical_feature = feature.StringIndexer(inputCols=categorical_col_input, outputCols=categorical_col_output)\n",
        "\n",
        "#Convert boolean columns to integer to change from booleans to 0 and 1\n",
        "#create list of boolena columns\n",
        "bool_cols_input = ['fleet','frame_damaged','franchise_dealer','has_accidents','isCab','is_cpo','is_new','is_oemcpo','salvage','theft_title']\n",
        "#Iterate through list and cast to integer type\n",
        "for i in bool_cols_input:\n",
        "  sampled_df = sampled_df.withColumn(i, sampled_df[i].cast(IntegerType()))\n",
        "\n",
        "#Create preprocessing pipline with \n",
        "logreg_preprocessing = Pipeline(stages=[categorical_feature]).fit(sampled_df)\n",
        "logreg_sampled_df= logreg_preprocessing.transform(sampled_df)\n",
        "\n"
      ],
      "execution_count": 4,
      "outputs": []
    },
    {
      "cell_type": "markdown",
      "metadata": {
        "id": "6BdsglyfyKAx"
      },
      "source": [
        "Imported spark packages needed for regression analysis and split the data into training, validation, and test splits."
      ]
    },
    {
      "cell_type": "code",
      "metadata": {
        "id": "nZb7NgrREdvV"
      },
      "source": [
        "#Classifier imports and dataset split\n",
        "from pyspark.ml.classification import LogisticRegression\n",
        "from pyspark.ml.classification import RandomForestClassifier\n",
        "from pyspark.ml.evaluation import BinaryClassificationEvaluator\n",
        "from pyspark.ml.tuning import ParamGridBuilder\n",
        "\n",
        "training_df, validation_df, testing_df = logreg_sampled_df.randomSplit([0.6, 0.3, 0.1], seed=0)"
      ],
      "execution_count": 5,
      "outputs": []
    },
    {
      "cell_type": "markdown",
      "metadata": {
        "id": "5qsUlHx67RMi"
      },
      "source": [
        "# Logistic Regression Analysis"
      ]
    },
    {
      "cell_type": "markdown",
      "metadata": {
        "id": "o-8sC6wPyXXp"
      },
      "source": [
        "Grid search for logistic regression on data set. Removed columns that were incomplete, not appliable to the majority of vehicles or were derivatives of other columns.  Since we would likr to look at feature importance by comparing feature weights, all features were scaled using a standard scaler.  Each training run takes approx 20 minutes and the total grid search time is approx 4.5 hours.  Interestingly, adding regularization and elastic net parameters did not improve the model performance.  The scores only marginally decreased\n",
        "\n",
        "COPY scores output from Grid search\n"
      ]
    },
    {
      "cell_type": "code",
      "metadata": {
        "id": "kd_cDy3Aa7N0"
      },
      "source": [
        "#logistical Regression with Grid Search\n",
        "enable_grid = False\n",
        "\n",
        "#Create list of feature columns for use in vector assemeble\n",
        "#Pull all column names from transformed DF\n",
        "colList = logreg_sampled_df.columns\n",
        "#Remove original categorical columns\n",
        "feature_cols = [i for i in colList if i not in categorical_col_input]\n",
        "#Remove unneeded columns (bed and cabin columns only apply to trucks, dealer_zip format is inconsistent (5 or 9 digits) fleet is target, isCab is derivative of fleet, sp_id incomplete)\n",
        "for i in ['bed','bed_length','cabin','dealer_zip','fleet','franchise_make','isCab','major_options','sp_id','listed_date']:\n",
        "  feature_cols.remove(i)\n",
        "\n",
        "#Second preprocessing step to create feature vector and scale so feature coeffcients can be compared for importance\n",
        "lr_va = feature.VectorAssembler(inputCols=feature_cols, outputCol='features')\n",
        "\n",
        "scaler = feature.StandardScaler(withMean=True, inputCol='features')\n",
        "\n",
        "logreg_preprocessing_2 = Pipeline(stages=[lr_va, scaler])\n",
        "\n",
        "if enable_grid:\n",
        "  lr = LogisticRegression(labelCol='fleet',featuresCol='features')\n",
        "\n",
        "  grid = ParamGridBuilder().\\\n",
        "  addGrid(lr.regParam, [0., 0.01, 0.02, 0.03]).\\\n",
        "  addGrid(lr.elasticNetParam, [0., 0.1, 0.3]).\\\n",
        "  build()\n",
        "\n",
        "  lr_pipe = Pipeline(stages = [logreg_preprocessing_2,lr])\n",
        "\n",
        "  all_models = []\n",
        "  for j in range(len(grid)):\n",
        "    print(\"Fitting model {}\".format(j+1))\n",
        "    model = lr_pipe.fit(training_df, grid[j])\n",
        "    all_models.append(model)\n",
        "      \n",
        "  scores =[]\n",
        "  for m in all_models:\n",
        "    score_lr_pipe_1 = BinaryClassificationEvaluator(labelCol='fleet',metricName = 'areaUnderROC').evaluate(m.transform(validation_df))\n",
        "    scores.append(score_lr_pipe_1)\n",
        "        \n",
        "  print(max(scores), '\\n', grid[scores.index(max(scores))])\n",
        "\n",
        "#Feature Inference\n",
        "  if enable_grid:\n",
        "    abs_feature_scores = [abs(i) for i in all_models[scores.index(max(scores))].stages[-1].coefficients.toArray().tolist()]\n",
        "    df_col = ['feature','weight']\n",
        "    abs_coeffs_df = spark.createDataFrame(data=zip(feature_cols,abs_feature_scores),schema = df_col)\n",
        "\n",
        "    lr_important_features = abs_coeffs_df.sort(fn.desc('weight')).limit(10).toPandas()\n",
        "\n",
        "    display(lr_important_features)\n",
        "\n",
        "    feature_scores = all_models[scores.index(max(scores))].stages[-1].coefficients.toArray().tolist()\n",
        "    coeffs_df = spark.createDataFrame(data=zip(feature_cols,feature_scores),schema = df_col)\n",
        "\n",
        "    lr_features_pos = coeffs_df.sort(fn.desc('weight')).limit(10).toPandas()\n",
        "    lr_features_neg = coeffs_df.sort('weight').limit(10).toPandas()\n",
        "\n",
        "    display(lr_features_pos)\n",
        "    display(lr_features_neg)\n",
        "  pass"
      ],
      "execution_count": null,
      "outputs": []
    },
    {
      "cell_type": "code",
      "metadata": {
        "id": "x_AyPxgYWKT_",
        "outputId": "91af77c6-7fa3-4444-a9b3-3802899ec8aa",
        "colab": {
          "base_uri": "https://localhost:8080/"
        }
      },
      "source": [
        "scores\n",
        "#coeffs_df.show()"
      ],
      "execution_count": null,
      "outputs": [
        {
          "output_type": "execute_result",
          "data": {
            "text/plain": [
              "[0.8734250189723907,\n",
              " 0.8731998973761991,\n",
              " 0.8715029385810065,\n",
              " 0.8704625808525013,\n",
              " 0.8662412558560946,\n",
              " 0.8653974858404606,\n",
              " 0.8656830841648188,\n",
              " 0.8619957365483409,\n",
              " 0.8549239827919557,\n",
              " 0.8621483614994883,\n",
              " 0.8553235819888318,\n",
              " 0.8404882635975588]"
            ]
          },
          "metadata": {
            "tags": []
          },
          "execution_count": 16
        }
      ]
    },
    {
      "cell_type": "markdown",
      "metadata": {
        "id": "1pzPGOkxG_Us"
      },
      "source": [
        "With scaled features, grid search gets best result with alpha = 0  and lambda =0.  Score is 0.8734250189723907, worst score is 0.84"
      ]
    },
    {
      "cell_type": "markdown",
      "metadata": {
        "id": "moQ619zgzmpF"
      },
      "source": [
        "Below is the optimized model"
      ]
    },
    {
      "cell_type": "code",
      "metadata": {
        "id": "vMKhTwUvbpyA"
      },
      "source": [
        "#LR Optimized Model\n",
        "alpha_par = 0\n",
        "lambda_par = 0\n",
        "\n",
        "lr = LogisticRegression(labelCol='fleet',featuresCol='features',regParam=lambda_par, elasticNetParam=alpha_par)\n",
        "\n",
        "lr_pipe = Pipeline(stages = [logreg_preprocessing_2,lr])\n",
        "\n",
        "opt_lr = lr_pipe.fit(training_df)\n",
        "\n",
        "score_lr_pipe_1 = BinaryClassificationEvaluator(labelCol='fleet',metricName = 'areaUnderROC').evaluate(opt_lr.transform(validation_df))\n"
      ],
      "execution_count": null,
      "outputs": []
    },
    {
      "cell_type": "markdown",
      "metadata": {
        "id": "1ZzTsq1QzqJQ"
      },
      "source": [
        "Code to look at feature importance.  The first table shows the absolute values of feature weights giving an idication the most imporant features in determining if a vehicle was in a fleet or not.  The following two show the actual values to give an indication on which features indicate positive correlation to being a fleet vehicle or neagtive correlation respectively."
      ]
    },
    {
      "cell_type": "code",
      "metadata": {
        "id": "DKRRhBes9YN9",
        "outputId": "e42cbd40-6b72-4244-9f91-3276b43b48c0",
        "colab": {
          "base_uri": "https://localhost:8080/",
          "height": 1000
        }
      },
      "source": [
        "print(score_lr_pipe_1)\n",
        "\n",
        "abs_feature_scores = [abs(i) for i in opt_lr.stages[-1].coefficients.toArray().tolist()]\n",
        "df_col = ['feature','weight']\n",
        "abs_coeffs_df = spark.createDataFrame(data=zip(feature_cols,abs_feature_scores),schema = df_col)\n",
        "\n",
        "lr_important_features = abs_coeffs_df.sort(fn.desc('weight')).limit(10).toPandas()\n",
        "\n",
        "display(lr_important_features)\n",
        "\n",
        "feature_scores = opt_lr.stages[-1].coefficients.toArray().tolist()\n",
        "coeffs_df = spark.createDataFrame(data=zip(feature_cols,feature_scores),schema = df_col)\n",
        "\n",
        "lr_features_pos = coeffs_df.sort(fn.desc('weight')).limit(10).toPandas()\n",
        "lr_features_neg = coeffs_df.sort('weight').limit(10).toPandas()\n",
        "\n",
        "display(lr_features_pos)\n",
        "display(lr_features_neg)"
      ],
      "execution_count": 9,
      "outputs": [
        {
          "output_type": "stream",
          "text": [
            "0.870723966921146\n"
          ],
          "name": "stdout"
        },
        {
          "output_type": "display_data",
          "data": {
            "text/html": [
              "<div>\n",
              "<style scoped>\n",
              "    .dataframe tbody tr th:only-of-type {\n",
              "        vertical-align: middle;\n",
              "    }\n",
              "\n",
              "    .dataframe tbody tr th {\n",
              "        vertical-align: top;\n",
              "    }\n",
              "\n",
              "    .dataframe thead th {\n",
              "        text-align: right;\n",
              "    }\n",
              "</style>\n",
              "<table border=\"1\" class=\"dataframe\">\n",
              "  <thead>\n",
              "    <tr style=\"text-align: right;\">\n",
              "      <th></th>\n",
              "      <th>feature</th>\n",
              "      <th>weight</th>\n",
              "    </tr>\n",
              "  </thead>\n",
              "  <tbody>\n",
              "    <tr>\n",
              "      <th>0</th>\n",
              "      <td>is_new</td>\n",
              "      <td>4.332909</td>\n",
              "    </tr>\n",
              "    <tr>\n",
              "      <th>1</th>\n",
              "      <td>salvage</td>\n",
              "      <td>1.056380</td>\n",
              "    </tr>\n",
              "    <tr>\n",
              "      <th>2</th>\n",
              "      <td>torque_grade</td>\n",
              "      <td>0.978642</td>\n",
              "    </tr>\n",
              "    <tr>\n",
              "      <th>3</th>\n",
              "      <td>franchise_dealer</td>\n",
              "      <td>0.579552</td>\n",
              "    </tr>\n",
              "    <tr>\n",
              "      <th>4</th>\n",
              "      <td>owner_count</td>\n",
              "      <td>0.537648</td>\n",
              "    </tr>\n",
              "    <tr>\n",
              "      <th>5</th>\n",
              "      <td>is_oemcpo</td>\n",
              "      <td>0.417045</td>\n",
              "    </tr>\n",
              "    <tr>\n",
              "      <th>6</th>\n",
              "      <td>is_cpo</td>\n",
              "      <td>0.337024</td>\n",
              "    </tr>\n",
              "    <tr>\n",
              "      <th>7</th>\n",
              "      <td>maximum_seating</td>\n",
              "      <td>0.313247</td>\n",
              "    </tr>\n",
              "    <tr>\n",
              "      <th>8</th>\n",
              "      <td>theft_title</td>\n",
              "      <td>0.285991</td>\n",
              "    </tr>\n",
              "    <tr>\n",
              "      <th>9</th>\n",
              "      <td>frame_damaged</td>\n",
              "      <td>0.205917</td>\n",
              "    </tr>\n",
              "  </tbody>\n",
              "</table>\n",
              "</div>"
            ],
            "text/plain": [
              "            feature    weight\n",
              "0            is_new  4.332909\n",
              "1           salvage  1.056380\n",
              "2      torque_grade  0.978642\n",
              "3  franchise_dealer  0.579552\n",
              "4       owner_count  0.537648\n",
              "5         is_oemcpo  0.417045\n",
              "6            is_cpo  0.337024\n",
              "7   maximum_seating  0.313247\n",
              "8       theft_title  0.285991\n",
              "9     frame_damaged  0.205917"
            ]
          },
          "metadata": {
            "tags": []
          }
        },
        {
          "output_type": "display_data",
          "data": {
            "text/html": [
              "<div>\n",
              "<style scoped>\n",
              "    .dataframe tbody tr th:only-of-type {\n",
              "        vertical-align: middle;\n",
              "    }\n",
              "\n",
              "    .dataframe tbody tr th {\n",
              "        vertical-align: top;\n",
              "    }\n",
              "\n",
              "    .dataframe thead th {\n",
              "        text-align: right;\n",
              "    }\n",
              "</style>\n",
              "<table border=\"1\" class=\"dataframe\">\n",
              "  <thead>\n",
              "    <tr style=\"text-align: right;\">\n",
              "      <th></th>\n",
              "      <th>feature</th>\n",
              "      <th>weight</th>\n",
              "    </tr>\n",
              "  </thead>\n",
              "  <tbody>\n",
              "    <tr>\n",
              "      <th>0</th>\n",
              "      <td>owner_count</td>\n",
              "      <td>0.537648</td>\n",
              "    </tr>\n",
              "    <tr>\n",
              "      <th>1</th>\n",
              "      <td>is_oemcpo</td>\n",
              "      <td>0.417045</td>\n",
              "    </tr>\n",
              "    <tr>\n",
              "      <th>2</th>\n",
              "      <td>maximum_seating</td>\n",
              "      <td>0.313247</td>\n",
              "    </tr>\n",
              "    <tr>\n",
              "      <th>3</th>\n",
              "      <td>theft_title</td>\n",
              "      <td>0.285991</td>\n",
              "    </tr>\n",
              "    <tr>\n",
              "      <th>4</th>\n",
              "      <td>frame_damaged</td>\n",
              "      <td>0.205917</td>\n",
              "    </tr>\n",
              "    <tr>\n",
              "      <th>5</th>\n",
              "      <td>transmission_display</td>\n",
              "      <td>0.186181</td>\n",
              "    </tr>\n",
              "    <tr>\n",
              "      <th>6</th>\n",
              "      <td>body_type_x</td>\n",
              "      <td>0.079960</td>\n",
              "    </tr>\n",
              "    <tr>\n",
              "      <th>7</th>\n",
              "      <td>back_legroom</td>\n",
              "      <td>0.023380</td>\n",
              "    </tr>\n",
              "    <tr>\n",
              "      <th>8</th>\n",
              "      <td>width</td>\n",
              "      <td>0.015712</td>\n",
              "    </tr>\n",
              "    <tr>\n",
              "      <th>9</th>\n",
              "      <td>highway_fuel_economy</td>\n",
              "      <td>0.005407</td>\n",
              "    </tr>\n",
              "  </tbody>\n",
              "</table>\n",
              "</div>"
            ],
            "text/plain": [
              "                feature    weight\n",
              "0           owner_count  0.537648\n",
              "1             is_oemcpo  0.417045\n",
              "2       maximum_seating  0.313247\n",
              "3           theft_title  0.285991\n",
              "4         frame_damaged  0.205917\n",
              "5  transmission_display  0.186181\n",
              "6           body_type_x  0.079960\n",
              "7          back_legroom  0.023380\n",
              "8                 width  0.015712\n",
              "9  highway_fuel_economy  0.005407"
            ]
          },
          "metadata": {
            "tags": []
          }
        },
        {
          "output_type": "display_data",
          "data": {
            "text/html": [
              "<div>\n",
              "<style scoped>\n",
              "    .dataframe tbody tr th:only-of-type {\n",
              "        vertical-align: middle;\n",
              "    }\n",
              "\n",
              "    .dataframe tbody tr th {\n",
              "        vertical-align: top;\n",
              "    }\n",
              "\n",
              "    .dataframe thead th {\n",
              "        text-align: right;\n",
              "    }\n",
              "</style>\n",
              "<table border=\"1\" class=\"dataframe\">\n",
              "  <thead>\n",
              "    <tr style=\"text-align: right;\">\n",
              "      <th></th>\n",
              "      <th>feature</th>\n",
              "      <th>weight</th>\n",
              "    </tr>\n",
              "  </thead>\n",
              "  <tbody>\n",
              "    <tr>\n",
              "      <th>0</th>\n",
              "      <td>is_new</td>\n",
              "      <td>-4.332909</td>\n",
              "    </tr>\n",
              "    <tr>\n",
              "      <th>1</th>\n",
              "      <td>salvage</td>\n",
              "      <td>-1.056380</td>\n",
              "    </tr>\n",
              "    <tr>\n",
              "      <th>2</th>\n",
              "      <td>torque_grade</td>\n",
              "      <td>-0.978642</td>\n",
              "    </tr>\n",
              "    <tr>\n",
              "      <th>3</th>\n",
              "      <td>franchise_dealer</td>\n",
              "      <td>-0.579552</td>\n",
              "    </tr>\n",
              "    <tr>\n",
              "      <th>4</th>\n",
              "      <td>is_cpo</td>\n",
              "      <td>-0.337024</td>\n",
              "    </tr>\n",
              "    <tr>\n",
              "      <th>5</th>\n",
              "      <td>has_accidents</td>\n",
              "      <td>-0.159835</td>\n",
              "    </tr>\n",
              "    <tr>\n",
              "      <th>6</th>\n",
              "      <td>transmission_x</td>\n",
              "      <td>-0.155868</td>\n",
              "    </tr>\n",
              "    <tr>\n",
              "      <th>7</th>\n",
              "      <td>wheel_system_x</td>\n",
              "      <td>-0.124528</td>\n",
              "    </tr>\n",
              "    <tr>\n",
              "      <th>8</th>\n",
              "      <td>seller_rating</td>\n",
              "      <td>-0.114108</td>\n",
              "    </tr>\n",
              "    <tr>\n",
              "      <th>9</th>\n",
              "      <td>engine_type_x</td>\n",
              "      <td>-0.100678</td>\n",
              "    </tr>\n",
              "  </tbody>\n",
              "</table>\n",
              "</div>"
            ],
            "text/plain": [
              "            feature    weight\n",
              "0            is_new -4.332909\n",
              "1           salvage -1.056380\n",
              "2      torque_grade -0.978642\n",
              "3  franchise_dealer -0.579552\n",
              "4            is_cpo -0.337024\n",
              "5     has_accidents -0.159835\n",
              "6    transmission_x -0.155868\n",
              "7    wheel_system_x -0.124528\n",
              "8     seller_rating -0.114108\n",
              "9     engine_type_x -0.100678"
            ]
          },
          "metadata": {
            "tags": []
          }
        }
      ]
    },
    {
      "cell_type": "markdown",
      "metadata": {
        "id": "dtRL1GNr62mp"
      },
      "source": [
        "# Random Forest Analysis"
      ]
    },
    {
      "cell_type": "markdown",
      "metadata": {
        "id": "gRLi8A9f2IkU"
      },
      "source": [
        "Examine tranformed trainign dataset to see features with high number of categories.  Random forest models on colab see to suffer from java errors if maxbin size is set too high (maxbin size must be equal to the highest number of categroies in any feature)"
      ]
    },
    {
      "cell_type": "code",
      "metadata": {
        "id": "yRhsyt6C5kKU",
        "outputId": "7d620698-6fe4-404f-e075-8266556bb80a",
        "colab": {
          "base_uri": "https://localhost:8080/"
        }
      },
      "source": [
        "logreg_sampled_df.describe().show()"
      ],
      "execution_count": 10,
      "outputs": [
        {
          "output_type": "stream",
          "text": [
            "+-------+-----------------+-----+-----------------+-----------+-----------+--------+-----------------+------------------+-----------------+-----------------+-------------------+-----------+-------------------+--------------------+-------------------+--------------+-----------------+------------------+---------+-------------------+-----------------+--------------------+------------------+-----------------+------------------+-------------------+-------------------+--------------------+-----------------+-----------------+-------------+------------------+-------------+---------+------------------+------------------+------------------+-----------------+------------------+--------------------+-----------------+-----------------+------------------+--------------------+--------------------+------------+--------------------+------------+------------------+------------------+------------------+------------------+------------------+-------------------+-----------------+------------------+------------------+------------------+-------------------+------------------+-----------------+-------------------+-------------------+-----------------+------------------+\n",
            "|summary|     back_legroom|  bed|       bed_length|  body_type|      cabin|    city|city_fuel_economy|      daysonmarket|       dealer_zip| engine_cylinders|engine_displacement|engine_type|              fleet|       frame_damaged|   franchise_dealer|franchise_make|    front_legroom|  fuel_tank_volume|fuel_type|      has_accidents|           height|highway_fuel_economy|        horsepower|   interior_color|             isCab|             is_cpo|             is_new|           is_oemcpo|         latitude|           length|listing_color|         longitude|major_options|make_name|   maximum_seating|           mileage|        model_name|      owner_count|             price|             salvage|   savings_amount|    seller_rating|             sp_id|             sp_name|         theft_title|transmission|transmission_display|wheel_system|         wheelbase|             width|              year|       torque_ftlb|        torque_rpm|       torque_grade|        sp_name_x|  interior_color_x|   listing_color_x|    wheel_system_x|        fuel_type_x|       body_type_x|           city_x|      engine_type_x|     transmission_x|      make_name_x|      model_name_x|\n",
            "+-------+-----------------+-----+-----------------+-----------+-----------+--------+-----------------+------------------+-----------------+-----------------+-------------------+-----------+-------------------+--------------------+-------------------+--------------+-----------------+------------------+---------+-------------------+-----------------+--------------------+------------------+-----------------+------------------+-------------------+-------------------+--------------------+-----------------+-----------------+-------------+------------------+-------------+---------+------------------+------------------+------------------+-----------------+------------------+--------------------+-----------------+-----------------+------------------+--------------------+--------------------+------------+--------------------+------------+------------------+------------------+------------------+------------------+------------------+-------------------+-----------------+------------------+------------------+------------------+-------------------+------------------+-----------------+-------------------+-------------------+-----------------+------------------+\n",
            "|  count|           599998| 3872|            83882|     599998|      12689|  599998|           599998|            599998|           599998|           599998|             599998|     599998|             599998|              599998|             599998|        486290|           599998|            599998|   599998|             599998|           599998|              599998|            599998|           599998|            599998|             599998|             599998|              599998|           599998|           599998|       599998|            599998|       599998|   599998|            599998|            599998|            599998|           599998|            599998|              599998|           599998|           599998|            599976|              599998|              599998|      599998|              599998|      599998|            599998|            599998|            599998|            599998|            599998|             599998|           599998|            599998|            599998|            599998|             599998|            599998|           599998|             599998|             599998|           599998|            599998|\n",
            "|   mean|34.89984083350977| null|72.32459353547942|       null|       null|    null| 22.7077597171143| 76.10546201820672|50683.76169268003|5.087281957606526| 2938.2509608365363|       null|0.11191037303457678|0.004968349894499648| 0.8117410391367971|          null|35.41249248710385|18.596716766600426|     null|0.08038026793422645|65.85699181570386|   29.49218137946314|247.53597345324485|20302.30188679245|0.0958419861399538|0.06084686948956496| 0.4913966379887933|0.045103483678278926|36.98208850532671|193.6605432401078|         null|-90.63666363585857|         null|     null| 5.449401498004994|29859.074530248436|1597.8020671361933|1.261235870786236|29943.769228959765|0.003473344911149704|552.0181517271724| 4.27172862911143|233140.04218668747|                null|0.001758339194463...|        null|   6.335454451514838|        null| 115.3023222826382| 78.36534147994458|2017.7420024733415|263.80525435084786|3590.7677542258475|0.10021348603638598|5485.087118623729| 366.7302791009303| 2.503266677555592| 0.761914206380688|0.20808236027453425|1.1371354571181904|624.7889909633033|0.44992816642722144|0.18559561865206217|7.008466694888983| 81.16458888196294|\n",
            "| stddev|10.77979093706776| null|9.380614532700573|       null|       null|    null|8.084578395254299|108.86033738540897|27346.82368176883|1.456084070205977| 1313.8654484957558|       null| 0.3152564148224995|  0.0703112624926405|0.39091914664679406|          null|14.43145528224599|5.3074828366852005|     null|0.27188123079842275|7.351382991909871|  7.1297055027031595|  87.8682029283275| 48058.7743531833|0.2943746664721528|0.23904941582074812|0.49992639328954264| 0.20753127769243238|5.001275563752286|  19.685574516569|         null|13.892705208811028|         null|     null|1.1472019063025878| 44408.06329091042| 765.6960222014467|0.695952682093045|19395.843179159514| 0.05883269970949871|1104.484068311596|0.508399459004794|132333.62215725135|                null| 0.04189570817122222|        null|  0.9921335298415636|        null|14.120103715951224|7.4584598054931694| 4.184484243128306| 108.8388025262585| 1155.001884779349|0.11122387929196623| 5103.72425421329|1624.7576792151071|2.1934993091821906|0.8034904511840856|   0.71959442147467|1.6333969518611944|755.9811148110103| 0.5446406794153098| 0.4283032006741981|7.460677803695168|108.73246794773323|\n",
            "|    min|              0.0| Long|             41.5|Convertible|   Crew Cab| hayward|              8.0|                 0|       08816-4351|                2|                700|          H|                  0|                   0|                  0|         Acura|              4.0|               1.9|Biodiesel|                  0|             43.5|                10.0|                67|                 |                 0|                  0|                  0|                   0|          18.3988|            106.1|        black|          -157.913|             |    acura|                 2|                 0|          1 series|                1|             165.0|                   0|                0|              1.0|            100004|\t dijie auto sale...|                   0|           A|                   1|         AWD|              73.5|              42.5|              1923|                68|               200|        0.015111111|              0.0|               0.0|               0.0|               0.0|                0.0|               0.0|              0.0|                0.0|                0.0|              0.0|               0.0|\n",
            "|    max|             47.5|Short|             98.6|      Wagon|Regular Cab|zumbrota|            127.0|              2979|            99403|               12|               8400|          W|                  1|                   1|                  1|         smart|             67.0|              63.5|  Propane|                  1|            117.6|               127.0|               808|              zj/|                 1|                  1|                  1|                   1|          48.9237|            290.0|       yellow|          -66.0785|  Z71 Package|   willys|                15|           1225238|            zephyr|               16|         2000000.0|                   1|           147414|              5.0|             99978|   zwains auto sales|                   1|           M|                  10|         RWD|             201.0|             109.0|              2021|               935|              7500|                1.0|          24606.0|           16298.0|              14.0|               2.0|                7.0|               8.0|           4481.0|                4.0|                2.0|             79.0|            1178.0|\n",
            "+-------+-----------------+-----+-----------------+-----------+-----------+--------+-----------------+------------------+-----------------+-----------------+-------------------+-----------+-------------------+--------------------+-------------------+--------------+-----------------+------------------+---------+-------------------+-----------------+--------------------+------------------+-----------------+------------------+-------------------+-------------------+--------------------+-----------------+-----------------+-------------+------------------+-------------+---------+------------------+------------------+------------------+-----------------+------------------+--------------------+-----------------+-----------------+------------------+--------------------+--------------------+------------+--------------------+------------+------------------+------------------+------------------+------------------+------------------+-------------------+-----------------+------------------+------------------+------------------+-------------------+------------------+-----------------+-------------------+-------------------+-----------------+------------------+\n",
            "\n"
          ],
          "name": "stdout"
        }
      ]
    },
    {
      "cell_type": "markdown",
      "metadata": {
        "id": "Mi5NgdWG0LEO"
      },
      "source": [
        "Attempted to build a Random forest model to see if it could perform better than the logistic regression.  There were issues try to run the random forest model with all the features used in the previous model as the maxbin size needed to set to the highest number categories in any feature.  The SP name and Interior color columns were dropped so the maxbin size could be set at 4482 instead of 24607 or 16298."
      ]
    },
    {
      "cell_type": "code",
      "metadata": {
        "id": "QczqnBl7LHmS"
      },
      "source": [
        "enable_grid_search = True\n",
        "if enable_grid_search:\n",
        "  #Create list of feature columns for use in vector assemeble\n",
        "  #Pull all column names from transformed DF\n",
        "  rf_colList = logreg_sampled_df.columns\n",
        "  #Remove original categorical columns\n",
        "  rf_feature_cols = [i for i in colList if i not in categorical_col_input]\n",
        "  #Remove unneeded columns (bed and cabin columns only apply to trucks, dealer_zip format is inconsistent (5 or 9 digits) fleet is target, isCab is derivative of fleet, sp_id replica of sp_name)\n",
        "  for i in ['bed','bed_length','cabin','dealer_zip','fleet','franchise_make','isCab','major_options','sp_id','listed_date','sp_name_x','interior_color_x']:\n",
        "    rf_feature_cols.remove(i)\n",
        "\n",
        "  paramGrid = ParamGridBuilder().\\\n",
        "  addGrid(rf.numTrees, [20,30,40]).\\\n",
        "  addGrid(rf.maxDepth, [3,5,7]).\\\n",
        "  build()\n",
        "\n",
        "  rf_va = feature.VectorAssembler(inputCols=rf_feature_cols, outputCol='features')\n",
        "\n",
        "  rf = RandomForestClassifier(featuresCol='features', labelCol='fleet', maxBins=4482)\n",
        "\n",
        "  rf_pipe = Pipeline(stages = [rf_va,rf])\n",
        "\n",
        "  all_models = []\n",
        "  for j in range(len(paramGrid)):\n",
        "    print(\"Fitting model {}\".format(j+1))\n",
        "    model = rf_pipe.fit(training_df, paramGrid[j])\n",
        "    all_models.append(model)\n",
        "      \n",
        "  scores =[]\n",
        "  print('Model fitting complete -> Evaluating Scores')\n",
        "  for m in all_models:\n",
        "    score_rf_pipe_1 = BinaryClassificationEvaluator(labelCol='fleet',metricName = 'areaUnderROC').evaluate(m.transform(validation_df))\n",
        "    scores.append(score_rf_pipe_1)\n",
        "        \n",
        "  print(max(scores), '\\n', paramGrid[scores.index(max(scores))])\n",
        "  pass\n"
      ],
      "execution_count": null,
      "outputs": []
    },
    {
      "cell_type": "code",
      "metadata": {
        "id": "yJImrZNN3mAv",
        "outputId": "69c96ca9-e2ba-478f-97d1-50f734751899",
        "colab": {
          "base_uri": "https://localhost:8080/"
        }
      },
      "source": [
        "scores"
      ],
      "execution_count": 46,
      "outputs": [
        {
          "output_type": "execute_result",
          "data": {
            "text/plain": [
              "[0.9278408281025927,\n",
              " 0.9278404795137684,\n",
              " 0.9278417821187392,\n",
              " 0.9278440474779828,\n",
              " 0.9278400408910357,\n",
              " 0.9278369220040983,\n",
              " 0.9278357887003245,\n",
              " 0.9278436324169834,\n",
              " 0.9278388086591893]"
            ]
          },
          "metadata": {
            "tags": []
          },
          "execution_count": 46
        }
      ]
    },
    {
      "cell_type": "markdown",
      "metadata": {
        "id": "McJRghqS399v"
      },
      "source": [
        "[0.9278408281025927,\n",
        " 0.9278404795137684,\n",
        " 0.9278417821187392,\n",
        " 0.9278440474779828,\n",
        " 0.9278400408910357,\n",
        " 0.9278369220040983,\n",
        " 0.9278357887003245,\n",
        " 0.9278436324169834,\n",
        " 0.9278388086591893]"
      ]
    },
    {
      "cell_type": "code",
      "metadata": {
        "id": "8cL6JVs82_Om",
        "outputId": "6a70036d-3d73-4ef1-c1de-4dfe0f285d37",
        "colab": {
          "base_uri": "https://localhost:8080/"
        }
      },
      "source": [
        "print(max(scores),'\\n', paramGrid[scores.index(max(scores))])"
      ],
      "execution_count": 43,
      "outputs": [
        {
          "output_type": "stream",
          "text": [
            "0.9278440474779828 \n",
            " {Param(parent='RandomForestClassifier_05e3df0203ea', name='numTrees', doc='Number of trees to train (>= 1).'): 30, Param(parent='RandomForestClassifier_05e3df0203ea', name='maxDepth', doc='Maximum depth of the tree. (>= 0) E.g., depth 0 means 1 leaf node; depth 1 means 1 internal node + 2 leaf nodes.'): 3}\n"
          ],
          "name": "stdout"
        }
      ]
    },
    {
      "cell_type": "code",
      "metadata": {
        "id": "qnpsdT0-Dl1i"
      },
      "source": [
        "#Random Forest\n",
        "maxdepth = 3\n",
        "numtrees = 30\n",
        "\n",
        "#Create list of feature columns for use in vector assemeble\n",
        "#Pull all column names from transformed DF\n",
        "rf_colList = logreg_sampled_df.columns\n",
        "#Remove original categorical columns\n",
        "rf_feature_cols = [i for i in colList if i not in categorical_col_input]\n",
        "#Remove unneeded columns (bed and cabin columns only apply to trucks, dealer_zip format is inconsistent (5 or 9 digits) and info captured in city field, fleet is target, isCab is derivative of fleet, sp_id incomplete, and replicates sp_name)\n",
        "for i in ['bed','bed_length','cabin','dealer_zip','fleet','franchise_make','isCab','major_options','sp_id','listed_date','sp_name_x','interior_color_x']:\n",
        "  rf_feature_cols.remove(i)\n",
        "\n",
        "#Second preprocessing step to create feature vector and scale so feature coeffcients can be compared for importance\n",
        "rf_va = feature.VectorAssembler(inputCols=rf_feature_cols, outputCol='features')\n",
        "\n",
        "rf = RandomForestClassifier(featuresCol='features', labelCol='fleet', maxBins=4482, numTrees = numtrees, maxDepth = maxdepth)\n",
        "\n",
        "rf_pipe = Pipeline(stages = [rf_va,rf]).fit(training_df)\n",
        "\n",
        "score_rf = BinaryClassificationEvaluator(labelCol='fleet',metricName = 'areaUnderROC').evaluate(rf_pipe.transform(validation_df))\n",
        "\n",
        "score_rf\n"
      ],
      "execution_count": null,
      "outputs": []
    },
    {
      "cell_type": "code",
      "metadata": {
        "id": "W8w5o-6fFgsT",
        "outputId": "3fa7cd34-514b-48bc-98bb-d117b3e0e8da",
        "colab": {
          "base_uri": "https://localhost:8080/",
          "height": 1000
        }
      },
      "source": [
        "pd.DataFrame(list(zip(rf_feature_cols, rf_pipe.stages[-1].featureImportances.toArray())),\n",
        "            columns = ['column', 'weight']).sort_values('weight', ascending=False)"
      ],
      "execution_count": 38,
      "outputs": [
        {
          "output_type": "execute_result",
          "data": {
            "text/html": [
              "<div>\n",
              "<style scoped>\n",
              "    .dataframe tbody tr th:only-of-type {\n",
              "        vertical-align: middle;\n",
              "    }\n",
              "\n",
              "    .dataframe tbody tr th {\n",
              "        vertical-align: top;\n",
              "    }\n",
              "\n",
              "    .dataframe thead th {\n",
              "        text-align: right;\n",
              "    }\n",
              "</style>\n",
              "<table border=\"1\" class=\"dataframe\">\n",
              "  <thead>\n",
              "    <tr style=\"text-align: right;\">\n",
              "      <th></th>\n",
              "      <th>column</th>\n",
              "      <th>weight</th>\n",
              "    </tr>\n",
              "  </thead>\n",
              "  <tbody>\n",
              "    <tr>\n",
              "      <th>30</th>\n",
              "      <td>year</td>\n",
              "      <td>0.305606</td>\n",
              "    </tr>\n",
              "    <tr>\n",
              "      <th>20</th>\n",
              "      <td>mileage</td>\n",
              "      <td>0.158072</td>\n",
              "    </tr>\n",
              "    <tr>\n",
              "      <th>14</th>\n",
              "      <td>is_new</td>\n",
              "      <td>0.144858</td>\n",
              "    </tr>\n",
              "    <tr>\n",
              "      <th>42</th>\n",
              "      <td>model_name_x</td>\n",
              "      <td>0.129474</td>\n",
              "    </tr>\n",
              "    <tr>\n",
              "      <th>24</th>\n",
              "      <td>savings_amount</td>\n",
              "      <td>0.125871</td>\n",
              "    </tr>\n",
              "    <tr>\n",
              "      <th>6</th>\n",
              "      <td>franchise_dealer</td>\n",
              "      <td>0.036897</td>\n",
              "    </tr>\n",
              "    <tr>\n",
              "      <th>21</th>\n",
              "      <td>owner_count</td>\n",
              "      <td>0.017247</td>\n",
              "    </tr>\n",
              "    <tr>\n",
              "      <th>12</th>\n",
              "      <td>horsepower</td>\n",
              "      <td>0.016484</td>\n",
              "    </tr>\n",
              "    <tr>\n",
              "      <th>41</th>\n",
              "      <td>make_name_x</td>\n",
              "      <td>0.013078</td>\n",
              "    </tr>\n",
              "    <tr>\n",
              "      <th>33</th>\n",
              "      <td>torque_grade</td>\n",
              "      <td>0.012281</td>\n",
              "    </tr>\n",
              "    <tr>\n",
              "      <th>22</th>\n",
              "      <td>price</td>\n",
              "      <td>0.007077</td>\n",
              "    </tr>\n",
              "    <tr>\n",
              "      <th>38</th>\n",
              "      <td>city_x</td>\n",
              "      <td>0.007048</td>\n",
              "    </tr>\n",
              "    <tr>\n",
              "      <th>31</th>\n",
              "      <td>torque_ftlb</td>\n",
              "      <td>0.006530</td>\n",
              "    </tr>\n",
              "    <tr>\n",
              "      <th>17</th>\n",
              "      <td>length</td>\n",
              "      <td>0.004766</td>\n",
              "    </tr>\n",
              "    <tr>\n",
              "      <th>9</th>\n",
              "      <td>has_accidents</td>\n",
              "      <td>0.004716</td>\n",
              "    </tr>\n",
              "    <tr>\n",
              "      <th>28</th>\n",
              "      <td>wheelbase</td>\n",
              "      <td>0.003801</td>\n",
              "    </tr>\n",
              "    <tr>\n",
              "      <th>13</th>\n",
              "      <td>is_cpo</td>\n",
              "      <td>0.003134</td>\n",
              "    </tr>\n",
              "    <tr>\n",
              "      <th>29</th>\n",
              "      <td>width</td>\n",
              "      <td>0.001781</td>\n",
              "    </tr>\n",
              "    <tr>\n",
              "      <th>27</th>\n",
              "      <td>transmission_display</td>\n",
              "      <td>0.000706</td>\n",
              "    </tr>\n",
              "    <tr>\n",
              "      <th>5</th>\n",
              "      <td>frame_damaged</td>\n",
              "      <td>0.000555</td>\n",
              "    </tr>\n",
              "    <tr>\n",
              "      <th>1</th>\n",
              "      <td>city_fuel_economy</td>\n",
              "      <td>0.000017</td>\n",
              "    </tr>\n",
              "    <tr>\n",
              "      <th>34</th>\n",
              "      <td>listing_color_x</td>\n",
              "      <td>0.000000</td>\n",
              "    </tr>\n",
              "    <tr>\n",
              "      <th>32</th>\n",
              "      <td>torque_rpm</td>\n",
              "      <td>0.000000</td>\n",
              "    </tr>\n",
              "    <tr>\n",
              "      <th>7</th>\n",
              "      <td>front_legroom</td>\n",
              "      <td>0.000000</td>\n",
              "    </tr>\n",
              "    <tr>\n",
              "      <th>35</th>\n",
              "      <td>wheel_system_x</td>\n",
              "      <td>0.000000</td>\n",
              "    </tr>\n",
              "    <tr>\n",
              "      <th>36</th>\n",
              "      <td>fuel_type_x</td>\n",
              "      <td>0.000000</td>\n",
              "    </tr>\n",
              "    <tr>\n",
              "      <th>2</th>\n",
              "      <td>daysonmarket</td>\n",
              "      <td>0.000000</td>\n",
              "    </tr>\n",
              "    <tr>\n",
              "      <th>39</th>\n",
              "      <td>engine_type_x</td>\n",
              "      <td>0.000000</td>\n",
              "    </tr>\n",
              "    <tr>\n",
              "      <th>40</th>\n",
              "      <td>transmission_x</td>\n",
              "      <td>0.000000</td>\n",
              "    </tr>\n",
              "    <tr>\n",
              "      <th>37</th>\n",
              "      <td>body_type_x</td>\n",
              "      <td>0.000000</td>\n",
              "    </tr>\n",
              "    <tr>\n",
              "      <th>25</th>\n",
              "      <td>seller_rating</td>\n",
              "      <td>0.000000</td>\n",
              "    </tr>\n",
              "    <tr>\n",
              "      <th>26</th>\n",
              "      <td>theft_title</td>\n",
              "      <td>0.000000</td>\n",
              "    </tr>\n",
              "    <tr>\n",
              "      <th>8</th>\n",
              "      <td>fuel_tank_volume</td>\n",
              "      <td>0.000000</td>\n",
              "    </tr>\n",
              "    <tr>\n",
              "      <th>3</th>\n",
              "      <td>engine_cylinders</td>\n",
              "      <td>0.000000</td>\n",
              "    </tr>\n",
              "    <tr>\n",
              "      <th>23</th>\n",
              "      <td>salvage</td>\n",
              "      <td>0.000000</td>\n",
              "    </tr>\n",
              "    <tr>\n",
              "      <th>4</th>\n",
              "      <td>engine_displacement</td>\n",
              "      <td>0.000000</td>\n",
              "    </tr>\n",
              "    <tr>\n",
              "      <th>19</th>\n",
              "      <td>maximum_seating</td>\n",
              "      <td>0.000000</td>\n",
              "    </tr>\n",
              "    <tr>\n",
              "      <th>18</th>\n",
              "      <td>longitude</td>\n",
              "      <td>0.000000</td>\n",
              "    </tr>\n",
              "    <tr>\n",
              "      <th>16</th>\n",
              "      <td>latitude</td>\n",
              "      <td>0.000000</td>\n",
              "    </tr>\n",
              "    <tr>\n",
              "      <th>15</th>\n",
              "      <td>is_oemcpo</td>\n",
              "      <td>0.000000</td>\n",
              "    </tr>\n",
              "    <tr>\n",
              "      <th>11</th>\n",
              "      <td>highway_fuel_economy</td>\n",
              "      <td>0.000000</td>\n",
              "    </tr>\n",
              "    <tr>\n",
              "      <th>10</th>\n",
              "      <td>height</td>\n",
              "      <td>0.000000</td>\n",
              "    </tr>\n",
              "    <tr>\n",
              "      <th>0</th>\n",
              "      <td>back_legroom</td>\n",
              "      <td>0.000000</td>\n",
              "    </tr>\n",
              "  </tbody>\n",
              "</table>\n",
              "</div>"
            ],
            "text/plain": [
              "                  column    weight\n",
              "30                  year  0.305606\n",
              "20               mileage  0.158072\n",
              "14                is_new  0.144858\n",
              "42          model_name_x  0.129474\n",
              "24        savings_amount  0.125871\n",
              "6       franchise_dealer  0.036897\n",
              "21           owner_count  0.017247\n",
              "12            horsepower  0.016484\n",
              "41           make_name_x  0.013078\n",
              "33          torque_grade  0.012281\n",
              "22                 price  0.007077\n",
              "38                city_x  0.007048\n",
              "31           torque_ftlb  0.006530\n",
              "17                length  0.004766\n",
              "9          has_accidents  0.004716\n",
              "28             wheelbase  0.003801\n",
              "13                is_cpo  0.003134\n",
              "29                 width  0.001781\n",
              "27  transmission_display  0.000706\n",
              "5          frame_damaged  0.000555\n",
              "1      city_fuel_economy  0.000017\n",
              "34       listing_color_x  0.000000\n",
              "32            torque_rpm  0.000000\n",
              "7          front_legroom  0.000000\n",
              "35        wheel_system_x  0.000000\n",
              "36           fuel_type_x  0.000000\n",
              "2           daysonmarket  0.000000\n",
              "39         engine_type_x  0.000000\n",
              "40        transmission_x  0.000000\n",
              "37           body_type_x  0.000000\n",
              "25         seller_rating  0.000000\n",
              "26           theft_title  0.000000\n",
              "8       fuel_tank_volume  0.000000\n",
              "3       engine_cylinders  0.000000\n",
              "23               salvage  0.000000\n",
              "4    engine_displacement  0.000000\n",
              "19       maximum_seating  0.000000\n",
              "18             longitude  0.000000\n",
              "16              latitude  0.000000\n",
              "15             is_oemcpo  0.000000\n",
              "11  highway_fuel_economy  0.000000\n",
              "10                height  0.000000\n",
              "0           back_legroom  0.000000"
            ]
          },
          "metadata": {
            "tags": []
          },
          "execution_count": 38
        }
      ]
    },
    {
      "cell_type": "markdown",
      "metadata": {
        "id": "jTEnh5Zk6-ZP"
      },
      "source": [
        "# Regression Comparison"
      ]
    },
    {
      "cell_type": "code",
      "metadata": {
        "id": "kp5Cz4tBGh12",
        "outputId": "100e6135-b739-4fd0-829b-b70e1ba3c6bc",
        "colab": {
          "base_uri": "https://localhost:8080/"
        }
      },
      "source": [
        "comp_score_rf = BinaryClassificationEvaluator(labelCol='fleet',metricName = 'areaUnderROC').evaluate(rf_pipe.transform(testing_df))\n",
        "comp_score_lr_pipe_1 = BinaryClassificationEvaluator(labelCol='fleet',metricName = 'areaUnderROC').evaluate(opt_lr.transform(testing_df))\n",
        "\n",
        "print('Random Forest ROC Score:',comp_score_rf,\"\\nLinear Regression ROC Score:\",comp_score_lr_pipe_1)\n",
        "\n"
      ],
      "execution_count": 39,
      "outputs": [
        {
          "output_type": "stream",
          "text": [
            "Random Forest ROC Score: 0.9208620978621853 \n",
            "Linear Regression ROC Score: 0.8709482920611106\n"
          ],
          "name": "stdout"
        }
      ]
    },
    {
      "cell_type": "markdown",
      "metadata": {
        "id": "h62xeTbJJO18"
      },
      "source": [
        "https://stackoverflow.com/questions/52847408/pyspark-extract-roc-curve"
      ]
    },
    {
      "cell_type": "code",
      "metadata": {
        "id": "tkDCNI2tW-Q-",
        "outputId": "4a3ccaa7-d34b-42f9-ffbf-ae2357c4bfcb",
        "colab": {
          "base_uri": "https://localhost:8080/",
          "height": 374
        }
      },
      "source": [
        "import matplotlib.pyplot as plt\n",
        "from pyspark.mllib.evaluation import BinaryClassificationMetrics\n",
        "\n",
        "class CurveMetrics(BinaryClassificationMetrics):\n",
        "    def __init__(self, *args):\n",
        "        super(CurveMetrics, self).__init__(*args)\n",
        "\n",
        "    def _to_list(self, rdd):\n",
        "        points = []\n",
        "        # Note this collect could be inefficient for large datasets \n",
        "        # considering there may be one probability per datapoint (at most)\n",
        "        # The Scala version takes a numBins parameter, \n",
        "        # but it doesn't seem possible to pass this from Python to Java\n",
        "        for row in rdd.collect():\n",
        "            # Results are returned as type scala.Tuple2, \n",
        "            # which doesn't appear to have a py4j mapping\n",
        "            points += [(float(row._1()), float(row._2()))]\n",
        "        return points\n",
        "\n",
        "    def get_curve(self, method):\n",
        "        rdd = getattr(self._java_model, method)().toJavaRDD()\n",
        "        return self._to_list(rdd)\n",
        "\n",
        "predictions = rf_pipe.transform(testing_df)\n",
        "\n",
        "preds = predictions.select('fleet','probability').rdd.map(lambda row: (float(row['probability'][1]), float(row['fleet'])))\n",
        "points = CurveMetrics(preds).get_curve('roc')\n",
        "\n",
        "x_val = [x[0] for x in points]\n",
        "y_val = [x[1] for x in points]\n",
        "plt.plot(x_val, y_val, label='Random Forest')\n",
        "\n",
        "plt.plot(opt_lr.stages[-1].summary.roc.select('FPR').collect(), opt_lr.stages[-1].summary.roc.select('TPR').collect(), label = \"Logisitic Regression\")\n",
        "plt.title('Fleet Prediction ROC Curve Comparison')\n",
        "plt.legend()\n",
        "plt.xlabel('FPR')\n",
        "plt.ylabel('TPR')\n",
        "plt.show()"
      ],
      "execution_count": 40,
      "outputs": [
        {
          "output_type": "error",
          "ename": "KeyboardInterrupt",
          "evalue": "ignored",
          "traceback": [
            "\u001b[0;31m---------------------------------------------------------------------------\u001b[0m",
            "\u001b[0;31mKeyboardInterrupt\u001b[0m                         Traceback (most recent call last)",
            "\u001b[0;32m<ipython-input-40-126ecd80a96c>\u001b[0m in \u001b[0;36m<module>\u001b[0;34m()\u001b[0m\n\u001b[1;32m     25\u001b[0m \u001b[0;34m\u001b[0m\u001b[0m\n\u001b[1;32m     26\u001b[0m \u001b[0mpreds\u001b[0m \u001b[0;34m=\u001b[0m \u001b[0mpredictions\u001b[0m\u001b[0;34m.\u001b[0m\u001b[0mselect\u001b[0m\u001b[0;34m(\u001b[0m\u001b[0;34m'fleet'\u001b[0m\u001b[0;34m,\u001b[0m\u001b[0;34m'probability'\u001b[0m\u001b[0;34m)\u001b[0m\u001b[0;34m.\u001b[0m\u001b[0mrdd\u001b[0m\u001b[0;34m.\u001b[0m\u001b[0mmap\u001b[0m\u001b[0;34m(\u001b[0m\u001b[0;32mlambda\u001b[0m \u001b[0mrow\u001b[0m\u001b[0;34m:\u001b[0m \u001b[0;34m(\u001b[0m\u001b[0mfloat\u001b[0m\u001b[0;34m(\u001b[0m\u001b[0mrow\u001b[0m\u001b[0;34m[\u001b[0m\u001b[0;34m'probability'\u001b[0m\u001b[0;34m]\u001b[0m\u001b[0;34m[\u001b[0m\u001b[0;36m1\u001b[0m\u001b[0;34m]\u001b[0m\u001b[0;34m)\u001b[0m\u001b[0;34m,\u001b[0m \u001b[0mfloat\u001b[0m\u001b[0;34m(\u001b[0m\u001b[0mrow\u001b[0m\u001b[0;34m[\u001b[0m\u001b[0;34m'fleet'\u001b[0m\u001b[0;34m]\u001b[0m\u001b[0;34m)\u001b[0m\u001b[0;34m)\u001b[0m\u001b[0;34m)\u001b[0m\u001b[0;34m\u001b[0m\u001b[0;34m\u001b[0m\u001b[0m\n\u001b[0;32m---> 27\u001b[0;31m \u001b[0mpoints\u001b[0m \u001b[0;34m=\u001b[0m \u001b[0mCurveMetrics\u001b[0m\u001b[0;34m(\u001b[0m\u001b[0mpreds\u001b[0m\u001b[0;34m)\u001b[0m\u001b[0;34m.\u001b[0m\u001b[0mget_curve\u001b[0m\u001b[0;34m(\u001b[0m\u001b[0;34m'roc'\u001b[0m\u001b[0;34m)\u001b[0m\u001b[0;34m\u001b[0m\u001b[0;34m\u001b[0m\u001b[0m\n\u001b[0m\u001b[1;32m     28\u001b[0m \u001b[0;34m\u001b[0m\u001b[0m\n\u001b[1;32m     29\u001b[0m \u001b[0mx_val\u001b[0m \u001b[0;34m=\u001b[0m \u001b[0;34m[\u001b[0m\u001b[0mx\u001b[0m\u001b[0;34m[\u001b[0m\u001b[0;36m0\u001b[0m\u001b[0;34m]\u001b[0m \u001b[0;32mfor\u001b[0m \u001b[0mx\u001b[0m \u001b[0;32min\u001b[0m \u001b[0mpoints\u001b[0m\u001b[0;34m]\u001b[0m\u001b[0;34m\u001b[0m\u001b[0;34m\u001b[0m\u001b[0m\n",
            "\u001b[0;32m<ipython-input-40-126ecd80a96c>\u001b[0m in \u001b[0;36mget_curve\u001b[0;34m(self, method)\u001b[0m\n\u001b[1;32m     19\u001b[0m \u001b[0;34m\u001b[0m\u001b[0m\n\u001b[1;32m     20\u001b[0m     \u001b[0;32mdef\u001b[0m \u001b[0mget_curve\u001b[0m\u001b[0;34m(\u001b[0m\u001b[0mself\u001b[0m\u001b[0;34m,\u001b[0m \u001b[0mmethod\u001b[0m\u001b[0;34m)\u001b[0m\u001b[0;34m:\u001b[0m\u001b[0;34m\u001b[0m\u001b[0;34m\u001b[0m\u001b[0m\n\u001b[0;32m---> 21\u001b[0;31m         \u001b[0mrdd\u001b[0m \u001b[0;34m=\u001b[0m \u001b[0mgetattr\u001b[0m\u001b[0;34m(\u001b[0m\u001b[0mself\u001b[0m\u001b[0;34m.\u001b[0m\u001b[0m_java_model\u001b[0m\u001b[0;34m,\u001b[0m \u001b[0mmethod\u001b[0m\u001b[0;34m)\u001b[0m\u001b[0;34m(\u001b[0m\u001b[0;34m)\u001b[0m\u001b[0;34m.\u001b[0m\u001b[0mtoJavaRDD\u001b[0m\u001b[0;34m(\u001b[0m\u001b[0;34m)\u001b[0m\u001b[0;34m\u001b[0m\u001b[0;34m\u001b[0m\u001b[0m\n\u001b[0m\u001b[1;32m     22\u001b[0m         \u001b[0;32mreturn\u001b[0m \u001b[0mself\u001b[0m\u001b[0;34m.\u001b[0m\u001b[0m_to_list\u001b[0m\u001b[0;34m(\u001b[0m\u001b[0mrdd\u001b[0m\u001b[0;34m)\u001b[0m\u001b[0;34m\u001b[0m\u001b[0;34m\u001b[0m\u001b[0m\n\u001b[1;32m     23\u001b[0m \u001b[0;34m\u001b[0m\u001b[0m\n",
            "\u001b[0;32m/usr/local/lib/python3.6/dist-packages/py4j/java_gateway.py\u001b[0m in \u001b[0;36m__call__\u001b[0;34m(self, *args)\u001b[0m\n\u001b[1;32m   1301\u001b[0m             \u001b[0mproto\u001b[0m\u001b[0;34m.\u001b[0m\u001b[0mEND_COMMAND_PART\u001b[0m\u001b[0;34m\u001b[0m\u001b[0;34m\u001b[0m\u001b[0m\n\u001b[1;32m   1302\u001b[0m \u001b[0;34m\u001b[0m\u001b[0m\n\u001b[0;32m-> 1303\u001b[0;31m         \u001b[0manswer\u001b[0m \u001b[0;34m=\u001b[0m \u001b[0mself\u001b[0m\u001b[0;34m.\u001b[0m\u001b[0mgateway_client\u001b[0m\u001b[0;34m.\u001b[0m\u001b[0msend_command\u001b[0m\u001b[0;34m(\u001b[0m\u001b[0mcommand\u001b[0m\u001b[0;34m)\u001b[0m\u001b[0;34m\u001b[0m\u001b[0;34m\u001b[0m\u001b[0m\n\u001b[0m\u001b[1;32m   1304\u001b[0m         return_value = get_return_value(\n\u001b[1;32m   1305\u001b[0m             answer, self.gateway_client, self.target_id, self.name)\n",
            "\u001b[0;32m/usr/local/lib/python3.6/dist-packages/py4j/java_gateway.py\u001b[0m in \u001b[0;36msend_command\u001b[0;34m(self, command, retry, binary)\u001b[0m\n\u001b[1;32m   1031\u001b[0m         \u001b[0mconnection\u001b[0m \u001b[0;34m=\u001b[0m \u001b[0mself\u001b[0m\u001b[0;34m.\u001b[0m\u001b[0m_get_connection\u001b[0m\u001b[0;34m(\u001b[0m\u001b[0;34m)\u001b[0m\u001b[0;34m\u001b[0m\u001b[0;34m\u001b[0m\u001b[0m\n\u001b[1;32m   1032\u001b[0m         \u001b[0;32mtry\u001b[0m\u001b[0;34m:\u001b[0m\u001b[0;34m\u001b[0m\u001b[0;34m\u001b[0m\u001b[0m\n\u001b[0;32m-> 1033\u001b[0;31m             \u001b[0mresponse\u001b[0m \u001b[0;34m=\u001b[0m \u001b[0mconnection\u001b[0m\u001b[0;34m.\u001b[0m\u001b[0msend_command\u001b[0m\u001b[0;34m(\u001b[0m\u001b[0mcommand\u001b[0m\u001b[0;34m)\u001b[0m\u001b[0;34m\u001b[0m\u001b[0;34m\u001b[0m\u001b[0m\n\u001b[0m\u001b[1;32m   1034\u001b[0m             \u001b[0;32mif\u001b[0m \u001b[0mbinary\u001b[0m\u001b[0;34m:\u001b[0m\u001b[0;34m\u001b[0m\u001b[0;34m\u001b[0m\u001b[0m\n\u001b[1;32m   1035\u001b[0m                 \u001b[0;32mreturn\u001b[0m \u001b[0mresponse\u001b[0m\u001b[0;34m,\u001b[0m \u001b[0mself\u001b[0m\u001b[0;34m.\u001b[0m\u001b[0m_create_connection_guard\u001b[0m\u001b[0;34m(\u001b[0m\u001b[0mconnection\u001b[0m\u001b[0;34m)\u001b[0m\u001b[0;34m\u001b[0m\u001b[0;34m\u001b[0m\u001b[0m\n",
            "\u001b[0;32m/usr/local/lib/python3.6/dist-packages/py4j/java_gateway.py\u001b[0m in \u001b[0;36msend_command\u001b[0;34m(self, command)\u001b[0m\n\u001b[1;32m   1198\u001b[0m \u001b[0;34m\u001b[0m\u001b[0m\n\u001b[1;32m   1199\u001b[0m         \u001b[0;32mtry\u001b[0m\u001b[0;34m:\u001b[0m\u001b[0;34m\u001b[0m\u001b[0;34m\u001b[0m\u001b[0m\n\u001b[0;32m-> 1200\u001b[0;31m             \u001b[0manswer\u001b[0m \u001b[0;34m=\u001b[0m \u001b[0msmart_decode\u001b[0m\u001b[0;34m(\u001b[0m\u001b[0mself\u001b[0m\u001b[0;34m.\u001b[0m\u001b[0mstream\u001b[0m\u001b[0;34m.\u001b[0m\u001b[0mreadline\u001b[0m\u001b[0;34m(\u001b[0m\u001b[0;34m)\u001b[0m\u001b[0;34m[\u001b[0m\u001b[0;34m:\u001b[0m\u001b[0;34m-\u001b[0m\u001b[0;36m1\u001b[0m\u001b[0;34m]\u001b[0m\u001b[0;34m)\u001b[0m\u001b[0;34m\u001b[0m\u001b[0;34m\u001b[0m\u001b[0m\n\u001b[0m\u001b[1;32m   1201\u001b[0m             \u001b[0mlogger\u001b[0m\u001b[0;34m.\u001b[0m\u001b[0mdebug\u001b[0m\u001b[0;34m(\u001b[0m\u001b[0;34m\"Answer received: {0}\"\u001b[0m\u001b[0;34m.\u001b[0m\u001b[0mformat\u001b[0m\u001b[0;34m(\u001b[0m\u001b[0manswer\u001b[0m\u001b[0;34m)\u001b[0m\u001b[0;34m)\u001b[0m\u001b[0;34m\u001b[0m\u001b[0;34m\u001b[0m\u001b[0m\n\u001b[1;32m   1202\u001b[0m             \u001b[0;32mif\u001b[0m \u001b[0manswer\u001b[0m\u001b[0;34m.\u001b[0m\u001b[0mstartswith\u001b[0m\u001b[0;34m(\u001b[0m\u001b[0mproto\u001b[0m\u001b[0;34m.\u001b[0m\u001b[0mRETURN_MESSAGE\u001b[0m\u001b[0;34m)\u001b[0m\u001b[0;34m:\u001b[0m\u001b[0;34m\u001b[0m\u001b[0;34m\u001b[0m\u001b[0m\n",
            "\u001b[0;32m/usr/lib/python3.6/socket.py\u001b[0m in \u001b[0;36mreadinto\u001b[0;34m(self, b)\u001b[0m\n\u001b[1;32m    584\u001b[0m         \u001b[0;32mwhile\u001b[0m \u001b[0;32mTrue\u001b[0m\u001b[0;34m:\u001b[0m\u001b[0;34m\u001b[0m\u001b[0;34m\u001b[0m\u001b[0m\n\u001b[1;32m    585\u001b[0m             \u001b[0;32mtry\u001b[0m\u001b[0;34m:\u001b[0m\u001b[0;34m\u001b[0m\u001b[0;34m\u001b[0m\u001b[0m\n\u001b[0;32m--> 586\u001b[0;31m                 \u001b[0;32mreturn\u001b[0m \u001b[0mself\u001b[0m\u001b[0;34m.\u001b[0m\u001b[0m_sock\u001b[0m\u001b[0;34m.\u001b[0m\u001b[0mrecv_into\u001b[0m\u001b[0;34m(\u001b[0m\u001b[0mb\u001b[0m\u001b[0;34m)\u001b[0m\u001b[0;34m\u001b[0m\u001b[0;34m\u001b[0m\u001b[0m\n\u001b[0m\u001b[1;32m    587\u001b[0m             \u001b[0;32mexcept\u001b[0m \u001b[0mtimeout\u001b[0m\u001b[0;34m:\u001b[0m\u001b[0;34m\u001b[0m\u001b[0;34m\u001b[0m\u001b[0m\n\u001b[1;32m    588\u001b[0m                 \u001b[0mself\u001b[0m\u001b[0;34m.\u001b[0m\u001b[0m_timeout_occurred\u001b[0m \u001b[0;34m=\u001b[0m \u001b[0;32mTrue\u001b[0m\u001b[0;34m\u001b[0m\u001b[0;34m\u001b[0m\u001b[0m\n",
            "\u001b[0;31mKeyboardInterrupt\u001b[0m: "
          ]
        }
      ]
    },
    {
      "cell_type": "markdown",
      "metadata": {
        "id": "b4Vm_gntH46N"
      },
      "source": [
        "![image.png](data:image/png;base64,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)"
      ]
    },
    {
      "cell_type": "markdown",
      "metadata": {
        "id": "4dCMZo0y5RF0"
      },
      "source": [
        "# Vehicle Options Logistic Regression"
      ]
    },
    {
      "cell_type": "code",
      "metadata": {
        "id": "WLyLZInq5KDe"
      },
      "source": [
        "tokenizer = feature.Tokenizer().setInputCol('major_options').setOutputCol('words')\n",
        "\n",
        "cv = feature.CountVectorizer(minTF=1., minDF=5)\\\n",
        "  .setInputCol(\"words\")\\\n",
        "  .setOutputCol(\"tf\")\n",
        "\n",
        "idf = feature.IDF().\\\n",
        "    setInputCol('tf').\\\n",
        "    setOutputCol('tfidf')\n",
        "\n",
        "if enable_grid:\n",
        "  lr_options = LogisticRegression(labelCol='fleet',featuresCol='tfidf')\n",
        "\n",
        "  grid_options = ParamGridBuilder().\\\n",
        "  addGrid(lr.regParam, [0., 0.01, 0.02, 0.03]).\\\n",
        "  addGrid(lr.elasticNetParam, [0., 0.1, 0.3]).\\\n",
        "  build()\n",
        "\n",
        "  lr_pipe_options = Pipeline(stages = [tokenizer,cv,idf,lr_options]).fit(training_df)\n",
        "\n",
        "  all_models = []\n",
        "  for j in range(len(grid)):\n",
        "    print(\"Fitting model {}\".format(j+1))\n",
        "    model = lr_pipe_options.fit(training_df, grid_options[j])\n",
        "    all_models.append(model)\n",
        "      \n",
        "  scores =[]\n",
        "  for m in all_models:\n",
        "    score_lr_pipe_options = BinaryClassificationEvaluator(labelCol='fleet',metricName = 'areaUnderROC').evaluate(m.transform(validation_df))\n",
        "    scores.append(score_lr_pipe_options)\n",
        "        \n",
        "  print(max(scores), '\\n', grid_options[scores.index(max(scores))])\n",
        "  pass\n",
        "\n"
      ],
      "execution_count": null,
      "outputs": []
    },
    {
      "cell_type": "code",
      "metadata": {
        "id": "NJ-oOEZEtKH4",
        "outputId": "65169c5a-0229-4877-92e9-139fa26451ed",
        "colab": {
          "base_uri": "https://localhost:8080/"
        }
      },
      "source": [
        "score_lr_pipe"
      ],
      "execution_count": null,
      "outputs": [
        {
          "output_type": "execute_result",
          "data": {
            "text/plain": [
              "0.8731230343206494"
            ]
          },
          "metadata": {
            "tags": []
          },
          "execution_count": 38
        }
      ]
    },
    {
      "cell_type": "code",
      "metadata": {
        "id": "tj0Os15QMnom",
        "outputId": "137576e8-f5f2-4428-faa8-5938ab0f32ed",
        "colab": {
          "base_uri": "https://localhost:8080/"
        }
      },
      "source": [
        "score_lr_pipe_options"
      ],
      "execution_count": null,
      "outputs": [
        {
          "output_type": "execute_result",
          "data": {
            "text/plain": [
              "0.7479094502499525"
            ]
          },
          "metadata": {
            "tags": []
          },
          "execution_count": 39
        }
      ]
    }
  ]
}