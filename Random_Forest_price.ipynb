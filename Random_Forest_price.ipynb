{
  "nbformat": 4,
  "nbformat_minor": 0,
  "metadata": {
    "colab": {
      "name": "Untitled5.ipynb",
      "provenance": [],
      "include_colab_link": true
    },
    "kernelspec": {
      "name": "python3",
      "display_name": "Python 3"
    }
  },
  "cells": [
    {
      "cell_type": "markdown",
      "metadata": {
        "id": "view-in-github",
        "colab_type": "text"
      },
      "source": [
        "<a href=\"https://colab.research.google.com/github/pjsandwich/bda-718-group-1/blob/master/Random_Forest_price.ipynb\" target=\"_parent\"><img src=\"https://colab.research.google.com/assets/colab-badge.svg\" alt=\"Open In Colab\"/></a>"
      ]
    },
    {
      "cell_type": "code",
      "metadata": {
        "colab": {
          "base_uri": "https://localhost:8080/"
        },
        "id": "1RHV6KlU_6dj",
        "outputId": "033d26bd-a860-46b6-e286-0a49dfc0dd69"
      },
      "source": [
        "%%bash\n",
        "# Need to install pyspark\n",
        "# if pyspark is already installed, will print a message indicating pyspark already isntalled\n",
        "pip install pyspark\n",
        "pip install seaborn"
      ],
      "execution_count": 2,
      "outputs": [
        {
          "output_type": "stream",
          "text": [
            "Requirement already satisfied: pyspark in /usr/local/lib/python3.6/dist-packages (3.0.1)\n",
            "Requirement already satisfied: py4j==0.10.9 in /usr/local/lib/python3.6/dist-packages (from pyspark) (0.10.9)\n",
            "Requirement already satisfied: seaborn in /usr/local/lib/python3.6/dist-packages (0.11.0)\n",
            "Requirement already satisfied: scipy>=1.0 in /usr/local/lib/python3.6/dist-packages (from seaborn) (1.4.1)\n",
            "Requirement already satisfied: numpy>=1.15 in /usr/local/lib/python3.6/dist-packages (from seaborn) (1.18.5)\n",
            "Requirement already satisfied: pandas>=0.23 in /usr/local/lib/python3.6/dist-packages (from seaborn) (1.1.4)\n",
            "Requirement already satisfied: matplotlib>=2.2 in /usr/local/lib/python3.6/dist-packages (from seaborn) (3.2.2)\n",
            "Requirement already satisfied: python-dateutil>=2.7.3 in /usr/local/lib/python3.6/dist-packages (from pandas>=0.23->seaborn) (2.8.1)\n",
            "Requirement already satisfied: pytz>=2017.2 in /usr/local/lib/python3.6/dist-packages (from pandas>=0.23->seaborn) (2018.9)\n",
            "Requirement already satisfied: cycler>=0.10 in /usr/local/lib/python3.6/dist-packages (from matplotlib>=2.2->seaborn) (0.10.0)\n",
            "Requirement already satisfied: pyparsing!=2.0.4,!=2.1.2,!=2.1.6,>=2.0.1 in /usr/local/lib/python3.6/dist-packages (from matplotlib>=2.2->seaborn) (2.4.7)\n",
            "Requirement already satisfied: kiwisolver>=1.0.1 in /usr/local/lib/python3.6/dist-packages (from matplotlib>=2.2->seaborn) (1.3.1)\n",
            "Requirement already satisfied: six>=1.5 in /usr/local/lib/python3.6/dist-packages (from python-dateutil>=2.7.3->pandas>=0.23->seaborn) (1.15.0)\n"
          ],
          "name": "stdout"
        }
      ]
    },
    {
      "cell_type": "code",
      "metadata": {
        "colab": {
          "base_uri": "https://localhost:8080/"
        },
        "id": "bmu-n-IX_7jx",
        "outputId": "58119973-dcac-414b-b70f-0d4a259bf38d"
      },
      "source": [
        "%matplotlib inline\n",
        "from pyspark.sql import SparkSession\n",
        "from pyspark.sql import SQLContext\n",
        "from pyspark.ml import feature\n",
        "import re\n",
        "from pyspark.sql import functions as fn\n",
        "from pyspark.sql.functions import col, regexp_replace, split\n",
        "from pyspark.sql.utils import AnalysisException\n",
        "from pyspark.sql import Row\n",
        "from pyspark.sql.types import IntegerType, DateType, FloatType, BooleanType\n",
        "import os\n",
        "import pandas as pd\n",
        "import seaborn as sns\n",
        "import matplotlib.pyplot as plt\n",
        "\n",
        "spark = SparkSession \\\n",
        "  .builder \\\n",
        "  .master(\"local[*]\")\\\n",
        "  .config(\"spark.memory.fraction\", 0.8) \\\n",
        "  .config(\"spark.executor.memory\", \"12g\") \\\n",
        "  .config(\"spark.driver.memory\", \"12g\")\\\n",
        "  .config(\"spark.memory.offHeap.enabled\",'true')\\\n",
        "  .config(\"spark.memory.offHeap.size\",\"12g\")\\\n",
        "  .getOrCreate()\n",
        "sc = spark.sparkContext\n",
        "sqlContext = SQLContext(sc)\n",
        "\n",
        "from google.colab import drive\n",
        "drive.mount('/content/drive')\n",
        "\n",
        "from pyspark.sql.functions import col, udf\n",
        "from pyspark.ml.stat import Correlation\n",
        "from pyspark.ml.feature import VectorAssembler, StringIndexer\n",
        "from pyspark.sql.functions import create_map, lit\n",
        "from itertools import chain\n",
        "from pyspark.mllib import numpy as np\n",
        "from pyspark.ml.feature import PCA\n",
        "from pyspark.ml.clustering import KMeans\n",
        "from pyspark.ml.evaluation import ClusteringEvaluator\n",
        "from pyspark.ml.tuning import ParamGridBuilder"
      ],
      "execution_count": 3,
      "outputs": [
        {
          "output_type": "stream",
          "text": [
            "Drive already mounted at /content/drive; to attempt to forcibly remount, call drive.mount(\"/content/drive\", force_remount=True).\n"
          ],
          "name": "stdout"
        }
      ]
    },
    {
      "cell_type": "code",
      "metadata": {
        "id": "El-yjdShAI8a"
      },
      "source": [
        "new_df = spark.read.format(\"csv\").option(\"header\", \"true\").option('inferSchema','true').load(\"drive/Shared drives/IST 718 Group1/thecorrectstuff.csv\")"
      ],
      "execution_count": 4,
      "outputs": []
    },
    {
      "cell_type": "code",
      "metadata": {
        "id": "YjJCt5KYb1Fo"
      },
      "source": [
        "reg_df = new_df\n",
        "reg_df = reg_df.drop(*['latitude', 'listed_date', 'listing_color', 'longitude','city', 'dealer_zip','interior_color','sp_name','sp_id'])\n",
        "reg_df = reg_df.withColumn('HasAccidents',fn.when(col('has_accidents') == 'True', 1).otherwise(0))\n",
        "reg_df = reg_df.drop('has_accidents')\n",
        " \n",
        "reg_df = reg_df.withColumn('frameDamaged',fn.when(col('frame_damaged') == 'True', 1).otherwise(0))\n",
        "reg_df = reg_df.drop('frame_damaged')\n",
        " \n",
        "reg_df = reg_df.withColumn('franchiseDealer',fn.when(col('franchise_dealer') == 'True', 1).otherwise(0))\n",
        "reg_df = reg_df.drop('franchise_dealer')\n",
        " \n",
        "reg_df = reg_df.withColumn('isCabNew',fn.when(col('isCab') == 'True', 1).otherwise(0))\n",
        "reg_df = reg_df.drop('isCab')\n",
        " \n",
        "reg_df = reg_df.withColumn('isCpo',fn.when(col('is_cpo') == 'True', 1).otherwise(0))\n",
        "reg_df = reg_df.drop('is_cpo')\n",
        " \n",
        "#reg_df = reg_df.withColumn('isNew',fn.when(col('is_new') == 'True', 1).otherwise(0))\n",
        "#reg_df = reg_df.drop('is_new')\n",
        " \n",
        "reg_df = reg_df.withColumn('isOemcpo',fn.when(col('is_oemcpo') == 'True', 1).otherwise(0))\n",
        "reg_df = reg_df.drop('is_oemcpo')\n",
        " \n",
        "reg_df = reg_df.withColumn('Salvage',fn.when(col('salvage') == 'True', 1).otherwise(0))\n",
        "reg_df = reg_df.drop('salvage')\n",
        " \n",
        "reg_df = reg_df.withColumn('theftTitle',fn.when(col('theft_title') == 'True', 1).otherwise(0))\n",
        "reg_df = reg_df.drop('theft_title')\n",
        "\n",
        "reg_df = reg_df.withColumn('length_category',fn.when(col('length') < 176.4, \"compact\").when(col(\"length\") > 187.2, \"fullsize\").otherwise('midsize'))\n",
        "reg_df = reg_df.withColumn('width_category',fn.when(col('width') < 70.9, \"narrow\").when(col(\"width\") > 74.8, \"wide\").otherwise(\"regular\"))\n",
        "reg_df = reg_df.withColumn('age',2020 - (col('year')))\n",
        "\n",
        "from pyspark.ml import feature, Pipeline #import modules/packages for the entire process\n",
        "# create ordinal pipline for select features\n",
        "ord_cat_feat_eng_pipe = Pipeline(stages=[feature.StringIndexerModel.from_labels(['compact','midsize','fullsize'],\n",
        "                                                                                handleInvalid = \"keep\", \n",
        "                                                                                inputCol=\"length_category\",\n",
        "                                                                                outputCol=\"length_category_idx\"),\n",
        "                                         feature.StringIndexerModel.from_labels(['narrow','regular','wide'],\n",
        "                                                                                handleInvalid = \"keep\",\n",
        "                                                                                inputCol=\"width_category\",\n",
        "                                                                                outputCol=\"width_category_idx\")])\n",
        "\n",
        "reg_df = ord_cat_feat_eng_pipe.fit(reg_df).transform(reg_df)\n",
        "\n",
        "# Develop logic to scope out new cars \n",
        "#new_car_logic = (reg_df[\"isNew\"] == 0)\n",
        "#reg_df = reg_df[new_car_logic]"
      ],
      "execution_count": 5,
      "outputs": []
    },
    {
      "cell_type": "code",
      "metadata": {
        "colab": {
          "base_uri": "https://localhost:8080/"
        },
        "id": "EOp5mBoFAamY",
        "outputId": "91bb367d-e8b9-4eec-95b9-329b331486dc"
      },
      "source": [
        "reg_df.show(5)"
      ],
      "execution_count": 6,
      "outputs": [
        {
          "output_type": "stream",
          "text": [
            "+------------+----+---------------+-----+-----------------+------------+----------------+-------------------+-----------+-----+--------------+-------------+----------------+---------+------+--------------------+----------+------+--------------------+-------------+---------------+-------+----------+-----------+-------+--------------+-------------+------------+--------------------+------------+---------+-----+----+-----------+----------+------------+-----------+-------------+-----------+--------------+--------------+------+-----------+------------+----------------+---------+----------------+------------+---------------+------+----+----+-----+---+------+---+---+---+----+----+----+----+----+-----+----+----+----+-------+-----+--------+----+--------+----+----+------+---------+----+----+-----+----+------+-----+------+-----------+----+----+----+----+----+------+----+------+----+-------+-----+-----+----+------------+------------+---------------+--------+-----+--------+----------+---------------+--------------+---+-------------------+------------------+\n",
            "|back_legroom| bed|      body_type|cabin|city_fuel_economy|daysonmarket|engine_cylinders|engine_displacement|engine_type|fleet|franchise_make|front_legroom|fuel_tank_volume|fuel_type|height|highway_fuel_economy|horsepower|length|       major_options|    make_name|maximum_seating|mileage|model_name|owner_count|  price|savings_amount|seller_rating|transmission|transmission_display|wheel_system|wheelbase|width|year|torque_ftlb|torque_rpm|torque_grade|n_body_type|n_engine_type|n_fuel_type|n_transmission|n_wheel_system|n_city|n_make_name|n_dealer_zip|n_franchise_make|n_sp_name|n_interior_color|n_model_name|n_listing_color|kmeans| pc1| pc2|  pc3|pc4|   pc5|pc6|pc7|pc8| pc9|pc10|pc11|pc12|pc13| pc14|pc15|pc16|pc17|   pc18| pc19|    pc20|pc21|    pc22|pc23|pc24|  pc25|     pc26|pc27|pc28| pc29|pc30|  pc31| pc32|  pc33|       pc34|pc35|pc36|pc37|pc38|pc39|  pc40|pc41|  pc42|pc43|   pc44| pc45| pc46|pc47|HasAccidents|frameDamaged|franchiseDealer|isCabNew|isCpo|isOemcpo|theftTitle|length_category|width_category|age|length_category_idx|width_category_idx|\n",
            "+------------+----+---------------+-----+-----------------+------------+----------------+-------------------+-----------+-----+--------------+-------------+----------------+---------+------+--------------------+----------+------+--------------------+-------------+---------------+-------+----------+-----------+-------+--------------+-------------+------------+--------------------+------------+---------+-----+----+-----------+----------+------------+-----------+-------------+-----------+--------------+--------------+------+-----------+------------+----------------+---------+----------------+------------+---------------+------+----+----+-----+---+------+---+---+---+----+----+----+----+----+-----+----+----+----+-------+-----+--------+----+--------+----+----+------+---------+----+----+-----+----+------+-----+------+-----------+----+----+----+----+----+------+----+------+----+-------+-----+-----+----+------------+------------+---------------+--------+-----+--------+----------+---------------+--------------+---+-------------------+------------------+\n",
            "|        36.2|null|          Sedan| null|             18.0|         305|               6|               3700|          V|false|           Kia|         44.4|            20.0| Gasoline|  59.6|                24.0|       330| 196.1|Performance Packa...|     INFINITI|              5|  43969|       Q70|          1|24550.0|          4943|    3.6470587|           A|                   7|         AWD|    114.2| 72.6|2016|        270|      5200| 0.051923078|          4|            4|          3|             3|             3|1517.0|       21.0|      2108.0|             7.0|   1042.0|           249.0|       416.0|            6.0|     0|36.2|18.0|305.0|6.0|3700.0|0.0|0.0|1.0|44.4|20.0| 0.0|59.6|24.0|330.0| 0.0| 0.0| 0.0|40.7589|196.1|-73.1055| 5.0| 43969.0| 1.0| 0.0|4943.0|3.6470587| 0.0| 7.0|114.2|72.6|2016.0|270.0|5200.0|0.051923078| 4.0| 4.0| 3.0| 3.0| 3.0|1517.0|21.0|2108.0| 7.0| 1042.0|249.0|416.0| 6.0|           0|           0|              1|       0|    0|       0|         0|       fullsize|       regular|  4|                2.0|               1.0|\n",
            "|        36.8|null|SUV / Crossover| null|             22.0|          20|               4|               2000|          I|false|          Jeep|          4.4|            15.1| Gasoline|  66.3|                30.0|       240| 178.1|Leather Seats, Al...|         Ford|              5|  79364|    Escape|          2| 6500.0|             0|          2.8|           A|                   6|         AWD|    105.9| 81.8|2014|        270|      1750|  0.15428571|          6|            1|          3|             3|             3| 268.0|        0.0|       732.0|             2.0|   3249.0|             0.0|         2.0|            5.0|     1|36.8|22.0| 20.0|4.0|2000.0|0.0|0.0|1.0| 4.4|15.1| 1.0|66.3|30.0|240.0| 0.0| 0.0| 0.0|40.8847|178.1|-73.8317| 5.0| 79364.0| 2.0| 0.0|   0.0|      2.8| 0.0| 6.0|105.9|81.8|2014.0|270.0|1750.0| 0.15428571| 6.0| 1.0| 3.0| 3.0| 3.0| 268.0| 0.0| 732.0| 2.0| 3249.0|  0.0|  2.0| 5.0|           1|           0|              1|       0|    0|       0|         0|        midsize|          wide|  6|                1.0|               2.0|\n",
            "|        37.3|null|SUV / Crossover| null|             22.0|          27|               4|               2000|          I|false|          null|         43.1|            15.1| Gasoline|  66.3|                29.0|       240| 178.1|           Bluetooth|         Ford|              5|  72824|    Escape|          1|11999.0|          1663|    3.5777779|           A|                   6|         AWD|    105.9| 81.8|2016|        270|      3000|        0.09|          6|            1|          3|             3|             3| 965.0|        0.0|      1148.0|            47.0|    908.0|             0.0|         2.0|            1.0|     0|37.3|22.0| 27.0|4.0|2000.0|0.0|0.0|0.0|43.1|15.1| 1.0|66.3|29.0|240.0| 0.0| 0.0| 0.0|40.8558|178.1|-74.0493| 5.0| 72824.0| 1.0| 0.0|1663.0|3.5777779| 0.0| 6.0|105.9|81.8|2016.0|270.0|3000.0|       0.09| 6.0| 1.0| 3.0| 3.0| 3.0| 965.0| 0.0|1148.0|47.0|  908.0|  0.0|  2.0| 1.0|           1|           0|              0|       0|    0|       0|         0|        midsize|          wide|  4|                1.0|               2.0|\n",
            "|        35.2|null|        Minivan| null|             19.0|          85|               4|               2300|          I|false|          null|          4.7|            15.9| Gasoline|  64.2|                24.0|       153| 181.5|        Alloy Wheels|        Mazda|              6| 150192|    MAZDA5|          4| 6990.0|             0|          3.0|           A|                   6|         FWD|    108.3| 69.1|2007|        148|      4500|  0.03288889|          7|            1|          3|             3|             1|   0.0|       17.0|      4910.0|            47.0|  11430.0|             0.0|       316.0|            6.0|     1|35.2|19.0| 85.0|4.0|2300.0|0.0|0.0|0.0| 4.7|15.9| 0.0|64.2|24.0|153.0| 0.0| 0.0| 0.0|29.8765|181.5|-95.4132| 6.0|150192.0| 4.0| 0.0|   0.0|      3.0| 0.0| 6.0|108.3|69.1|2007.0|148.0|4500.0| 0.03288889| 7.0| 1.0| 3.0| 3.0| 1.0|   0.0|17.0|4910.0|47.0|11430.0|  0.0|316.0| 6.0|           0|           0|              0|       0|    0|       0|         0|        midsize|        narrow| 13|                1.0|               0.0|\n",
            "|        37.3|null|SUV / Crossover| null|             22.0|          26|               4|               2000|          I|false| Mercedes-Benz|          4.8|            17.4| Gasoline|  64.5|                27.0|       241| 183.3|Alloy Wheels, Blu...|Mercedes-Benz|              5|  15699| GLC-Class|          1|36888.0|           491|     4.361702|           A|                   9|         RWD|    113.1| 82.5|2019|        273|      1300|        0.21|          6|            1|          3|             3|             2|  45.0|       11.0|       241.0|            12.0|    318.0|           182.0|       105.0|            0.0|     0|37.3|22.0| 26.0|4.0|2000.0|0.0|0.0|1.0| 4.8|17.4| 0.0|64.5|27.0|241.0| 0.0| 0.0| 0.0|33.0609|183.3|-96.8278| 5.0| 15699.0| 1.0| 0.0| 491.0| 4.361702| 0.0| 9.0|113.1|82.5|2019.0|273.0|1300.0|       0.21| 6.0| 1.0| 3.0| 3.0| 2.0|  45.0|11.0| 241.0|12.0|  318.0|182.0|105.0| 0.0|           0|           0|              1|       0|    0|       0|         0|        midsize|          wide|  1|                1.0|               2.0|\n",
            "+------------+----+---------------+-----+-----------------+------------+----------------+-------------------+-----------+-----+--------------+-------------+----------------+---------+------+--------------------+----------+------+--------------------+-------------+---------------+-------+----------+-----------+-------+--------------+-------------+------------+--------------------+------------+---------+-----+----+-----------+----------+------------+-----------+-------------+-----------+--------------+--------------+------+-----------+------------+----------------+---------+----------------+------------+---------------+------+----+----+-----+---+------+---+---+---+----+----+----+----+----+-----+----+----+----+-------+-----+--------+----+--------+----+----+------+---------+----+----+-----+----+------+-----+------+-----------+----+----+----+----+----+------+----+------+----+-------+-----+-----+----+------------+------------+---------------+--------+-----+--------+----------+---------------+--------------+---+-------------------+------------------+\n",
            "only showing top 5 rows\n",
            "\n"
          ],
          "name": "stdout"
        }
      ]
    },
    {
      "cell_type": "code",
      "metadata": {
        "id": "LXtPteC42q0x",
        "colab": {
          "base_uri": "https://localhost:8080/",
          "height": 391
        },
        "outputId": "4c947b8b-4e1d-45c2-bde6-b8bd8faa6787"
      },
      "source": [
        "# skip this cell for now, too long\n",
        "from pyspark.ml import Pipeline\n",
        "from pyspark.ml.regression import RandomForestRegressor\n",
        "from pyspark.ml.evaluation import RegressionEvaluator\n",
        "\n",
        "training_df, validation_df = reg_df.randomSplit([0.7, 0.3],\n",
        "                                                seed=42)\n",
        "# originals\n",
        "#rf_cols = ['back_legroom','city_fuel_economy',\n",
        "#           'daysonmarket','engine_cylinders','engine_displacement','fleet',\n",
        "#           'frame_damaged','franchise_dealer','front_legroom',\n",
        "#           'fuel_tank_volume','has_accidents','height',\n",
        "#           'highway_fuel_economy','horsepower','isCab',\n",
        "#           'is_cpo','is_oemcpo','length','maximum_seating','mileage',\n",
        "#           'owner_count','salvage','savings_amount','seller_rating',\n",
        "#           'theft_title','transmission_display','wheelbase','width','year',\n",
        "#           'torque_ftlb','torque_rpm','torque_grade','n_body_type',\n",
        "#           'n_engine_type','n_transmission','n_wheel_system','n_city',\n",
        "#           'n_make_name','n_franchise_make','n_sp_name','n_interior_color',\n",
        "#           'n_model_name','n_listing_color','n_fuel_type']\n",
        "\n",
        "rf_cols = [\"length_category_idx\",\"width_category_idx\",\"n_body_type\",\n",
        "           \"n_engine_type\",\"n_fuel_type\",\"n_make_name\",\"n_franchise_make\",\n",
        "           \"n_model_name\",\"n_transmission\",\"n_wheel_system\",\"age\",\n",
        "           \"city_fuel_economy\", \"highway_fuel_economy\",\"daysonmarket\",\n",
        "           \"engine_cylinders\", \"horsepower\",\"mileage\",\"owner_count\",\n",
        "           \"maximum_seating\", \"engine_displacement\", \"torque_ftlb\"]\n",
        "\n",
        "rf_vec = VectorAssembler(inputCols=rf_cols, outputCol='features')\n",
        "rf = RandomForestRegressor(featuresCol='features', labelCol='price', maxBins=4482)\n",
        "\n",
        "paramGrid = ParamGridBuilder().\\\n",
        "addGrid(rf.numTrees, np.arange(100,120,20)).\\\n",
        "addGrid(rf.maxDepth, np.arange(11,14,2)).\\\n",
        "build()\n",
        "\n",
        "rf_pipe = Pipeline(stages = [rf_vec,rf])\n",
        "\n",
        "all_models = []\n",
        "for j in range(len(paramGrid)):\n",
        "  print(\"Fitting model {}\".format(j+1))\n",
        "  model = rf_pipe.fit(training_df, paramGrid[j])\n",
        "  all_models.append(model)\n",
        "      \n",
        "scores =[]\n",
        "print('Model fitting complete -> Evaluating Scores')\n",
        "for m in all_models:\n",
        "  score_rf_pipe_1 = RegressionEvaluator(labelCol='price',metricName='rmse').evaluate(m.transform(validation_df))\n",
        "  scores.append(score_rf_pipe_1)\n",
        "        \n",
        "print(min(scores), '\\n', paramGrid[scores.index(min(scores))])"
      ],
      "execution_count": 8,
      "outputs": [
        {
          "output_type": "stream",
          "text": [
            "Fitting model 1\n"
          ],
          "name": "stdout"
        },
        {
          "output_type": "error",
          "ename": "KeyboardInterrupt",
          "evalue": "ignored",
          "traceback": [
            "\u001b[0;31m---------------------------------------------------------------------------\u001b[0m",
            "\u001b[0;31mKeyboardInterrupt\u001b[0m                         Traceback (most recent call last)",
            "\u001b[0;32m<ipython-input-8-3de8d571ea49>\u001b[0m in \u001b[0;36m<module>\u001b[0;34m()\u001b[0m\n\u001b[1;32m     36\u001b[0m \u001b[0;32mfor\u001b[0m \u001b[0mj\u001b[0m \u001b[0;32min\u001b[0m \u001b[0mrange\u001b[0m\u001b[0;34m(\u001b[0m\u001b[0mlen\u001b[0m\u001b[0;34m(\u001b[0m\u001b[0mparamGrid\u001b[0m\u001b[0;34m)\u001b[0m\u001b[0;34m)\u001b[0m\u001b[0;34m:\u001b[0m\u001b[0;34m\u001b[0m\u001b[0;34m\u001b[0m\u001b[0m\n\u001b[1;32m     37\u001b[0m   \u001b[0mprint\u001b[0m\u001b[0;34m(\u001b[0m\u001b[0;34m\"Fitting model {}\"\u001b[0m\u001b[0;34m.\u001b[0m\u001b[0mformat\u001b[0m\u001b[0;34m(\u001b[0m\u001b[0mj\u001b[0m\u001b[0;34m+\u001b[0m\u001b[0;36m1\u001b[0m\u001b[0;34m)\u001b[0m\u001b[0;34m)\u001b[0m\u001b[0;34m\u001b[0m\u001b[0;34m\u001b[0m\u001b[0m\n\u001b[0;32m---> 38\u001b[0;31m   \u001b[0mmodel\u001b[0m \u001b[0;34m=\u001b[0m \u001b[0mrf_pipe\u001b[0m\u001b[0;34m.\u001b[0m\u001b[0mfit\u001b[0m\u001b[0;34m(\u001b[0m\u001b[0mtraining_df\u001b[0m\u001b[0;34m,\u001b[0m \u001b[0mparamGrid\u001b[0m\u001b[0;34m[\u001b[0m\u001b[0mj\u001b[0m\u001b[0;34m]\u001b[0m\u001b[0;34m)\u001b[0m\u001b[0;34m\u001b[0m\u001b[0;34m\u001b[0m\u001b[0m\n\u001b[0m\u001b[1;32m     39\u001b[0m   \u001b[0mall_models\u001b[0m\u001b[0;34m.\u001b[0m\u001b[0mappend\u001b[0m\u001b[0;34m(\u001b[0m\u001b[0mmodel\u001b[0m\u001b[0;34m)\u001b[0m\u001b[0;34m\u001b[0m\u001b[0;34m\u001b[0m\u001b[0m\n\u001b[1;32m     40\u001b[0m \u001b[0;34m\u001b[0m\u001b[0m\n",
            "\u001b[0;32m/usr/local/lib/python3.6/dist-packages/pyspark/ml/base.py\u001b[0m in \u001b[0;36mfit\u001b[0;34m(self, dataset, params)\u001b[0m\n\u001b[1;32m    125\u001b[0m         \u001b[0;32melif\u001b[0m \u001b[0misinstance\u001b[0m\u001b[0;34m(\u001b[0m\u001b[0mparams\u001b[0m\u001b[0;34m,\u001b[0m \u001b[0mdict\u001b[0m\u001b[0;34m)\u001b[0m\u001b[0;34m:\u001b[0m\u001b[0;34m\u001b[0m\u001b[0;34m\u001b[0m\u001b[0m\n\u001b[1;32m    126\u001b[0m             \u001b[0;32mif\u001b[0m \u001b[0mparams\u001b[0m\u001b[0;34m:\u001b[0m\u001b[0;34m\u001b[0m\u001b[0;34m\u001b[0m\u001b[0m\n\u001b[0;32m--> 127\u001b[0;31m                 \u001b[0;32mreturn\u001b[0m \u001b[0mself\u001b[0m\u001b[0;34m.\u001b[0m\u001b[0mcopy\u001b[0m\u001b[0;34m(\u001b[0m\u001b[0mparams\u001b[0m\u001b[0;34m)\u001b[0m\u001b[0;34m.\u001b[0m\u001b[0m_fit\u001b[0m\u001b[0;34m(\u001b[0m\u001b[0mdataset\u001b[0m\u001b[0;34m)\u001b[0m\u001b[0;34m\u001b[0m\u001b[0;34m\u001b[0m\u001b[0m\n\u001b[0m\u001b[1;32m    128\u001b[0m             \u001b[0;32melse\u001b[0m\u001b[0;34m:\u001b[0m\u001b[0;34m\u001b[0m\u001b[0;34m\u001b[0m\u001b[0m\n\u001b[1;32m    129\u001b[0m                 \u001b[0;32mreturn\u001b[0m \u001b[0mself\u001b[0m\u001b[0;34m.\u001b[0m\u001b[0m_fit\u001b[0m\u001b[0;34m(\u001b[0m\u001b[0mdataset\u001b[0m\u001b[0;34m)\u001b[0m\u001b[0;34m\u001b[0m\u001b[0;34m\u001b[0m\u001b[0m\n",
            "\u001b[0;32m/usr/local/lib/python3.6/dist-packages/pyspark/ml/pipeline.py\u001b[0m in \u001b[0;36m_fit\u001b[0;34m(self, dataset)\u001b[0m\n\u001b[1;32m    107\u001b[0m                     \u001b[0mdataset\u001b[0m \u001b[0;34m=\u001b[0m \u001b[0mstage\u001b[0m\u001b[0;34m.\u001b[0m\u001b[0mtransform\u001b[0m\u001b[0;34m(\u001b[0m\u001b[0mdataset\u001b[0m\u001b[0;34m)\u001b[0m\u001b[0;34m\u001b[0m\u001b[0;34m\u001b[0m\u001b[0m\n\u001b[1;32m    108\u001b[0m                 \u001b[0;32melse\u001b[0m\u001b[0;34m:\u001b[0m  \u001b[0;31m# must be an Estimator\u001b[0m\u001b[0;34m\u001b[0m\u001b[0;34m\u001b[0m\u001b[0m\n\u001b[0;32m--> 109\u001b[0;31m                     \u001b[0mmodel\u001b[0m \u001b[0;34m=\u001b[0m \u001b[0mstage\u001b[0m\u001b[0;34m.\u001b[0m\u001b[0mfit\u001b[0m\u001b[0;34m(\u001b[0m\u001b[0mdataset\u001b[0m\u001b[0;34m)\u001b[0m\u001b[0;34m\u001b[0m\u001b[0;34m\u001b[0m\u001b[0m\n\u001b[0m\u001b[1;32m    110\u001b[0m                     \u001b[0mtransformers\u001b[0m\u001b[0;34m.\u001b[0m\u001b[0mappend\u001b[0m\u001b[0;34m(\u001b[0m\u001b[0mmodel\u001b[0m\u001b[0;34m)\u001b[0m\u001b[0;34m\u001b[0m\u001b[0;34m\u001b[0m\u001b[0m\n\u001b[1;32m    111\u001b[0m                     \u001b[0;32mif\u001b[0m \u001b[0mi\u001b[0m \u001b[0;34m<\u001b[0m \u001b[0mindexOfLastEstimator\u001b[0m\u001b[0;34m:\u001b[0m\u001b[0;34m\u001b[0m\u001b[0;34m\u001b[0m\u001b[0m\n",
            "\u001b[0;32m/usr/local/lib/python3.6/dist-packages/pyspark/ml/base.py\u001b[0m in \u001b[0;36mfit\u001b[0;34m(self, dataset, params)\u001b[0m\n\u001b[1;32m    127\u001b[0m                 \u001b[0;32mreturn\u001b[0m \u001b[0mself\u001b[0m\u001b[0;34m.\u001b[0m\u001b[0mcopy\u001b[0m\u001b[0;34m(\u001b[0m\u001b[0mparams\u001b[0m\u001b[0;34m)\u001b[0m\u001b[0;34m.\u001b[0m\u001b[0m_fit\u001b[0m\u001b[0;34m(\u001b[0m\u001b[0mdataset\u001b[0m\u001b[0;34m)\u001b[0m\u001b[0;34m\u001b[0m\u001b[0;34m\u001b[0m\u001b[0m\n\u001b[1;32m    128\u001b[0m             \u001b[0;32melse\u001b[0m\u001b[0;34m:\u001b[0m\u001b[0;34m\u001b[0m\u001b[0;34m\u001b[0m\u001b[0m\n\u001b[0;32m--> 129\u001b[0;31m                 \u001b[0;32mreturn\u001b[0m \u001b[0mself\u001b[0m\u001b[0;34m.\u001b[0m\u001b[0m_fit\u001b[0m\u001b[0;34m(\u001b[0m\u001b[0mdataset\u001b[0m\u001b[0;34m)\u001b[0m\u001b[0;34m\u001b[0m\u001b[0;34m\u001b[0m\u001b[0m\n\u001b[0m\u001b[1;32m    130\u001b[0m         \u001b[0;32melse\u001b[0m\u001b[0;34m:\u001b[0m\u001b[0;34m\u001b[0m\u001b[0;34m\u001b[0m\u001b[0m\n\u001b[1;32m    131\u001b[0m             raise ValueError(\"Params must be either a param map or a list/tuple of param maps, \"\n",
            "\u001b[0;32m/usr/local/lib/python3.6/dist-packages/pyspark/ml/wrapper.py\u001b[0m in \u001b[0;36m_fit\u001b[0;34m(self, dataset)\u001b[0m\n\u001b[1;32m    319\u001b[0m \u001b[0;34m\u001b[0m\u001b[0m\n\u001b[1;32m    320\u001b[0m     \u001b[0;32mdef\u001b[0m \u001b[0m_fit\u001b[0m\u001b[0;34m(\u001b[0m\u001b[0mself\u001b[0m\u001b[0;34m,\u001b[0m \u001b[0mdataset\u001b[0m\u001b[0;34m)\u001b[0m\u001b[0;34m:\u001b[0m\u001b[0;34m\u001b[0m\u001b[0;34m\u001b[0m\u001b[0m\n\u001b[0;32m--> 321\u001b[0;31m         \u001b[0mjava_model\u001b[0m \u001b[0;34m=\u001b[0m \u001b[0mself\u001b[0m\u001b[0;34m.\u001b[0m\u001b[0m_fit_java\u001b[0m\u001b[0;34m(\u001b[0m\u001b[0mdataset\u001b[0m\u001b[0;34m)\u001b[0m\u001b[0;34m\u001b[0m\u001b[0;34m\u001b[0m\u001b[0m\n\u001b[0m\u001b[1;32m    322\u001b[0m         \u001b[0mmodel\u001b[0m \u001b[0;34m=\u001b[0m \u001b[0mself\u001b[0m\u001b[0;34m.\u001b[0m\u001b[0m_create_model\u001b[0m\u001b[0;34m(\u001b[0m\u001b[0mjava_model\u001b[0m\u001b[0;34m)\u001b[0m\u001b[0;34m\u001b[0m\u001b[0;34m\u001b[0m\u001b[0m\n\u001b[1;32m    323\u001b[0m         \u001b[0;32mreturn\u001b[0m \u001b[0mself\u001b[0m\u001b[0;34m.\u001b[0m\u001b[0m_copyValues\u001b[0m\u001b[0;34m(\u001b[0m\u001b[0mmodel\u001b[0m\u001b[0;34m)\u001b[0m\u001b[0;34m\u001b[0m\u001b[0;34m\u001b[0m\u001b[0m\n",
            "\u001b[0;32m/usr/local/lib/python3.6/dist-packages/pyspark/ml/wrapper.py\u001b[0m in \u001b[0;36m_fit_java\u001b[0;34m(self, dataset)\u001b[0m\n\u001b[1;32m    316\u001b[0m         \"\"\"\n\u001b[1;32m    317\u001b[0m         \u001b[0mself\u001b[0m\u001b[0;34m.\u001b[0m\u001b[0m_transfer_params_to_java\u001b[0m\u001b[0;34m(\u001b[0m\u001b[0;34m)\u001b[0m\u001b[0;34m\u001b[0m\u001b[0;34m\u001b[0m\u001b[0m\n\u001b[0;32m--> 318\u001b[0;31m         \u001b[0;32mreturn\u001b[0m \u001b[0mself\u001b[0m\u001b[0;34m.\u001b[0m\u001b[0m_java_obj\u001b[0m\u001b[0;34m.\u001b[0m\u001b[0mfit\u001b[0m\u001b[0;34m(\u001b[0m\u001b[0mdataset\u001b[0m\u001b[0;34m.\u001b[0m\u001b[0m_jdf\u001b[0m\u001b[0;34m)\u001b[0m\u001b[0;34m\u001b[0m\u001b[0;34m\u001b[0m\u001b[0m\n\u001b[0m\u001b[1;32m    319\u001b[0m \u001b[0;34m\u001b[0m\u001b[0m\n\u001b[1;32m    320\u001b[0m     \u001b[0;32mdef\u001b[0m \u001b[0m_fit\u001b[0m\u001b[0;34m(\u001b[0m\u001b[0mself\u001b[0m\u001b[0;34m,\u001b[0m \u001b[0mdataset\u001b[0m\u001b[0;34m)\u001b[0m\u001b[0;34m:\u001b[0m\u001b[0;34m\u001b[0m\u001b[0;34m\u001b[0m\u001b[0m\n",
            "\u001b[0;32m/usr/local/lib/python3.6/dist-packages/py4j/java_gateway.py\u001b[0m in \u001b[0;36m__call__\u001b[0;34m(self, *args)\u001b[0m\n\u001b[1;32m   1301\u001b[0m             \u001b[0mproto\u001b[0m\u001b[0;34m.\u001b[0m\u001b[0mEND_COMMAND_PART\u001b[0m\u001b[0;34m\u001b[0m\u001b[0;34m\u001b[0m\u001b[0m\n\u001b[1;32m   1302\u001b[0m \u001b[0;34m\u001b[0m\u001b[0m\n\u001b[0;32m-> 1303\u001b[0;31m         \u001b[0manswer\u001b[0m \u001b[0;34m=\u001b[0m \u001b[0mself\u001b[0m\u001b[0;34m.\u001b[0m\u001b[0mgateway_client\u001b[0m\u001b[0;34m.\u001b[0m\u001b[0msend_command\u001b[0m\u001b[0;34m(\u001b[0m\u001b[0mcommand\u001b[0m\u001b[0;34m)\u001b[0m\u001b[0;34m\u001b[0m\u001b[0;34m\u001b[0m\u001b[0m\n\u001b[0m\u001b[1;32m   1304\u001b[0m         return_value = get_return_value(\n\u001b[1;32m   1305\u001b[0m             answer, self.gateway_client, self.target_id, self.name)\n",
            "\u001b[0;32m/usr/local/lib/python3.6/dist-packages/py4j/java_gateway.py\u001b[0m in \u001b[0;36msend_command\u001b[0;34m(self, command, retry, binary)\u001b[0m\n\u001b[1;32m   1031\u001b[0m         \u001b[0mconnection\u001b[0m \u001b[0;34m=\u001b[0m \u001b[0mself\u001b[0m\u001b[0;34m.\u001b[0m\u001b[0m_get_connection\u001b[0m\u001b[0;34m(\u001b[0m\u001b[0;34m)\u001b[0m\u001b[0;34m\u001b[0m\u001b[0;34m\u001b[0m\u001b[0m\n\u001b[1;32m   1032\u001b[0m         \u001b[0;32mtry\u001b[0m\u001b[0;34m:\u001b[0m\u001b[0;34m\u001b[0m\u001b[0;34m\u001b[0m\u001b[0m\n\u001b[0;32m-> 1033\u001b[0;31m             \u001b[0mresponse\u001b[0m \u001b[0;34m=\u001b[0m \u001b[0mconnection\u001b[0m\u001b[0;34m.\u001b[0m\u001b[0msend_command\u001b[0m\u001b[0;34m(\u001b[0m\u001b[0mcommand\u001b[0m\u001b[0;34m)\u001b[0m\u001b[0;34m\u001b[0m\u001b[0;34m\u001b[0m\u001b[0m\n\u001b[0m\u001b[1;32m   1034\u001b[0m             \u001b[0;32mif\u001b[0m \u001b[0mbinary\u001b[0m\u001b[0;34m:\u001b[0m\u001b[0;34m\u001b[0m\u001b[0;34m\u001b[0m\u001b[0m\n\u001b[1;32m   1035\u001b[0m                 \u001b[0;32mreturn\u001b[0m \u001b[0mresponse\u001b[0m\u001b[0;34m,\u001b[0m \u001b[0mself\u001b[0m\u001b[0;34m.\u001b[0m\u001b[0m_create_connection_guard\u001b[0m\u001b[0;34m(\u001b[0m\u001b[0mconnection\u001b[0m\u001b[0;34m)\u001b[0m\u001b[0;34m\u001b[0m\u001b[0;34m\u001b[0m\u001b[0m\n",
            "\u001b[0;32m/usr/local/lib/python3.6/dist-packages/py4j/java_gateway.py\u001b[0m in \u001b[0;36msend_command\u001b[0;34m(self, command)\u001b[0m\n\u001b[1;32m   1198\u001b[0m \u001b[0;34m\u001b[0m\u001b[0m\n\u001b[1;32m   1199\u001b[0m         \u001b[0;32mtry\u001b[0m\u001b[0;34m:\u001b[0m\u001b[0;34m\u001b[0m\u001b[0;34m\u001b[0m\u001b[0m\n\u001b[0;32m-> 1200\u001b[0;31m             \u001b[0manswer\u001b[0m \u001b[0;34m=\u001b[0m \u001b[0msmart_decode\u001b[0m\u001b[0;34m(\u001b[0m\u001b[0mself\u001b[0m\u001b[0;34m.\u001b[0m\u001b[0mstream\u001b[0m\u001b[0;34m.\u001b[0m\u001b[0mreadline\u001b[0m\u001b[0;34m(\u001b[0m\u001b[0;34m)\u001b[0m\u001b[0;34m[\u001b[0m\u001b[0;34m:\u001b[0m\u001b[0;34m-\u001b[0m\u001b[0;36m1\u001b[0m\u001b[0;34m]\u001b[0m\u001b[0;34m)\u001b[0m\u001b[0;34m\u001b[0m\u001b[0;34m\u001b[0m\u001b[0m\n\u001b[0m\u001b[1;32m   1201\u001b[0m             \u001b[0mlogger\u001b[0m\u001b[0;34m.\u001b[0m\u001b[0mdebug\u001b[0m\u001b[0;34m(\u001b[0m\u001b[0;34m\"Answer received: {0}\"\u001b[0m\u001b[0;34m.\u001b[0m\u001b[0mformat\u001b[0m\u001b[0;34m(\u001b[0m\u001b[0manswer\u001b[0m\u001b[0;34m)\u001b[0m\u001b[0;34m)\u001b[0m\u001b[0;34m\u001b[0m\u001b[0;34m\u001b[0m\u001b[0m\n\u001b[1;32m   1202\u001b[0m             \u001b[0;32mif\u001b[0m \u001b[0manswer\u001b[0m\u001b[0;34m.\u001b[0m\u001b[0mstartswith\u001b[0m\u001b[0;34m(\u001b[0m\u001b[0mproto\u001b[0m\u001b[0;34m.\u001b[0m\u001b[0mRETURN_MESSAGE\u001b[0m\u001b[0;34m)\u001b[0m\u001b[0;34m:\u001b[0m\u001b[0;34m\u001b[0m\u001b[0;34m\u001b[0m\u001b[0m\n",
            "\u001b[0;32m/usr/lib/python3.6/socket.py\u001b[0m in \u001b[0;36mreadinto\u001b[0;34m(self, b)\u001b[0m\n\u001b[1;32m    584\u001b[0m         \u001b[0;32mwhile\u001b[0m \u001b[0;32mTrue\u001b[0m\u001b[0;34m:\u001b[0m\u001b[0;34m\u001b[0m\u001b[0;34m\u001b[0m\u001b[0m\n\u001b[1;32m    585\u001b[0m             \u001b[0;32mtry\u001b[0m\u001b[0;34m:\u001b[0m\u001b[0;34m\u001b[0m\u001b[0;34m\u001b[0m\u001b[0m\n\u001b[0;32m--> 586\u001b[0;31m                 \u001b[0;32mreturn\u001b[0m \u001b[0mself\u001b[0m\u001b[0;34m.\u001b[0m\u001b[0m_sock\u001b[0m\u001b[0;34m.\u001b[0m\u001b[0mrecv_into\u001b[0m\u001b[0;34m(\u001b[0m\u001b[0mb\u001b[0m\u001b[0;34m)\u001b[0m\u001b[0;34m\u001b[0m\u001b[0;34m\u001b[0m\u001b[0m\n\u001b[0m\u001b[1;32m    587\u001b[0m             \u001b[0;32mexcept\u001b[0m \u001b[0mtimeout\u001b[0m\u001b[0;34m:\u001b[0m\u001b[0;34m\u001b[0m\u001b[0;34m\u001b[0m\u001b[0m\n\u001b[1;32m    588\u001b[0m                 \u001b[0mself\u001b[0m\u001b[0;34m.\u001b[0m\u001b[0m_timeout_occurred\u001b[0m \u001b[0;34m=\u001b[0m \u001b[0;32mTrue\u001b[0m\u001b[0;34m\u001b[0m\u001b[0;34m\u001b[0m\u001b[0m\n",
            "\u001b[0;31mKeyboardInterrupt\u001b[0m: "
          ]
        }
      ]
    },
    {
      "cell_type": "code",
      "metadata": {
        "id": "Ed2lxI9wYOQJ",
        "outputId": "843c75b9-b2b4-4c8f-cbb5-e8e6fbb37233",
        "colab": {
          "base_uri": "https://localhost:8080/"
        }
      },
      "source": [
        "from pyspark.ml import Pipeline\n",
        "from pyspark.ml.regression import RandomForestRegressor\n",
        "from pyspark.ml.evaluation import RegressionEvaluator\n",
        "\n",
        "training_df, validation_df = reg_df.randomSplit([0.7, 0.3],\n",
        "                                                seed=42)\n",
        "\n",
        "rf_cols = [\"length_category_idx\",\"width_category_idx\",\"n_body_type\",\n",
        "           \"n_engine_type\",\"n_fuel_type\",\"n_make_name\",\"n_franchise_make\",\n",
        "           \"n_model_name\",\"n_transmission\",\"n_wheel_system\",\"age\",\n",
        "           \"city_fuel_economy\", \"highway_fuel_economy\",\"daysonmarket\",\n",
        "           \"engine_cylinders\", \"horsepower\",\"mileage\",\"owner_count\",\n",
        "           \"maximum_seating\", \"engine_displacement\", \"torque_ftlb\"]\n",
        "\n",
        "rf_vec = VectorAssembler(inputCols=rf_cols, outputCol='features')\n",
        "rf = RandomForestRegressor(numTrees=100,\n",
        "                           maxDepth=11,\n",
        "                           featuresCol='features',\n",
        "                           labelCol='price',\n",
        "                           maxBins=4482)\n",
        "\n",
        "rf_pipe = Pipeline(stages = [rf_vec,rf])\n",
        "\n",
        "model = rf_pipe.fit(training_df)\n",
        "\n",
        "score_rf_pipe_1 = RegressionEvaluator(labelCol='price',\n",
        "                                      metricName='rmse').evaluate(model.transform(validation_df))\n",
        "\n",
        "score_rf_pipe_1"
      ],
      "execution_count": 7,
      "outputs": [
        {
          "output_type": "execute_result",
          "data": {
            "text/plain": [
              "3834.689402738222"
            ]
          },
          "metadata": {
            "tags": []
          },
          "execution_count": 7
        }
      ]
    },
    {
      "cell_type": "code",
      "metadata": {
        "id": "aMhq520tcP9B",
        "outputId": "1106081b-9c77-448e-85af-b0d8e192ead0",
        "colab": {
          "base_uri": "https://localhost:8080/"
        }
      },
      "source": [
        "model.stages[-1].featureImportances"
      ],
      "execution_count": 10,
      "outputs": [
        {
          "output_type": "execute_result",
          "data": {
            "text/plain": [
              "SparseVector(21, {0: 0.0044, 1: 0.0149, 2: 0.0182, 3: 0.0071, 4: 0.0076, 5: 0.0228, 6: 0.0046, 7: 0.0213, 8: 0.0006, 9: 0.0331, 10: 0.1923, 11: 0.0081, 12: 0.0106, 13: 0.0018, 14: 0.0286, 15: 0.2917, 16: 0.1644, 17: 0.0205, 18: 0.0073, 19: 0.0315, 20: 0.1085})"
            ]
          },
          "metadata": {
            "tags": []
          },
          "execution_count": 10
        }
      ]
    },
    {
      "cell_type": "code",
      "metadata": {
        "id": "6Bp-xeYecUtA"
      },
      "source": [
        "predictions = model.transform(validation_df)"
      ],
      "execution_count": 11,
      "outputs": []
    },
    {
      "cell_type": "code",
      "metadata": {
        "id": "15pNci1zde6B"
      },
      "source": [
        "y_pred = [row[0] for row in predictions.select('prediction').collect()]\n",
        "y_true = [row[0] for row in predictions.select('price').collect()]"
      ],
      "execution_count": 17,
      "outputs": []
    },
    {
      "cell_type": "code",
      "metadata": {
        "id": "C0ZPJi5idPMh",
        "outputId": "7889068f-7bdd-4afe-831e-c75bf86bc9d0",
        "colab": {
          "base_uri": "https://localhost:8080/"
        }
      },
      "source": [
        "import sklearn.metrics\n",
        "r2_score = sklearn.metrics.r2_score(y_true, y_pred)\n",
        "print('r2_score: {:4.3f}'.format(r2_score))"
      ],
      "execution_count": 18,
      "outputs": [
        {
          "output_type": "stream",
          "text": [
            "r2_score: 0.905\n"
          ],
          "name": "stdout"
        }
      ]
    },
    {
      "cell_type": "code",
      "metadata": {
        "id": "uGClSTiVdan5",
        "outputId": "9074a20a-b463-4f76-fe24-f9a25e9a1ce5",
        "colab": {
          "base_uri": "https://localhost:8080/"
        }
      },
      "source": [
        "idx = np.argmin(scores)\n",
        "\n",
        "all_models[idx].stages[-1].featureImportance"
      ],
      "execution_count": 7,
      "outputs": [
        {
          "output_type": "execute_result",
          "data": {
            "text/plain": [
              "{Param(parent='RandomForestRegressor_23a1bf77cdd7', name='maxDepth', doc='Maximum depth of the tree. (>= 0) E.g., depth 0 means 1 leaf node; depth 1 means 1 internal node + 2 leaf nodes.'): 11,\n",
              " Param(parent='RandomForestRegressor_23a1bf77cdd7', name='numTrees', doc='Number of trees to train (>= 1).'): 100}"
            ]
          },
          "metadata": {
            "tags": []
          },
          "execution_count": 7
        }
      ]
    },
    {
      "cell_type": "code",
      "metadata": {
        "id": "xgoL7A04z5I0"
      },
      "source": [
        "from pyspark.ml.classification import MultilayerPerceptronClassifier\n",
        "from pyspark.ml.evaluation import MulticlassClassificationEvaluator\n",
        "\n"
      ],
      "execution_count": null,
      "outputs": []
    },
    {
      "cell_type": "code",
      "metadata": {
        "colab": {
          "base_uri": "https://localhost:8080/"
        },
        "id": "9i47JnBVAjeD",
        "outputId": "3ee353ca-c39e-40b1-cc30-976d0f84d603"
      },
      "source": [
        "new_df.describe().show()"
      ],
      "execution_count": null,
      "outputs": [
        {
          "output_type": "stream",
          "text": [
            "+-------+------------------+-----+-----------+-----------+-----------+------------------+------------------+------------------+------------------+-------------------+-----------+--------------+------------------+------------------+---------+-----------------+--------------------+------------------+--------------------+------------------+------------------+-----------+-------------+------------------+--------------------+----------+------------------+-----------------+-----------------+------------------+------------------+-----------------+------------------+------------------+--------------------+------------+--------------------+------------+------------------+-----------------+------------------+------------------+------------------+-------------------+------------------+------------------+------------------+-------------------+------------------+-----------------+-----------------+------------------+------------------+-----------------+------------------+------------------+------------------+-------------------+------------------+------------------+------------------+------------------+------------------+-------------------+--------------------+------------------+------------------+------------------+-------------------+-----------------+------------------+------------------+-------------------+-------------------+-------------------+-------------------+------------------+------------------+------------------+------------------+-----------------+------------------+------------------+--------------------+-----------------+------------------+--------------------+------------------+------------------+-----------------+------------------+------------------+------------------+-------------------+------------------+------------------+------------------+-------------------+------------------+-----------------+-----------------+------------------+------------------+-----------------+------------------+------------------+------------------+\n",
            "|summary|      back_legroom|  bed|  body_type|      cabin|       city| city_fuel_economy|      daysonmarket|        dealer_zip|  engine_cylinders|engine_displacement|engine_type|franchise_make|     front_legroom|  fuel_tank_volume|fuel_type|           height|highway_fuel_economy|        horsepower|      interior_color|          latitude|            length|listed_date|listing_color|         longitude|       major_options| make_name|   maximum_seating|          mileage|       model_name|       owner_count|             price|   savings_amount|     seller_rating|             sp_id|             sp_name|transmission|transmission_display|wheel_system|         wheelbase|            width|              year|       torque_ftlb|        torque_rpm|       torque_grade|       n_body_type|     n_engine_type|       n_fuel_type|     n_transmission|    n_wheel_system|           n_city|      n_make_name|      n_dealer_zip|  n_franchise_make|        n_sp_name|  n_interior_color|      n_model_name|   n_listing_color|             kmeans|               pc1|               pc2|               pc3|               pc4|               pc5|                pc6|                 pc7|               pc8|               pc9|              pc10|               pc11|             pc12|              pc13|              pc14|               pc15|               pc16|               pc17|               pc18|              pc19|              pc20|              pc21|              pc22|             pc23|              pc24|              pc25|                pc26|             pc27|              pc28|                pc29|              pc30|              pc31|             pc32|              pc33|              pc34|              pc35|               pc36|              pc37|              pc38|              pc39|               pc40|              pc41|             pc42|             pc43|              pc44|              pc45|             pc46|              pc47|              pc48|              pc49|\n",
            "+-------+------------------+-----+-----------+-----------+-----------+------------------+------------------+------------------+------------------+-------------------+-----------+--------------+------------------+------------------+---------+-----------------+--------------------+------------------+--------------------+------------------+------------------+-----------+-------------+------------------+--------------------+----------+------------------+-----------------+-----------------+------------------+------------------+-----------------+------------------+------------------+--------------------+------------+--------------------+------------+------------------+-----------------+------------------+------------------+------------------+-------------------+------------------+------------------+------------------+-------------------+------------------+-----------------+-----------------+------------------+------------------+-----------------+------------------+------------------+------------------+-------------------+------------------+------------------+------------------+------------------+------------------+-------------------+--------------------+------------------+------------------+------------------+-------------------+-----------------+------------------+------------------+-------------------+-------------------+-------------------+-------------------+------------------+------------------+------------------+------------------+-----------------+------------------+------------------+--------------------+-----------------+------------------+--------------------+------------------+------------------+-----------------+------------------+------------------+------------------+-------------------+------------------+------------------+------------------+-------------------+------------------+-----------------+-----------------+------------------+------------------+-----------------+------------------+------------------+------------------+\n",
            "|  count|            595365| 3871|     595365|      12684|     595365|            595365|            595365|            595365|            595365|             595365|     595365|        482257|            595365|            595365|   595365|           595365|              595365|            595365|              519048|            595365|            595365|          0|       595365|            595365|              556158|    595365|            595365|           595365|           595365|            595365|            595365|           595365|            595365|            595344|              595365|      595365|              595365|      595365|            595365|           595365|            595365|            595365|            595365|             595365|            595365|            595365|            595365|             595365|            595365|           595365|           595365|            595365|            595365|           595365|            595365|            595365|            595365|             595365|            595365|            595365|            595365|            595365|            595365|             595365|              595365|            595365|            595365|            595365|             595365|           595365|            595365|            595365|             595365|             595365|             595365|             595365|            595365|            595365|            595365|            595365|           595365|            595365|            595365|              595365|           595365|            595365|              595365|            595365|            595365|           595365|            595365|            595365|            595365|             595365|            595365|            595365|            595365|             595365|            595365|           595365|           595365|            595365|            595365|           595365|            595365|            595365|            595365|\n",
            "|   mean| 35.01224727688242| null|       null|       null|       null|22.736442057847317| 75.60854937727277| 50656.61339794898| 5.071114358418785| 2930.4633292182107|       null|          null|  35.3886006483426|18.571329254828928|     null|65.89472213112003|  29.522490984366364|245.81981305585649|            21481.02|36.990371745230654|193.64100233803723|       null|         null|-90.61292403651152|                null|      null|  5.45510569146658|30091.31102097033|1609.530466282742|1.2616344595332276|29122.640618459267|542.9157558808462|4.2699556692070315|233134.60238954285|                null|        null|  6.3325254255792665|        null|115.30140786024347|78.32899866640432|2017.7391348164572| 262.5168392498719|3595.6089642488223|0.09930819156954586| 5.795375945848345|2.2444399653993767|3.2405549536838745|  2.813519437655892|1.7568886313437975|627.3688090499105|6.888864814021651|1384.2782847496915|14.168782175640153|5473.464499928616| 450.3719818934603| 78.89573286975217|2.5057418558363356| 0.8123621643865527| 35.01224727688242|22.736442057847317| 75.60854937727277| 5.071114358418785|2930.4633292182107|  0.112740923635081|0.005003653221133254|0.8112519210904235|  35.3886006483426|18.571329254828928|0.08091338926540861|65.89472213112003|29.522490984366364|245.81981305585649|0.09656261285094019| 0.0608987763808756|0.48972814995842884|0.04520084318023397|36.990371745230654|193.64100233803723|-90.61292403651152|  5.45510569146658|30091.31102097033|1.2616344595332276|29122.640618459267|0.003493655152721...|542.9157558808462|4.2699556692070315|0.001766983279164...|6.3325254255792665|115.30140786024347|78.32899866640432|2017.7391348164572| 262.5168392498719|3595.6089642488223|0.09930819156954586| 5.795375945848345|2.2444399653993767|3.2405549536838745|  2.813519437655892|1.7568886313437975|627.3688090499105|6.888864814021651|1384.2782847496915|14.168782175640153|5473.464499928616| 450.3719818934603| 78.89573286975217|2.5057418558363356|\n",
            "| stddev|10.612139839452547| null|       null|       null|       null| 8.065007005084508|108.29550835482209|27311.015607177633|1.4405978403711504| 1311.9776238399359|       null|          null|14.466083861575237|5.3115827425629885|     null|7.326111761912249|  7.1049475542523055| 85.65004202341797|  49254.437036010124| 5.000563165506511|19.728630325982664|       null|         null|13.861869264110172|                null|      null|1.1413298551459516|44497.12673159059|765.1391646283436|0.6954421586320675| 15178.17601549886|962.6582601585504|0.5089753898842838|   132359.27822546|                null|        null|  0.9896728011849515|        null|14.149761991873149|7.465642730495475| 4.148136701571006|107.72906794260935|1152.5251163474866| 0.1111355411249494|1.8537867557315117|1.4621862183350645|0.8337393507699553|0.42859417996579335|0.8024999199167362|758.9883265502466|7.296148579023602|1450.8472769748146| 17.07971875434931|5100.142109093587|1927.0942696961583|103.99791312070418| 2.192957836081281|0.39042301966942067|10.612139839452547| 8.065007005084508|108.29550835482209|1.4405978403711504|1311.9776238399359|0.31627610688848395| 0.07055937243118839|0.3913087001441261|14.466083861575237|5.3115827425629885| 0.2727022875080921|7.326111761912249|7.1049475542523055| 85.65004202341797|0.29536150930621696|0.23914475004746377|  0.499894897784208|0.20774455334780317| 5.000563165506511|19.728630325982664|13.861869264110172|1.1413298551459516|44497.12673159059|0.6954421586320675| 15178.17601549886|  0.0590038589754402|962.6582601585504|0.5089753898842838|0.041998381063035606|0.9896728011849515|14.149761991873149|7.465642730495475| 4.148136701571006|107.72906794260935|1152.5251163474866| 0.1111355411249494|1.8537867557315117|1.4621862183350645|0.8337393507699553|0.42859417996579335|0.8024999199167362|758.9883265502466|7.296148579023602|1450.8472769748146| 17.07971875434931|5100.142109093587|1927.0942696961583|103.99791312070418| 2.192957836081281|\n",
            "|    min|               0.0| Long|Convertible|   Crew Cab|  Abbeville|               8.0|                 0|        08816-4351|                 2|                700|          H|         Acura|               4.0|               1.9|Biodiesel|             43.9|                10.0|                67|              #NAME?|           18.3988|             106.1|       null|        BLACK|          -157.913|101A Mid Equipmen...|AM General|                 2|                0|         1 Series|                 1|             165.0|                0|               1.0|             41593|\"The Kar Store \"\"...|           A|                   1|         AWD|              73.5|             42.5|              1923|                68|               200|        0.015111111|                 1|                 1|                 1|                  1|                 1|              0.0|              0.0|               0.0|               0.0|              0.0|               0.0|               0.0|               0.0|                  0|               0.0|               8.0|               0.0|               2.0|             700.0|                0.0|                 0.0|               0.0|               4.0|               1.9|                0.0|             43.9|              10.0|              67.0|                0.0|                0.0|                0.0|                0.0|           18.3988|             106.1|          -157.913|               2.0|              0.0|               1.0|             165.0|                 0.0|              0.0|               1.0|                 0.0|               1.0|              73.5|             42.5|            1923.0|              68.0|             200.0|        0.015111111|               1.0|               1.0|               1.0|                1.0|               1.0|              0.0|              0.0|               0.0|               0.0|              0.0|               0.0|               0.0|               0.0|\n",
            "|    max|              47.5|Short|      Wagon|Regular Cab|north hills|             127.0|              2979|             99403|                12|               8400|          W|         smart|              67.0|              63.5|  Propane|            117.6|               127.0|               797|xDrive35i Premium...|           48.9237|             290.0|       null|       YELLOW|          -66.0785|         Z71 Package|     smart|                15|          1225238|               xD|                16|           89999.0|            31773|               5.0|            440951|      vBs Auto Sales|           M|                  10|         RWD|             201.0|            109.0|              2021|               935|              7500|                1.0|                 9|                 5|                 8|                  3|                 3|           4494.0|             74.0|            7878.0|              47.0|          24600.0|           18299.0|            1115.0|              14.0|                  1|              47.5|             127.0|            2979.0|              12.0|            8400.0|                1.0|                 1.0|               1.0|              67.0|              63.5|                1.0|            117.6|             127.0|             797.0|                1.0|                1.0|                1.0|                1.0|           48.9237|             290.0|          -66.0785|              15.0|        1225238.0|              16.0|           89999.0|                 1.0|          31773.0|               5.0|                 1.0|              10.0|             201.0|            109.0|            2021.0|             935.0|            7500.0|                1.0|               9.0|               5.0|               8.0|                3.0|               3.0|           4494.0|             74.0|            7878.0|              47.0|          24600.0|           18299.0|            1115.0|              14.0|\n",
            "+-------+------------------+-----+-----------+-----------+-----------+------------------+------------------+------------------+------------------+-------------------+-----------+--------------+------------------+------------------+---------+-----------------+--------------------+------------------+--------------------+------------------+------------------+-----------+-------------+------------------+--------------------+----------+------------------+-----------------+-----------------+------------------+------------------+-----------------+------------------+------------------+--------------------+------------+--------------------+------------+------------------+-----------------+------------------+------------------+------------------+-------------------+------------------+------------------+------------------+-------------------+------------------+-----------------+-----------------+------------------+------------------+-----------------+------------------+------------------+------------------+-------------------+------------------+------------------+------------------+------------------+------------------+-------------------+--------------------+------------------+------------------+------------------+-------------------+-----------------+------------------+------------------+-------------------+-------------------+-------------------+-------------------+------------------+------------------+------------------+------------------+-----------------+------------------+------------------+--------------------+-----------------+------------------+--------------------+------------------+------------------+-----------------+------------------+------------------+------------------+-------------------+------------------+------------------+------------------+-------------------+------------------+-----------------+-----------------+------------------+------------------+-----------------+------------------+------------------+------------------+\n",
            "\n"
          ],
          "name": "stdout"
        }
      ]
    },
    {
      "cell_type": "code",
      "metadata": {
        "colab": {
          "base_uri": "https://localhost:8080/"
        },
        "id": "WLNZq6e-AnAK",
        "outputId": "0279ac4f-a840-4220-aabb-8543b44cf8c2"
      },
      "source": [
        "new_df.printSchema()"
      ],
      "execution_count": null,
      "outputs": [
        {
          "output_type": "stream",
          "text": [
            "root\n",
            " |-- back_legroom: double (nullable = true)\n",
            " |-- bed: string (nullable = true)\n",
            " |-- body_type: string (nullable = true)\n",
            " |-- cabin: string (nullable = true)\n",
            " |-- city: string (nullable = true)\n",
            " |-- city_fuel_economy: double (nullable = true)\n",
            " |-- daysonmarket: integer (nullable = true)\n",
            " |-- dealer_zip: string (nullable = true)\n",
            " |-- engine_cylinders: integer (nullable = true)\n",
            " |-- engine_displacement: integer (nullable = true)\n",
            " |-- engine_type: string (nullable = true)\n",
            " |-- fleet: boolean (nullable = true)\n",
            " |-- frame_damaged: boolean (nullable = true)\n",
            " |-- franchise_dealer: boolean (nullable = true)\n",
            " |-- franchise_make: string (nullable = true)\n",
            " |-- front_legroom: double (nullable = true)\n",
            " |-- fuel_tank_volume: double (nullable = true)\n",
            " |-- fuel_type: string (nullable = true)\n",
            " |-- has_accidents: boolean (nullable = true)\n",
            " |-- height: double (nullable = true)\n",
            " |-- highway_fuel_economy: double (nullable = true)\n",
            " |-- horsepower: integer (nullable = true)\n",
            " |-- interior_color: string (nullable = true)\n",
            " |-- isCab: boolean (nullable = true)\n",
            " |-- is_cpo: boolean (nullable = true)\n",
            " |-- is_new: boolean (nullable = true)\n",
            " |-- is_oemcpo: boolean (nullable = true)\n",
            " |-- latitude: double (nullable = true)\n",
            " |-- length: double (nullable = true)\n",
            " |-- listed_date: string (nullable = true)\n",
            " |-- listing_color: string (nullable = true)\n",
            " |-- longitude: double (nullable = true)\n",
            " |-- major_options: string (nullable = true)\n",
            " |-- make_name: string (nullable = true)\n",
            " |-- maximum_seating: integer (nullable = true)\n",
            " |-- mileage: integer (nullable = true)\n",
            " |-- model_name: string (nullable = true)\n",
            " |-- owner_count: integer (nullable = true)\n",
            " |-- price: double (nullable = true)\n",
            " |-- salvage: boolean (nullable = true)\n",
            " |-- savings_amount: integer (nullable = true)\n",
            " |-- seller_rating: double (nullable = true)\n",
            " |-- sp_id: integer (nullable = true)\n",
            " |-- sp_name: string (nullable = true)\n",
            " |-- theft_title: boolean (nullable = true)\n",
            " |-- transmission: string (nullable = true)\n",
            " |-- transmission_display: integer (nullable = true)\n",
            " |-- wheel_system: string (nullable = true)\n",
            " |-- wheelbase: double (nullable = true)\n",
            " |-- width: double (nullable = true)\n",
            " |-- year: integer (nullable = true)\n",
            " |-- torque_ftlb: integer (nullable = true)\n",
            " |-- torque_rpm: integer (nullable = true)\n",
            " |-- torque_grade: double (nullable = true)\n",
            " |-- n_body_type: integer (nullable = true)\n",
            " |-- n_engine_type: integer (nullable = true)\n",
            " |-- n_fuel_type: integer (nullable = true)\n",
            " |-- n_transmission: integer (nullable = true)\n",
            " |-- n_wheel_system: integer (nullable = true)\n",
            " |-- n_city: double (nullable = true)\n",
            " |-- n_make_name: double (nullable = true)\n",
            " |-- n_dealer_zip: double (nullable = true)\n",
            " |-- n_franchise_make: double (nullable = true)\n",
            " |-- n_sp_name: double (nullable = true)\n",
            " |-- n_interior_color: double (nullable = true)\n",
            " |-- n_model_name: double (nullable = true)\n",
            " |-- n_listing_color: double (nullable = true)\n",
            " |-- kmeans: integer (nullable = true)\n",
            " |-- pc1: double (nullable = true)\n",
            " |-- pc2: double (nullable = true)\n",
            " |-- pc3: double (nullable = true)\n",
            " |-- pc4: double (nullable = true)\n",
            " |-- pc5: double (nullable = true)\n",
            " |-- pc6: double (nullable = true)\n",
            " |-- pc7: double (nullable = true)\n",
            " |-- pc8: double (nullable = true)\n",
            " |-- pc9: double (nullable = true)\n",
            " |-- pc10: double (nullable = true)\n",
            " |-- pc11: double (nullable = true)\n",
            " |-- pc12: double (nullable = true)\n",
            " |-- pc13: double (nullable = true)\n",
            " |-- pc14: double (nullable = true)\n",
            " |-- pc15: double (nullable = true)\n",
            " |-- pc16: double (nullable = true)\n",
            " |-- pc17: double (nullable = true)\n",
            " |-- pc18: double (nullable = true)\n",
            " |-- pc19: double (nullable = true)\n",
            " |-- pc20: double (nullable = true)\n",
            " |-- pc21: double (nullable = true)\n",
            " |-- pc22: double (nullable = true)\n",
            " |-- pc23: double (nullable = true)\n",
            " |-- pc24: double (nullable = true)\n",
            " |-- pc25: double (nullable = true)\n",
            " |-- pc26: double (nullable = true)\n",
            " |-- pc27: double (nullable = true)\n",
            " |-- pc28: double (nullable = true)\n",
            " |-- pc29: double (nullable = true)\n",
            " |-- pc30: double (nullable = true)\n",
            " |-- pc31: double (nullable = true)\n",
            " |-- pc32: double (nullable = true)\n",
            " |-- pc33: double (nullable = true)\n",
            " |-- pc34: double (nullable = true)\n",
            " |-- pc35: double (nullable = true)\n",
            " |-- pc36: double (nullable = true)\n",
            " |-- pc37: double (nullable = true)\n",
            " |-- pc38: double (nullable = true)\n",
            " |-- pc39: double (nullable = true)\n",
            " |-- pc40: double (nullable = true)\n",
            " |-- pc41: double (nullable = true)\n",
            " |-- pc42: double (nullable = true)\n",
            " |-- pc43: double (nullable = true)\n",
            " |-- pc44: double (nullable = true)\n",
            " |-- pc45: double (nullable = true)\n",
            " |-- pc46: double (nullable = true)\n",
            " |-- pc47: double (nullable = true)\n",
            " |-- pc48: double (nullable = true)\n",
            " |-- pc49: double (nullable = true)\n",
            "\n"
          ],
          "name": "stdout"
        }
      ]
    },
    {
      "cell_type": "code",
      "metadata": {
        "id": "TXT0XWPYAywj",
        "colab": {
          "base_uri": "https://localhost:8080/"
        },
        "outputId": "7231ab93-535f-4a04-de46-0aa8acf2cd20"
      },
      "source": [
        "list(new_df.columns)"
      ],
      "execution_count": null,
      "outputs": [
        {
          "output_type": "execute_result",
          "data": {
            "text/plain": [
              "['back_legroom',\n",
              " 'bed',\n",
              " 'body_type',\n",
              " 'cabin',\n",
              " 'city',\n",
              " 'city_fuel_economy',\n",
              " 'daysonmarket',\n",
              " 'dealer_zip',\n",
              " 'engine_cylinders',\n",
              " 'engine_displacement',\n",
              " 'engine_type',\n",
              " 'fleet',\n",
              " 'frame_damaged',\n",
              " 'franchise_dealer',\n",
              " 'franchise_make',\n",
              " 'front_legroom',\n",
              " 'fuel_tank_volume',\n",
              " 'fuel_type',\n",
              " 'has_accidents',\n",
              " 'height',\n",
              " 'highway_fuel_economy',\n",
              " 'horsepower',\n",
              " 'interior_color',\n",
              " 'isCab',\n",
              " 'is_cpo',\n",
              " 'is_new',\n",
              " 'is_oemcpo',\n",
              " 'latitude',\n",
              " 'length',\n",
              " 'listed_date',\n",
              " 'listing_color',\n",
              " 'longitude',\n",
              " 'major_options',\n",
              " 'make_name',\n",
              " 'maximum_seating',\n",
              " 'mileage',\n",
              " 'model_name',\n",
              " 'owner_count',\n",
              " 'price',\n",
              " 'salvage',\n",
              " 'savings_amount',\n",
              " 'seller_rating',\n",
              " 'sp_id',\n",
              " 'sp_name',\n",
              " 'theft_title',\n",
              " 'transmission',\n",
              " 'transmission_display',\n",
              " 'wheel_system',\n",
              " 'wheelbase',\n",
              " 'width',\n",
              " 'year',\n",
              " 'torque_ftlb',\n",
              " 'torque_rpm',\n",
              " 'torque_grade',\n",
              " 'n_body_type',\n",
              " 'n_engine_type',\n",
              " 'n_fuel_type',\n",
              " 'n_transmission',\n",
              " 'n_wheel_system',\n",
              " 'n_city',\n",
              " 'n_make_name',\n",
              " 'n_dealer_zip',\n",
              " 'n_franchise_make',\n",
              " 'n_sp_name',\n",
              " 'n_interior_color',\n",
              " 'n_model_name',\n",
              " 'n_listing_color',\n",
              " 'kmeans',\n",
              " 'pc1',\n",
              " 'pc2',\n",
              " 'pc3',\n",
              " 'pc4',\n",
              " 'pc5',\n",
              " 'pc6',\n",
              " 'pc7',\n",
              " 'pc8',\n",
              " 'pc9',\n",
              " 'pc10',\n",
              " 'pc11',\n",
              " 'pc12',\n",
              " 'pc13',\n",
              " 'pc14',\n",
              " 'pc15',\n",
              " 'pc16',\n",
              " 'pc17',\n",
              " 'pc18',\n",
              " 'pc19',\n",
              " 'pc20',\n",
              " 'pc21',\n",
              " 'pc22',\n",
              " 'pc23',\n",
              " 'pc24',\n",
              " 'pc25',\n",
              " 'pc26',\n",
              " 'pc27',\n",
              " 'pc28',\n",
              " 'pc29',\n",
              " 'pc30',\n",
              " 'pc31',\n",
              " 'pc32',\n",
              " 'pc33',\n",
              " 'pc34',\n",
              " 'pc35',\n",
              " 'pc36',\n",
              " 'pc37',\n",
              " 'pc38',\n",
              " 'pc39',\n",
              " 'pc40',\n",
              " 'pc41',\n",
              " 'pc42',\n",
              " 'pc43',\n",
              " 'pc44',\n",
              " 'pc45',\n",
              " 'pc46',\n",
              " 'pc47',\n",
              " 'pc48',\n",
              " 'pc49']"
            ]
          },
          "metadata": {
            "tags": []
          },
          "execution_count": 8
        }
      ]
    },
    {
      "cell_type": "code",
      "metadata": {
        "id": "BAnuwi3p2U84"
      },
      "source": [
        ""
      ],
      "execution_count": null,
      "outputs": []
    }
  ]
}