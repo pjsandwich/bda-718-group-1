{
  "nbformat": 4,
  "nbformat_minor": 0,
  "metadata": {
    "kernelspec": {
      "display_name": "Python 3",
      "language": "python",
      "name": "python3"
    },
    "language_info": {
      "mimetype": "text/x-python",
      "name": "python",
      "pygments_lexer": "ipython3",
      "codemirror_mode": {
        "name": "ipython",
        "version": 3
      },
      "version": "3.6.11",
      "nbconvert_exporter": "python",
      "file_extension": ".py"
    },
    "name": "IST-718 Fall 2020 Homework 4",
    "notebookId": 3053731002708017,
    "colab": {
      "name": "IST-718 Fall 2020 Homework 4.ipynb",
      "provenance": [],
      "include_colab_link": true
    }
  },
  "cells": [
    {
      "cell_type": "markdown",
      "metadata": {
        "id": "view-in-github",
        "colab_type": "text"
      },
      "source": [
        "<a href=\"https://colab.research.google.com/github/baschram/bda-718-group-1/blob/master/IST-718%20Fall%202020%20Homework%204.ipynb\" target=\"_parent\"><img src=\"https://colab.research.google.com/assets/colab-badge.svg\" alt=\"Open In Colab\"/></a>"
      ]
    },
    {
      "cell_type": "markdown",
      "metadata": {
        "id": "qKpA0wTiDF5T"
      },
      "source": [
        "##### Grading Feedback Cell"
      ]
    },
    {
      "cell_type": "markdown",
      "metadata": {
        "id": "MK8kAictDF5T"
      },
      "source": [
        "# IST 718: Big Data Analytics\n",
        "\n",
        "- Professor: Willard Williamson <wewillia@syr.edu>\n",
        "- Faculty Assistant: Vidushi Mishra <vmishr01@syr.edu>\n",
        "- Faculty Assistant: Pranav Kottoli Radhakrishna <pkottoli@syr.edu>\n",
        "## General instructions:\n",
        "\n",
        "- You are welcome to discuss the problems with your classmates but __you are not allowed to copy any part of your answers from your classmates.  Short code snippets are allowed from the internet.  Code from the class text books or class provided code can be copied in its entirety.__\n",
        "- There could be tests in some cells (i.e., `assert` and `np.testing.` statements). These tests (if present) are used to grade your answers. **However, the professor and FAs could use __additional__ test for your answer. Think about cases where your code should run even if it passess all the tests you see.**\n",
        "- Before submitting your work, remember to check for run time errors with the following procedure:\n",
        "`Kernel`$\\rightarrow$`Restart and Run All`.  All runtime errors will result in a minimum penalty of half off.\n",
        "- Data Bricks is the official class runtime environment so you should test your code on Data Bricks before submission.  If there is a runtime problem in the grading environment, we will try your code on Data Bricks before making a final grading decision.\n",
        "- All plots shall include descriptinve title and axis labels.  Plot legends shall be included where possible.  Unless stated otherwise, plots can be made using any Python plotting package.  It is understood that spark data structures must be converted to something like numpy or pandas prior to making plots.  All required mathematical operations, filtering, selection, etc., required by a homework question shall be performed in spark prior to converting to numpy or pandas.\n",
        "- Grading feedback cells are there for graders to provide feedback to students.  Don't change or remove grading feedback cells.\n",
        "- Don't add or remove files from your git repo.\n",
        "- Do not change file names in your repo.  This also means don't change the title of the ipython notebook.\n",
        "- You are free to add additional code cells around the cells marked `your code here`.\n",
        "- We reserve the right to take points off for operations that are extremely inefficient or \"heavy weight\".  This is a big data class and extremely inefficient operations make a big difference when scaling up to large data sets.  For example, the spark dataframe collect() method is a very heavy weight operation and should not be used unless it there is a real need for it.  An example where collect() might be needed is to get ready to make a plot after filtering a spark dataframe.\n",
        "- import * is not allowed because it is considered a very bad coding practice and in some cases can result in a significant delay (which slows down the grading process) in loading imports.  For example, the statement `from sympy import *` is not allowed.  You must import the specific packages that you need.\n",
        "- If you perform databricks specific operations, you MUST protect those operations in an if statement by calling the is_databricks() function provided in all homework assignments.  For example, if you use dbutils (databricks utilities), only run dbutils commands if is_databricks() returns true.  Runtime errors created in the grading environment by not protecting databricks specific commands in an if statement will result in a runtime error points deduction. \n",
        "- The graders reserve the right to deduct points for subjective things we see with your code.  For example, if we ask you to create a pandas data frame to display values from an investigation and you hard code the values, we will take points off for that.  This is only one of many different things we could find in reviewing your code.  In general, write your code like you are submitting it for a code peer review in industry.  \n",
        "- Level of effort is part of our subjective grading.  Oftentimes there is a large disparity between the level of effort between students who are trying learn, and students who are trying to do the minimum possible to check off an assignment requirement.  For example, in cases where we ask for a more open ended investigation, some students put in significant effort and some students do the minimum possible to meet requirements.  In these cases, we may take points off for students who did not put in much effort as compared to students who did put in a lot of effort.  We feel that the students who did a better job deserve a better grade.  We reserve the right to invoke level of effort grading at any time.\n",
        "- Only use spark, spark machine learning, spark data frames, RDD's, and map reduce to solve all problems unless instructed otherwise.\n",
        "- Unless code is provided which reads data files, __you must use the get_training_filename function povided below to read data files.\"  Runtime errors encountered while grading caused by students not using get_training_filename will result in a minimum of half points off for the problem in question.__"
      ]
    },
    {
      "cell_type": "code",
      "metadata": {
        "id": "3C3Us59kDLLU",
        "outputId": "e2fe2fd1-faa1-4a38-e8b4-62111ff0485d",
        "colab": {
          "base_uri": "https://localhost:8080/",
          "height": 69
        }
      },
      "source": [
        "%%bash\n",
        "\n",
        "# Need to install pyspark\n",
        "# if pyspark is already installed, will print a message indicating pyspark already isntalled\n",
        "pip install pyspark\n",
        "\n",
        "# Download tweets.csv from github\n",
        "# If the tweets.csv file does not exist in the colab environment\n",
        "if [[ ! -f ./tweets.csv ]]; then \n",
        "   # download tweets.csv file from github and save it in this colab environment instance\n",
        "   wget https://raw.githubusercontent.com/wewilli1/ist718_data/master/tweets.csv   \n",
        "fi\n",
        "\n",
        "# vefify tweets.csv exits in the colab env - should not print an error message\n",
        "ls tweets.csv"
      ],
      "execution_count": 24,
      "outputs": [
        {
          "output_type": "stream",
          "text": [
            "Requirement already satisfied: pyspark in /usr/local/lib/python3.6/dist-packages (3.0.1)\n",
            "Requirement already satisfied: py4j==0.10.9 in /usr/local/lib/python3.6/dist-packages (from pyspark) (0.10.9)\n",
            "tweets.csv\n"
          ],
          "name": "stdout"
        }
      ]
    },
    {
      "cell_type": "code",
      "metadata": {
        "id": "uZT9J6HFDOnW"
      },
      "source": [
        "# import statements\n",
        "from pyspark.sql import SparkSession\n",
        "from pyspark.sql import SQLContext\n",
        "spark = SparkSession.builder.getOrCreate()\n",
        "sc = spark.sparkContext\n",
        "sqlContext = SQLContext(sc)"
      ],
      "execution_count": 25,
      "outputs": []
    },
    {
      "cell_type": "code",
      "metadata": {
        "id": "EjMipt7-DUmO",
        "outputId": "c6e1ac7a-42db-4d66-d0fb-514dcf8c73af",
        "colab": {
          "base_uri": "https://localhost:8080/",
          "height": 104
        }
      },
      "source": [
        "# example code to read the downloaded tweets.csv file on colab\n",
        "tweets_df = spark.read.format(\"csv\").option(\"header\", \"true\").load(\"tweets.csv\")\n",
        "tweets_df.take(5)"
      ],
      "execution_count": 26,
      "outputs": [
        {
          "output_type": "execute_result",
          "data": {
            "text/plain": [
              "[Row(target='4', id='1467822272', date='Mon Apr 06 22:22:45 PDT 2009', flag='NO_QUERY', user='ersle', text='I LOVE @Health4UandPets u guys r the best!! '),\n",
              " Row(target='4', id='1467822273', date='Mon Apr 06 22:22:45 PDT 2009', flag='NO_QUERY', user='becca210', text='im meeting up with one of my besties tonight! Cant wait!!  - GIRL TALK!!'),\n",
              " Row(target='4', id='1467822283', date='Mon Apr 06 22:22:46 PDT 2009', flag='NO_QUERY', user='Wingman29', text='@DaRealSunisaKim Thanks for the Twitter add, Sunisa! I got to meet you once at a HIN show here in the DC area and you were a sweetheart. '),\n",
              " Row(target='4', id='1467822287', date='Mon Apr 06 22:22:46 PDT 2009', flag='NO_QUERY', user='katarinka', text='Being sick can be really cheap when it hurts too much to eat real food  Plus, your friends make you soup'),\n",
              " Row(target='4', id='1467822293', date='Mon Apr 06 22:22:46 PDT 2009', flag='NO_QUERY', user='_EmilyYoung', text='@LovesBrooklyn2 he has that effect on everyone ')]"
            ]
          },
          "metadata": {
            "tags": []
          },
          "execution_count": 26
        }
      ]
    },
    {
      "cell_type": "markdown",
      "metadata": {
        "id": "2EMxuKmiDqzj"
      },
      "source": [
        "What problems did you have with colab? Your comments here:"
      ]
    },
    {
      "cell_type": "code",
      "metadata": {
        "id": "K1MgILPRDF5U"
      },
      "source": [
        "# Do not delete or change this cell\n",
        "\n",
        "enable_grid = True\n",
        "\n",
        "# grading import statements\n",
        "%matplotlib inline\n",
        "from pyspark.sql import SparkSession\n",
        "from pyspark.sql import SQLContext\n",
        "spark = SparkSession.builder.getOrCreate()\n",
        "sc = spark.sparkContext\n",
        "sqlContext = SQLContext(sc)\n",
        "import os\n",
        "\n",
        "# Define a function to determine if we are running on data bricks\n",
        "# Return true if running in the data bricks environment, false otherwise\n",
        "def is_databricks():\n",
        "    # get the databricks runtime version\n",
        "    db_env = os.getenv(\"DATABRICKS_RUNTIME_VERSION\")\n",
        "    \n",
        "    # if running on data bricks\n",
        "    if db_env != None:\n",
        "        return True\n",
        "    else:\n",
        "        return False\n",
        "\n",
        "# Define a function to read the data file.  The full path data file name is constructed\n",
        "# by checking runtime environment variables to determine if the runtime environment is \n",
        "# databricks, or a student's personal computer.  The full path file name is then\n",
        "# constructed based on the runtime env.\n",
        "# \n",
        "# Params\n",
        "#   data_file_name: The base name of the data file to load\n",
        "# \n",
        "# Returns the full path file name based on the runtime env\n",
        "#\n",
        "# Correct Usage Example (pass ONLY the full file name):\n",
        "#   file_name_to_load = get_training_filename(\"sms_spam.csv\") # correct - pass ONLY the full file name  \n",
        "#   \n",
        "# Incorrect Usage Example\n",
        "#   file_name_to_load = get_training_filename(\"/sms_spam.csv\") # incorrect - pass ONLY the full file name\n",
        "#   file_name_to_load = get_training_filename(\"sms_spam.csv/\") # incorrect - pass ONLY the full file name\n",
        "#   file_name_to_load = get_training_filename(\"c:/users/will/data/sms_spam.csv\") incorrect -pass ONLY the full file name\n",
        "def get_training_filename(data_file_name):    \n",
        "    # if running on data bricks\n",
        "    if is_databricks():\n",
        "        # build the full path file name assuming data brick env\n",
        "        full_path_name = \"dbfs:/FileStore/tables/%s\" % data_file_name\n",
        "    # else the data is assumed to be in the same dir as this notebook\n",
        "    else:\n",
        "        # Assume the student is running on their own computer and load the data\n",
        "        # file from the same dir as this notebook\n",
        "        full_path_name = data_file_name\n",
        "    \n",
        "    # return the full path file name to the caller\n",
        "    return full_path_name"
      ],
      "execution_count": 27,
      "outputs": []
    },
    {
      "cell_type": "markdown",
      "metadata": {
        "id": "WGvKhnMSDF5X"
      },
      "source": [
        "# Sentiment Analysis\n",
        "In this assignment, you will use the tweets.csv file to perform sentiment analysis. The tweets.csv file contains the following columns:\n",
        "- target: the polarity of the tweet (0 = negative, 4 = positive)\n",
        "- ids: The id of the tweet ( 2087)\n",
        "- date: the date of the tweet (Sat May 16 23:58:44 UTC 2009)\n",
        "- flag: The query (lyx). If there is no query, then this value is NO_QUERY.\n",
        "- user: the user that tweeted (robotickilldozr)\n",
        "- text: the text of the tweet (Lyx is cool)"
      ]
    },
    {
      "cell_type": "markdown",
      "metadata": {
        "id": "9EyHCufqDF5Y"
      },
      "source": [
        "# Qustion 1: (10 pts)\n",
        "Read tweets.csv into a spark dataframe named `tweets_df`.  Solutions that do not use `get_training_filename` will be heavily penalized.  Drop all columns except target and text.  Transform the target column such that a negative sentiment is equal to 0 and a positive sentiment is equal to 1.  Determine and print the percentage of positive and negative tweets in the dataframe such that it's easy for the graders to find and interpret your data."
      ]
    },
    {
      "cell_type": "code",
      "metadata": {
        "id": "jz1J-vzhDF5Y",
        "outputId": "9bcb809f-ec5b-457b-c96b-3b99d69ad6c7",
        "colab": {
          "base_uri": "https://localhost:8080/",
          "height": 260
        }
      },
      "source": [
        "# your code here\n",
        "from pyspark.sql import functions as fn\n",
        "\n",
        "#tweets_df = spark.read.format(\"csv\").option(\"header\", \"true\").load(get_training_filename(\"tweets.csv\"))\n",
        "tweets_df = tweets_df.drop('id').drop('date').drop('flag').drop('user')\n",
        "\n",
        "#Transform 4 polarity to 1, negative polarity already correct\n",
        "tweets_df = tweets_df.withColumn('target',fn.translate('target','4','1'))\n",
        "tweets_df = tweets_df.withColumn('target', fn.col('target').cast('long'))\n",
        "\n",
        "\n",
        "#Validate transform\n",
        "tweets_df.select('target').distinct().show()\n",
        "\n",
        "#Need to print percentages\n",
        "percent = tweets_df.groupBy(\"target\").agg(fn.count('*').alias(\"count\"))\n",
        "total = percent.agg(fn.sum('count')).first()[0]\n",
        "percent = percent.withColumn('percentage',fn.col('count')/total)\n",
        "\n",
        "percent.show()"
      ],
      "execution_count": 28,
      "outputs": [
        {
          "output_type": "stream",
          "text": [
            "+------+\n",
            "|target|\n",
            "+------+\n",
            "|     0|\n",
            "|     1|\n",
            "+------+\n",
            "\n",
            "+------+-----+----------+\n",
            "|target|count|percentage|\n",
            "+------+-----+----------+\n",
            "|     0|50000|       0.5|\n",
            "|     1|50000|       0.5|\n",
            "+------+-----+----------+\n",
            "\n"
          ],
          "name": "stdout"
        }
      ]
    },
    {
      "cell_type": "code",
      "metadata": {
        "id": "q6ql2qhwDF5a",
        "outputId": "7fdc06a6-3201-4e15-9c73-b62f8902f17b",
        "colab": {
          "base_uri": "https://localhost:8080/",
          "height": 219
        }
      },
      "source": [
        "# grading cell do not modify\n",
        "tweets_pd = tweets_df.toPandas()\n",
        "display(tweets_pd.head())\n",
        "print(tweets_pd.shape)"
      ],
      "execution_count": 29,
      "outputs": [
        {
          "output_type": "display_data",
          "data": {
            "text/html": [
              "<div>\n",
              "<style scoped>\n",
              "    .dataframe tbody tr th:only-of-type {\n",
              "        vertical-align: middle;\n",
              "    }\n",
              "\n",
              "    .dataframe tbody tr th {\n",
              "        vertical-align: top;\n",
              "    }\n",
              "\n",
              "    .dataframe thead th {\n",
              "        text-align: right;\n",
              "    }\n",
              "</style>\n",
              "<table border=\"1\" class=\"dataframe\">\n",
              "  <thead>\n",
              "    <tr style=\"text-align: right;\">\n",
              "      <th></th>\n",
              "      <th>target</th>\n",
              "      <th>text</th>\n",
              "    </tr>\n",
              "  </thead>\n",
              "  <tbody>\n",
              "    <tr>\n",
              "      <th>0</th>\n",
              "      <td>1</td>\n",
              "      <td>I LOVE @Health4UandPets u guys r the best!!</td>\n",
              "    </tr>\n",
              "    <tr>\n",
              "      <th>1</th>\n",
              "      <td>1</td>\n",
              "      <td>im meeting up with one of my besties tonight! ...</td>\n",
              "    </tr>\n",
              "    <tr>\n",
              "      <th>2</th>\n",
              "      <td>1</td>\n",
              "      <td>@DaRealSunisaKim Thanks for the Twitter add, S...</td>\n",
              "    </tr>\n",
              "    <tr>\n",
              "      <th>3</th>\n",
              "      <td>1</td>\n",
              "      <td>Being sick can be really cheap when it hurts t...</td>\n",
              "    </tr>\n",
              "    <tr>\n",
              "      <th>4</th>\n",
              "      <td>1</td>\n",
              "      <td>@LovesBrooklyn2 he has that effect on everyone</td>\n",
              "    </tr>\n",
              "  </tbody>\n",
              "</table>\n",
              "</div>"
            ],
            "text/plain": [
              "   target                                               text\n",
              "0       1       I LOVE @Health4UandPets u guys r the best!! \n",
              "1       1  im meeting up with one of my besties tonight! ...\n",
              "2       1  @DaRealSunisaKim Thanks for the Twitter add, S...\n",
              "3       1  Being sick can be really cheap when it hurts t...\n",
              "4       1    @LovesBrooklyn2 he has that effect on everyone "
            ]
          },
          "metadata": {
            "tags": []
          }
        },
        {
          "output_type": "stream",
          "text": [
            "(100000, 2)\n"
          ],
          "name": "stdout"
        }
      ]
    },
    {
      "cell_type": "markdown",
      "metadata": {
        "id": "QhnmGwdGDF5c"
      },
      "source": [
        "##### Grading Feedback Cell"
      ]
    },
    {
      "cell_type": "markdown",
      "metadata": {
        "id": "i7u-12QHDF5d"
      },
      "source": [
        "# Question 2: (10 pts)\n",
        "Pre-process the data by creating a pipeline named `tweets_pre_proc_pipe`. Your pipeline should tokenize, remove stop words, and do a TF-IDF transformation.  Fit and execute your pipeline, and create a new dataframe named `tweets_pre_proc_df`.  Print the shape of the resulting TF-IDF data such that it's easy for the graders to find and understand as num rows x num words. Based on the shape of the TF-IDF data, would you expect a logistic regression model to overfit?"
      ]
    },
    {
      "cell_type": "code",
      "metadata": {
        "id": "yQUq6sLwDF5d",
        "outputId": "1b9a53e0-d262-4264-e0aa-03677068c83f",
        "colab": {
          "base_uri": "https://localhost:8080/",
          "height": 52
        }
      },
      "source": [
        "# your code here\n",
        "from pyspark.ml import Pipeline\n",
        "from pyspark.ml.feature import Tokenizer, StopWordsRemover, CountVectorizer, IDF\n",
        "from requests import get\n",
        "\n",
        "\n",
        "stop_words = get('http://ir.dcs.gla.ac.uk/resources/linguistic_utils/stop_words').text.split()\n",
        "\n",
        "tokenizer = Tokenizer().setInputCol('text').setOutputCol('words')\n",
        "\n",
        "sw_filter = StopWordsRemover()\\\n",
        "  .setStopWords(stop_words)\\\n",
        "  .setCaseSensitive(False)\\\n",
        "  .setInputCol(\"words\")\\\n",
        "  .setOutputCol(\"filtered\")\n",
        "\n",
        "cv = CountVectorizer(minTF=1., minDF=5., vocabSize=2**17)\\\n",
        "  .setInputCol(\"filtered\")\\\n",
        "  .setOutputCol(\"tf\")\n",
        "\n",
        "idf = IDF().\\\n",
        "    setInputCol('tf').\\\n",
        "    setOutputCol('tfidf')\n",
        "\n",
        "tweets_pre_proc_pipe = Pipeline(stages=[tokenizer,sw_filter,cv,idf]).fit(tweets_df)\n",
        "\n",
        "tweets_pre_proc_df = tweets_pre_proc_pipe.transform(tweets_df)\n",
        "\n",
        "vocabulary = tweets_pre_proc_pipe.stages[-2].vocabulary\n",
        "print(\"num rows:\", tweets_df.count())\n",
        "print(\"num columns:\", len(vocabulary))\n",
        "\n",
        "\n"
      ],
      "execution_count": 30,
      "outputs": [
        {
          "output_type": "stream",
          "text": [
            "num rows: 100000\n",
            "num columns: 13693\n"
          ],
          "name": "stdout"
        }
      ]
    },
    {
      "cell_type": "code",
      "metadata": {
        "id": "1GsrXa6tDF5f",
        "outputId": "91fd8f07-e909-43cd-e350-9821f7429dc5",
        "colab": {
          "base_uri": "https://localhost:8080/",
          "height": 202
        }
      },
      "source": [
        "# grading cell do not modify\n",
        "display(tweets_pre_proc_df.toPandas().head())"
      ],
      "execution_count": 31,
      "outputs": [
        {
          "output_type": "display_data",
          "data": {
            "text/html": [
              "<div>\n",
              "<style scoped>\n",
              "    .dataframe tbody tr th:only-of-type {\n",
              "        vertical-align: middle;\n",
              "    }\n",
              "\n",
              "    .dataframe tbody tr th {\n",
              "        vertical-align: top;\n",
              "    }\n",
              "\n",
              "    .dataframe thead th {\n",
              "        text-align: right;\n",
              "    }\n",
              "</style>\n",
              "<table border=\"1\" class=\"dataframe\">\n",
              "  <thead>\n",
              "    <tr style=\"text-align: right;\">\n",
              "      <th></th>\n",
              "      <th>target</th>\n",
              "      <th>text</th>\n",
              "      <th>words</th>\n",
              "      <th>filtered</th>\n",
              "      <th>tf</th>\n",
              "      <th>tfidf</th>\n",
              "    </tr>\n",
              "  </thead>\n",
              "  <tbody>\n",
              "    <tr>\n",
              "      <th>0</th>\n",
              "      <td>1</td>\n",
              "      <td>I LOVE @Health4UandPets u guys r the best!!</td>\n",
              "      <td>[i, love, @health4uandpets, u, guys, r, the, b...</td>\n",
              "      <td>[love, @health4uandpets, u, guys, r, best!!]</td>\n",
              "      <td>(0.0, 0.0, 0.0, 0.0, 0.0, 0.0, 0.0, 0.0, 0.0, ...</td>\n",
              "      <td>(0.0, 0.0, 0.0, 0.0, 0.0, 0.0, 0.0, 0.0, 0.0, ...</td>\n",
              "    </tr>\n",
              "    <tr>\n",
              "      <th>1</th>\n",
              "      <td>1</td>\n",
              "      <td>im meeting up with one of my besties tonight! ...</td>\n",
              "      <td>[im, meeting, up, with, one, of, my, besties, ...</td>\n",
              "      <td>[im, meeting, besties, tonight!, wait!!, , -, ...</td>\n",
              "      <td>(1.0, 0.0, 0.0, 0.0, 0.0, 1.0, 0.0, 0.0, 0.0, ...</td>\n",
              "      <td>(1.1265280578718189, 0.0, 0.0, 0.0, 0.0, 3.183...</td>\n",
              "    </tr>\n",
              "    <tr>\n",
              "      <th>2</th>\n",
              "      <td>1</td>\n",
              "      <td>@DaRealSunisaKim Thanks for the Twitter add, S...</td>\n",
              "      <td>[@darealsunisakim, thanks, for, the, twitter, ...</td>\n",
              "      <td>[@darealsunisakim, thanks, twitter, add,, suni...</td>\n",
              "      <td>(0.0, 0.0, 0.0, 0.0, 0.0, 0.0, 0.0, 0.0, 0.0, ...</td>\n",
              "      <td>(0.0, 0.0, 0.0, 0.0, 0.0, 0.0, 0.0, 0.0, 0.0, ...</td>\n",
              "    </tr>\n",
              "    <tr>\n",
              "      <th>3</th>\n",
              "      <td>1</td>\n",
              "      <td>Being sick can be really cheap when it hurts t...</td>\n",
              "      <td>[being, sick, can, be, really, cheap, when, it...</td>\n",
              "      <td>[sick, really, cheap, hurts, eat, real, food, ...</td>\n",
              "      <td>(1.0, 0.0, 0.0, 0.0, 0.0, 0.0, 0.0, 0.0, 0.0, ...</td>\n",
              "      <td>(1.1265280578718189, 0.0, 0.0, 0.0, 0.0, 0.0, ...</td>\n",
              "    </tr>\n",
              "    <tr>\n",
              "      <th>4</th>\n",
              "      <td>1</td>\n",
              "      <td>@LovesBrooklyn2 he has that effect on everyone</td>\n",
              "      <td>[@lovesbrooklyn2, he, has, that, effect, on, e...</td>\n",
              "      <td>[@lovesbrooklyn2, effect]</td>\n",
              "      <td>(0.0, 0.0, 0.0, 0.0, 0.0, 0.0, 0.0, 0.0, 0.0, ...</td>\n",
              "      <td>(0.0, 0.0, 0.0, 0.0, 0.0, 0.0, 0.0, 0.0, 0.0, ...</td>\n",
              "    </tr>\n",
              "  </tbody>\n",
              "</table>\n",
              "</div>"
            ],
            "text/plain": [
              "   target  ...                                              tfidf\n",
              "0       1  ...  (0.0, 0.0, 0.0, 0.0, 0.0, 0.0, 0.0, 0.0, 0.0, ...\n",
              "1       1  ...  (1.1265280578718189, 0.0, 0.0, 0.0, 0.0, 3.183...\n",
              "2       1  ...  (0.0, 0.0, 0.0, 0.0, 0.0, 0.0, 0.0, 0.0, 0.0, ...\n",
              "3       1  ...  (1.1265280578718189, 0.0, 0.0, 0.0, 0.0, 0.0, ...\n",
              "4       1  ...  (0.0, 0.0, 0.0, 0.0, 0.0, 0.0, 0.0, 0.0, 0.0, ...\n",
              "\n",
              "[5 rows x 6 columns]"
            ]
          },
          "metadata": {
            "tags": []
          }
        }
      ]
    },
    {
      "cell_type": "markdown",
      "metadata": {
        "id": "u8ZURBmkDF5h"
      },
      "source": [
        "Your explanation here: I do not expect a logistic regression model to overfit because there are a greater number of rows (tweets) in the data set that there are columns (individual words).  The number of tweets are an order of magnitiude greater than the vocabulary and even if splitting the data into a training and testing sets, there should be suffcient number of rows in the training set to avoid overfitting."
      ]
    },
    {
      "cell_type": "markdown",
      "metadata": {
        "id": "U9wm2Y4lDF5h"
      },
      "source": [
        "##### Grading Feedback Cell"
      ]
    },
    {
      "cell_type": "markdown",
      "metadata": {
        "id": "Uqrfp--ADF5i"
      },
      "source": [
        "# Question 3: (10 pts)\n",
        "Since IDF considers a word's frequency across all documents in a corpus, you can use IDF as a form of inference.  Examine the documentation for the spark ML object that you used to create TF-IDF scores and learn how to extract the IDF scores for words in the corpus.  Create a pandas dataframe containing the 5 most important IDF scores named `most_imp_idf`.  Create another pandas dataframe containing the 5 least important IDF scores named `least_imp_idf`.  Each dataframe shall have 2 columns named `word` and `idf_score`.  Explain in words your interpretation of what the IDF scores mean."
      ]
    },
    {
      "cell_type": "code",
      "metadata": {
        "id": "RF9mGO4YDF5i"
      },
      "source": [
        "# your code here\n",
        "idf = tweets_pre_proc_pipe.stages[-1].idf.tolist()\n",
        "vocab = tweets_pre_proc_pipe.stages[-2].vocabulary\n",
        "\n",
        "idfcol = ['word','idf_score']\n",
        "\n",
        "idf_df = spark.createDataFrame(data=zip(vocab,idf),schema = idfcol)\n",
        "\n",
        "most_imp_idf = idf_df.sort(fn.desc('idf_score')).limit(5).toPandas()\n",
        "least_imp_idf = idf_df.sort('idf_score').limit(5).toPandas()\n"
      ],
      "execution_count": 32,
      "outputs": []
    },
    {
      "cell_type": "code",
      "metadata": {
        "id": "wEwFmAtHDF5k",
        "outputId": "55fd0ed4-3da4-44ca-9101-f7408c497a84",
        "colab": {
          "base_uri": "https://localhost:8080/",
          "height": 387
        }
      },
      "source": [
        "# grading cell do not modify\n",
        "display(most_imp_idf)\n",
        "display(least_imp_idf)"
      ],
      "execution_count": 33,
      "outputs": [
        {
          "output_type": "display_data",
          "data": {
            "text/html": [
              "<div>\n",
              "<style scoped>\n",
              "    .dataframe tbody tr th:only-of-type {\n",
              "        vertical-align: middle;\n",
              "    }\n",
              "\n",
              "    .dataframe tbody tr th {\n",
              "        vertical-align: top;\n",
              "    }\n",
              "\n",
              "    .dataframe thead th {\n",
              "        text-align: right;\n",
              "    }\n",
              "</style>\n",
              "<table border=\"1\" class=\"dataframe\">\n",
              "  <thead>\n",
              "    <tr style=\"text-align: right;\">\n",
              "      <th></th>\n",
              "      <th>word</th>\n",
              "      <th>idf_score</th>\n",
              "    </tr>\n",
              "  </thead>\n",
              "  <tbody>\n",
              "    <tr>\n",
              "      <th>0</th>\n",
              "      <td>thks</td>\n",
              "      <td>9.721176</td>\n",
              "    </tr>\n",
              "    <tr>\n",
              "      <th>1</th>\n",
              "      <td>aku</td>\n",
              "      <td>9.721176</td>\n",
              "    </tr>\n",
              "    <tr>\n",
              "      <th>2</th>\n",
              "      <td>(8)</td>\n",
              "      <td>9.721176</td>\n",
              "    </tr>\n",
              "    <tr>\n",
              "      <th>3</th>\n",
              "      <td>but..</td>\n",
              "      <td>9.721176</td>\n",
              "    </tr>\n",
              "    <tr>\n",
              "      <th>4</th>\n",
              "      <td>broke,</td>\n",
              "      <td>9.721176</td>\n",
              "    </tr>\n",
              "  </tbody>\n",
              "</table>\n",
              "</div>"
            ],
            "text/plain": [
              "     word  idf_score\n",
              "0    thks   9.721176\n",
              "1     aku   9.721176\n",
              "2     (8)   9.721176\n",
              "3   but..   9.721176\n",
              "4  broke,   9.721176"
            ]
          },
          "metadata": {
            "tags": []
          }
        },
        {
          "output_type": "display_data",
          "data": {
            "text/html": [
              "<div>\n",
              "<style scoped>\n",
              "    .dataframe tbody tr th:only-of-type {\n",
              "        vertical-align: middle;\n",
              "    }\n",
              "\n",
              "    .dataframe tbody tr th {\n",
              "        vertical-align: top;\n",
              "    }\n",
              "\n",
              "    .dataframe thead th {\n",
              "        text-align: right;\n",
              "    }\n",
              "</style>\n",
              "<table border=\"1\" class=\"dataframe\">\n",
              "  <thead>\n",
              "    <tr style=\"text-align: right;\">\n",
              "      <th></th>\n",
              "      <th>word</th>\n",
              "      <th>idf_score</th>\n",
              "    </tr>\n",
              "  </thead>\n",
              "  <tbody>\n",
              "    <tr>\n",
              "      <th>0</th>\n",
              "      <td></td>\n",
              "      <td>1.126528</td>\n",
              "    </tr>\n",
              "    <tr>\n",
              "      <th>1</th>\n",
              "      <td>just</td>\n",
              "      <td>2.588812</td>\n",
              "    </tr>\n",
              "    <tr>\n",
              "      <th>2</th>\n",
              "      <td>i'm</td>\n",
              "      <td>2.645649</td>\n",
              "    </tr>\n",
              "    <tr>\n",
              "      <th>3</th>\n",
              "      <td>good</td>\n",
              "      <td>3.015945</td>\n",
              "    </tr>\n",
              "    <tr>\n",
              "      <th>4</th>\n",
              "      <td>like</td>\n",
              "      <td>3.113850</td>\n",
              "    </tr>\n",
              "  </tbody>\n",
              "</table>\n",
              "</div>"
            ],
            "text/plain": [
              "   word  idf_score\n",
              "0         1.126528\n",
              "1  just   2.588812\n",
              "2   i'm   2.645649\n",
              "3  good   3.015945\n",
              "4  like   3.113850"
            ]
          },
          "metadata": {
            "tags": []
          }
        }
      ]
    },
    {
      "cell_type": "markdown",
      "metadata": {
        "id": "baiQGPevDF5n"
      },
      "source": [
        "Your explanation here: The least important IDF words occur frequently within and across the range of documents so their scores are discounted as they do not provide much meaning because they are so common.  The most important words occur less frequently across the documents and therefore may provide a better indication of sentiment (poisitive or negative) if encountered."
      ]
    },
    {
      "cell_type": "markdown",
      "metadata": {
        "id": "O-qIIOhDDF5o"
      },
      "source": [
        "##### Grading Feedback Cell"
      ]
    },
    {
      "cell_type": "markdown",
      "metadata": {
        "id": "T7ndzoHoDF5o"
      },
      "source": [
        "# Question 4: (10 pts)\n",
        "Create a new recursive pipeline named `lr_pipe` which starts with `tweets_pre_proc_pipe` and adds a logistic regression model using default hyper parameters.  Fit lr_pipe using `tweets_df`.  Score the model using ROC AUC.  Report the resulting AUC such that it is easy for graders to find and interpret."
      ]
    },
    {
      "cell_type": "code",
      "metadata": {
        "id": "DcsHp9e_DF5p",
        "outputId": "21b95054-fd9f-45ad-faba-14e4f4356db1",
        "colab": {
          "base_uri": "https://localhost:8080/",
          "height": 35
        }
      },
      "source": [
        "# your code here\n",
        "from pyspark.ml.classification import LogisticRegression\n",
        "from pyspark.ml.evaluation import BinaryClassificationEvaluator\n",
        "\n",
        "training_df, validation_df, testing_df = tweets_df.randomSplit([0.6, 0.3, 0.1], seed=0)\n",
        "\n",
        "lr = LogisticRegression(labelCol='target',featuresCol='tfidf')\n",
        "\n",
        "lr_pipe = Pipeline(stages = [tweets_pre_proc_pipe,lr]).fit(training_df)\n",
        "\n",
        "evaluator = BinaryClassificationEvaluator(labelCol='target',metricName = 'areaUnderROC')\n",
        "\n",
        "score_lr_pipe = evaluator.evaluate(lr_pipe.transform(validation_df))\n",
        "\n",
        "print('Area under ROC: ', score_lr_pipe)\n"
      ],
      "execution_count": 34,
      "outputs": [
        {
          "output_type": "stream",
          "text": [
            "Area under ROC:  0.7302971442176194\n"
          ],
          "name": "stdout"
        }
      ]
    },
    {
      "cell_type": "markdown",
      "metadata": {
        "id": "l0usF65_DF5r"
      },
      "source": [
        "##### Grading Feedback Cell"
      ]
    },
    {
      "cell_type": "markdown",
      "metadata": {
        "id": "XDf7Y49JDF5s"
      },
      "source": [
        "# Question 5: (10 pts)\n",
        "Create 2 pandas dataframes named `lr_pipe_df_neg` and `lr_pipe_df_pos`which contain 2 colunms: `word` and `score`.  Load the 2 dataframes with the top 10 words and logistic regression coefficients that contribute the most to negative and positive sentiments respectively. Analyze the 2 dataframes and describe if the words make sense.  Do the words look like they are really negative and positive?"
      ]
    },
    {
      "cell_type": "code",
      "metadata": {
        "id": "cECeKZE4DF5s"
      },
      "source": [
        "# your code here\n",
        "import pandas as pd\n",
        "vocabulary = lr_pipe.stages[0].stages[-2].vocabulary\n",
        "score = lr_pipe.stages[-1].coefficients.tolist()\n",
        "\n",
        "datacol = ['word','score']\n",
        "\n",
        "coeffs_df = spark.createDataFrame(data=zip(vocabulary,score),schema = datacol)\n",
        "\n",
        "lr_pipe_df_pos = coeffs_df.sort(fn.desc('score')).limit(10).toPandas()\n",
        "lr_pipe_df_neg = coeffs_df.sort('score').limit(10).toPandas()\n",
        "\n",
        "#coeffs_df = pd.DataFrame({'word':vocabulary,'score':score})\n",
        "\n",
        "#lr_pipe_df_pos = coeffs_df.sort_values('score', ascending=False).head(10)\n",
        "#lr_pipe_df_neg = coeffs_df.sort_values('score').head(10)"
      ],
      "execution_count": 35,
      "outputs": []
    },
    {
      "cell_type": "code",
      "metadata": {
        "id": "MsfSuHmjDF5u",
        "outputId": "48cc71c0-2a94-4466-b3b3-3ff558b82939",
        "colab": {
          "base_uri": "https://localhost:8080/",
          "height": 693
        }
      },
      "source": [
        "# grading cell - do not modify\n",
        "display(lr_pipe_df_neg)\n",
        "display(lr_pipe_df_pos)"
      ],
      "execution_count": 36,
      "outputs": [
        {
          "output_type": "display_data",
          "data": {
            "text/html": [
              "<div>\n",
              "<style scoped>\n",
              "    .dataframe tbody tr th:only-of-type {\n",
              "        vertical-align: middle;\n",
              "    }\n",
              "\n",
              "    .dataframe tbody tr th {\n",
              "        vertical-align: top;\n",
              "    }\n",
              "\n",
              "    .dataframe thead th {\n",
              "        text-align: right;\n",
              "    }\n",
              "</style>\n",
              "<table border=\"1\" class=\"dataframe\">\n",
              "  <thead>\n",
              "    <tr style=\"text-align: right;\">\n",
              "      <th></th>\n",
              "      <th>word</th>\n",
              "      <th>score</th>\n",
              "    </tr>\n",
              "  </thead>\n",
              "  <tbody>\n",
              "    <tr>\n",
              "      <th>0</th>\n",
              "      <td>adopted</td>\n",
              "      <td>-8.641777</td>\n",
              "    </tr>\n",
              "    <tr>\n",
              "      <th>1</th>\n",
              "      <td>selfish</td>\n",
              "      <td>-8.157059</td>\n",
              "    </tr>\n",
              "    <tr>\n",
              "      <th>2</th>\n",
              "      <td>depressed</td>\n",
              "      <td>-6.644970</td>\n",
              "    </tr>\n",
              "    <tr>\n",
              "      <th>3</th>\n",
              "      <td>update:</td>\n",
              "      <td>-6.311959</td>\n",
              "    </tr>\n",
              "    <tr>\n",
              "      <th>4</th>\n",
              "      <td>brutal</td>\n",
              "      <td>-6.265906</td>\n",
              "    </tr>\n",
              "    <tr>\n",
              "      <th>5</th>\n",
              "      <td>@milliemagsaysay</td>\n",
              "      <td>-6.040053</td>\n",
              "    </tr>\n",
              "    <tr>\n",
              "      <th>6</th>\n",
              "      <td>pirates</td>\n",
              "      <td>-5.925209</td>\n",
              "    </tr>\n",
              "    <tr>\n",
              "      <th>7</th>\n",
              "      <td>why'd</td>\n",
              "      <td>-5.904686</td>\n",
              "    </tr>\n",
              "    <tr>\n",
              "      <th>8</th>\n",
              "      <td>dec</td>\n",
              "      <td>-5.894391</td>\n",
              "    </tr>\n",
              "    <tr>\n",
              "      <th>9</th>\n",
              "      <td>last!</td>\n",
              "      <td>-5.765711</td>\n",
              "    </tr>\n",
              "  </tbody>\n",
              "</table>\n",
              "</div>"
            ],
            "text/plain": [
              "               word     score\n",
              "0           adopted -8.641777\n",
              "1           selfish -8.157059\n",
              "2         depressed -6.644970\n",
              "3           update: -6.311959\n",
              "4            brutal -6.265906\n",
              "5  @milliemagsaysay -6.040053\n",
              "6           pirates -5.925209\n",
              "7             why'd -5.904686\n",
              "8               dec -5.894391\n",
              "9             last! -5.765711"
            ]
          },
          "metadata": {
            "tags": []
          }
        },
        {
          "output_type": "display_data",
          "data": {
            "text/html": [
              "<div>\n",
              "<style scoped>\n",
              "    .dataframe tbody tr th:only-of-type {\n",
              "        vertical-align: middle;\n",
              "    }\n",
              "\n",
              "    .dataframe tbody tr th {\n",
              "        vertical-align: top;\n",
              "    }\n",
              "\n",
              "    .dataframe thead th {\n",
              "        text-align: right;\n",
              "    }\n",
              "</style>\n",
              "<table border=\"1\" class=\"dataframe\">\n",
              "  <thead>\n",
              "    <tr style=\"text-align: right;\">\n",
              "      <th></th>\n",
              "      <th>word</th>\n",
              "      <th>score</th>\n",
              "    </tr>\n",
              "  </thead>\n",
              "  <tbody>\n",
              "    <tr>\n",
              "      <th>0</th>\n",
              "      <td>ja</td>\n",
              "      <td>7.734643</td>\n",
              "    </tr>\n",
              "    <tr>\n",
              "      <th>1</th>\n",
              "      <td>lotr</td>\n",
              "      <td>7.166360</td>\n",
              "    </tr>\n",
              "    <tr>\n",
              "      <th>2</th>\n",
              "      <td>pizza?</td>\n",
              "      <td>6.978478</td>\n",
              "    </tr>\n",
              "    <tr>\n",
              "      <th>3</th>\n",
              "      <td>participating</td>\n",
              "      <td>6.635875</td>\n",
              "    </tr>\n",
              "    <tr>\n",
              "      <th>4</th>\n",
              "      <td>ride!</td>\n",
              "      <td>6.511661</td>\n",
              "    </tr>\n",
              "    <tr>\n",
              "      <th>5</th>\n",
              "      <td>anyway..</td>\n",
              "      <td>5.679254</td>\n",
              "    </tr>\n",
              "    <tr>\n",
              "      <th>6</th>\n",
              "      <td>marvelous</td>\n",
              "      <td>5.619924</td>\n",
              "    </tr>\n",
              "    <tr>\n",
              "      <th>7</th>\n",
              "      <td>demi.</td>\n",
              "      <td>5.526293</td>\n",
              "    </tr>\n",
              "    <tr>\n",
              "      <th>8</th>\n",
              "      <td>ch?</td>\n",
              "      <td>5.113280</td>\n",
              "    </tr>\n",
              "    <tr>\n",
              "      <th>9</th>\n",
              "      <td>kidding,</td>\n",
              "      <td>5.059666</td>\n",
              "    </tr>\n",
              "  </tbody>\n",
              "</table>\n",
              "</div>"
            ],
            "text/plain": [
              "            word     score\n",
              "0             ja  7.734643\n",
              "1           lotr  7.166360\n",
              "2         pizza?  6.978478\n",
              "3  participating  6.635875\n",
              "4          ride!  6.511661\n",
              "5       anyway..  5.679254\n",
              "6      marvelous  5.619924\n",
              "7          demi.  5.526293\n",
              "8            ch?  5.113280\n",
              "9       kidding,  5.059666"
            ]
          },
          "metadata": {
            "tags": []
          }
        }
      ]
    },
    {
      "cell_type": "markdown",
      "metadata": {
        "id": "ztdg0Q61DF5x"
      },
      "source": [
        "Your explanation here: Both dataframes contain some words that do not correlate to positive or negative sentiment.  For example in the positive dataframe, it has 'maybe', 'ugh', and 'c.', that do not indicate positivity.  In the negative dataframe, 'chrisptoher', the web url, 'tours', 'lung' don't seem to make sense as negative words."
      ]
    },
    {
      "cell_type": "markdown",
      "metadata": {
        "id": "i4GIaUCeDF5x"
      },
      "source": [
        "##### Grading Feedback Cell"
      ]
    },
    {
      "cell_type": "markdown",
      "metadata": {
        "id": "mEE-R3gODF5y"
      },
      "source": [
        "# Question 6a: (5 pts)\n",
        "The goal of this question is to try to improve the score from question 4 using a regularization grid search on a new pipeline named `lr_pipe_1`. lr_pipe_1 is the same as lr_pipe above but we would like you to create a new pipe for grading purposes only.  I'm not sure if it's possible to increase the score or not.  You will be graded on level of effort to increase the score in relation to other students in the class.  All of your grid search code should be inside the `if enable_grid` statement in the cell below.  The enable_grid boolean is set to true in a grading cell above.  If any of the grid search code executes outside of the if statement, you will not get full credit for the question.  We want the ability to turn off the grid search during grading.<br>"
      ]
    },
    {
      "cell_type": "code",
      "metadata": {
        "id": "BOHgwz_1DF5y"
      },
      "source": [
        "enable_grid = True"
      ],
      "execution_count": 37,
      "outputs": []
    },
    {
      "cell_type": "code",
      "metadata": {
        "id": "NavQTjXMDF50",
        "outputId": "4432ae23-b8a3-48b1-dff9-0ce671bd1cc7",
        "colab": {
          "base_uri": "https://localhost:8080/",
          "height": 315
        }
      },
      "source": [
        "# your grid search (and only your grid search) code here\n",
        "if enable_grid:\n",
        "    # your grid search code here\n",
        "    from pyspark.ml.tuning import ParamGridBuilder\n",
        "    lr_1 = LogisticRegression(labelCol='target',featuresCol='tfidf')\n",
        "    \n",
        "    grid = ParamGridBuilder().\\\n",
        "    addGrid(lr_1.regParam, [0., 0.01, 0.02]).\\\n",
        "    addGrid(lr_1.elasticNetParam, [0., 0.1, 0.2, 0.3, 0.4]).\\\n",
        "    build()\n",
        "    \n",
        "    lr_pipe_1 = Pipeline(stages = [tweets_pre_proc_pipe,lr_1])\n",
        "    \n",
        "    all_models = []\n",
        "    for j in range(len(grid)):\n",
        "      print(\"Fitting model {}\".format(j+1))\n",
        "      model = lr_pipe_1.fit(training_df, grid[j])\n",
        "      all_models.append(model)\n",
        "    \n",
        "    scores =[]\n",
        "    for m in all_models:\n",
        "      score_lr_pipe_1 = BinaryClassificationEvaluator(labelCol='target',metricName = 'areaUnderROC').evaluate(m.transform(validation_df))\n",
        "      scores.append(score_lr_pipe_1)\n",
        "      \n",
        "    print(grid[scores.index(max(scores))])\n",
        "    pass"
      ],
      "execution_count": 38,
      "outputs": [
        {
          "output_type": "stream",
          "text": [
            "Fitting model 1\n",
            "Fitting model 2\n",
            "Fitting model 3\n",
            "Fitting model 4\n",
            "Fitting model 5\n",
            "Fitting model 6\n",
            "Fitting model 7\n",
            "Fitting model 8\n",
            "Fitting model 9\n",
            "Fitting model 10\n",
            "Fitting model 11\n",
            "Fitting model 12\n",
            "Fitting model 13\n",
            "Fitting model 14\n",
            "Fitting model 15\n",
            "{Param(parent='LogisticRegression_a09ed8e38a1a', name='regParam', doc='regularization parameter (>= 0).'): 0.02, Param(parent='LogisticRegression_a09ed8e38a1a', name='elasticNetParam', doc='the ElasticNet mixing parameter, in range [0, 1]. For alpha = 0, the penalty is an L2 penalty. For alpha = 1, it is an L1 penalty.'): 0.1}\n"
          ],
          "name": "stdout"
        }
      ]
    },
    {
      "cell_type": "markdown",
      "metadata": {
        "id": "GrAVQKdWDF52"
      },
      "source": [
        "##### Grading feedback cell"
      ]
    },
    {
      "cell_type": "markdown",
      "metadata": {
        "id": "TQBQggA-DF52"
      },
      "source": [
        "# Question 6b (5 pts)\n",
        "Build a new pipeline named `lr_pipe_2` which uses the optimized model parameters from the grid search in question 6a above (the best model).  Create 2 variables named alpha and lambda and assign to them the best alpha and lambda produced by the grid search by hard coding the values. Fit and transform lr_pipe_2.  Compare AUC scores between lr_pipe_2 with lr_pipe in question 4.  Create a pandas dataframe named `comapre_1_df` which encapsulates the comparison data.  comapre_1_df Shall have 2 columns: `model_name` and `auc_score`."
      ]
    },
    {
      "cell_type": "code",
      "metadata": {
        "id": "C6a_KvWZDF53"
      },
      "source": [
        "# your optimized model code here\n",
        "alpha_par = 0.1\n",
        "lambda_par = 0.02\n",
        "\n",
        "# lr_pipe_2 code here\n",
        "en_lr = LogisticRegression(labelCol='target',featuresCol='tfidf',regParam=lambda_par, elasticNetParam=alpha_par)\n",
        "\n",
        "lr_pipe_2 = Pipeline(stages = [tweets_pre_proc_pipe,en_lr]).fit(training_df)\n",
        "\n",
        "score_pipe_2 = evaluator.evaluate(lr_pipe_2.transform(validation_df))\n",
        "\n",
        "comapre_1_df = pd.DataFrame([['lr_pipe', score_lr_pipe],['lr_pipe_2',score_pipe_2]],columns=['model_name','auc_score'])\n",
        "\n"
      ],
      "execution_count": 39,
      "outputs": []
    },
    {
      "cell_type": "code",
      "metadata": {
        "id": "8-T5aUbVDF54",
        "outputId": "d3cfe6f0-ef58-4742-bfe0-ee473ec2bf87",
        "colab": {
          "base_uri": "https://localhost:8080/",
          "height": 110
        }
      },
      "source": [
        "# grading cell - do not modify\n",
        "display(comapre_1_df)"
      ],
      "execution_count": 40,
      "outputs": [
        {
          "output_type": "display_data",
          "data": {
            "text/html": [
              "<div>\n",
              "<style scoped>\n",
              "    .dataframe tbody tr th:only-of-type {\n",
              "        vertical-align: middle;\n",
              "    }\n",
              "\n",
              "    .dataframe tbody tr th {\n",
              "        vertical-align: top;\n",
              "    }\n",
              "\n",
              "    .dataframe thead th {\n",
              "        text-align: right;\n",
              "    }\n",
              "</style>\n",
              "<table border=\"1\" class=\"dataframe\">\n",
              "  <thead>\n",
              "    <tr style=\"text-align: right;\">\n",
              "      <th></th>\n",
              "      <th>model_name</th>\n",
              "      <th>auc_score</th>\n",
              "    </tr>\n",
              "  </thead>\n",
              "  <tbody>\n",
              "    <tr>\n",
              "      <th>0</th>\n",
              "      <td>lr_pipe</td>\n",
              "      <td>0.730297</td>\n",
              "    </tr>\n",
              "    <tr>\n",
              "      <th>1</th>\n",
              "      <td>lr_pipe_2</td>\n",
              "      <td>0.816809</td>\n",
              "    </tr>\n",
              "  </tbody>\n",
              "</table>\n",
              "</div>"
            ],
            "text/plain": [
              "  model_name  auc_score\n",
              "0    lr_pipe   0.730297\n",
              "1  lr_pipe_2   0.816809"
            ]
          },
          "metadata": {
            "tags": []
          }
        }
      ]
    },
    {
      "cell_type": "markdown",
      "metadata": {
        "id": "Tf9D3f7pDF56"
      },
      "source": [
        "##### Grading Feedback Cell"
      ]
    },
    {
      "cell_type": "markdown",
      "metadata": {
        "id": "LEei3YjXDF56"
      },
      "source": [
        "# Question 7 (10 pts)\n",
        "Perform inference on lr_pipe_2.  Write code to report how many words were eliminated from the best model in question 6b above (if any) as compared to the model in question 4 above.  Make sure your output is easy for the graders to find and interpret."
      ]
    },
    {
      "cell_type": "code",
      "metadata": {
        "id": "HsmhD_Y8DF57",
        "outputId": "c07c3ebf-71d7-4493-8c36-66e3b32cf76e",
        "colab": {
          "base_uri": "https://localhost:8080/",
          "height": 52
        }
      },
      "source": [
        "# your code here\n",
        "vocabulary_1 = lr_pipe_2.stages[0].stages[-2].vocabulary\n",
        "score_1 = lr_pipe_2.stages[-1].coefficients.toArray().tolist()\n",
        "\n",
        "datacol = ['word','score']\n",
        "\n",
        "coeffs_df_1 = spark.createDataFrame(data=zip(vocabulary_1,score_1),schema = datacol)\n",
        "\n",
        "print('Number of Words Removed from Best Model: ',coeffs_df_1.where(coeffs_df_1['score']==0).count(),'\\nPercent Recdution: ', coeffs_df_1.where(coeffs_df_1['score']==0).count()/coeffs_df_1.count())\n",
        "\n"
      ],
      "execution_count": 41,
      "outputs": [
        {
          "output_type": "stream",
          "text": [
            "Number of Words Removed from Best Model:  9012 \n",
            "Percent Recdution:  0.6581464982107647\n"
          ],
          "name": "stdout"
        }
      ]
    },
    {
      "cell_type": "markdown",
      "metadata": {
        "id": "JQmOWRekDF58"
      },
      "source": [
        "##### Grading Feedback Cell"
      ]
    },
    {
      "cell_type": "markdown",
      "metadata": {
        "id": "wqyx-mHLDF59"
      },
      "source": [
        "# Question 8 (10 pts)\n",
        "Perform the same inference analysis that you did in question 5 but name the data frames `lr_pipe_df_neg_1` and `lr_pipe_df_pos_1`.  Compare the word importance results with the results in question 5."
      ]
    },
    {
      "cell_type": "code",
      "metadata": {
        "id": "K-yYBjyLDF59"
      },
      "source": [
        "# your code here\n",
        "vocabulary_1 = lr_pipe_2.stages[0].stages[-2].vocabulary\n",
        "score_1 = lr_pipe_2.stages[-1].coefficients.toArray().tolist()\n",
        "\n",
        "datacol = ['word','score']\n",
        "\n",
        "coeffs_df_1 = spark.createDataFrame(data=zip(vocabulary_1,score_1),schema = datacol)\n",
        "\n",
        "lr_pipe_df_pos_1 = coeffs_df_1.sort(fn.desc('score')).limit(10).toPandas()\n",
        "lr_pipe_df_neg_1 = coeffs_df_1.sort('score').limit(10).toPandas()\n",
        "\n",
        "#coeffs_df = pd.DataFrame({'word':vocabulary,'score':score})\n",
        "\n",
        "#lr_pipe_df_pos_1 = coeffs_df.sort_values('score', ascending=False).head(10)\n",
        "#lr_pipe_df_neg_1 = coeffs_df.sort_values('score').head(10)"
      ],
      "execution_count": 42,
      "outputs": []
    },
    {
      "cell_type": "code",
      "metadata": {
        "id": "GaTFqx1UDF5_",
        "outputId": "03316e40-a70a-43ca-b991-41ee9b771cf4",
        "colab": {
          "base_uri": "https://localhost:8080/",
          "height": 693
        }
      },
      "source": [
        "# grading cell - do not modify\n",
        "display(lr_pipe_df_neg_1)\n",
        "display(lr_pipe_df_pos_1)"
      ],
      "execution_count": 43,
      "outputs": [
        {
          "output_type": "display_data",
          "data": {
            "text/html": [
              "<div>\n",
              "<style scoped>\n",
              "    .dataframe tbody tr th:only-of-type {\n",
              "        vertical-align: middle;\n",
              "    }\n",
              "\n",
              "    .dataframe tbody tr th {\n",
              "        vertical-align: top;\n",
              "    }\n",
              "\n",
              "    .dataframe thead th {\n",
              "        text-align: right;\n",
              "    }\n",
              "</style>\n",
              "<table border=\"1\" class=\"dataframe\">\n",
              "  <thead>\n",
              "    <tr style=\"text-align: right;\">\n",
              "      <th></th>\n",
              "      <th>word</th>\n",
              "      <th>score</th>\n",
              "    </tr>\n",
              "  </thead>\n",
              "  <tbody>\n",
              "    <tr>\n",
              "      <th>0</th>\n",
              "      <td>sad</td>\n",
              "      <td>-0.450782</td>\n",
              "    </tr>\n",
              "    <tr>\n",
              "      <th>1</th>\n",
              "      <td>miss</td>\n",
              "      <td>-0.330157</td>\n",
              "    </tr>\n",
              "    <tr>\n",
              "      <th>2</th>\n",
              "      <td>poor</td>\n",
              "      <td>-0.328874</td>\n",
              "    </tr>\n",
              "    <tr>\n",
              "      <th>3</th>\n",
              "      <td>wish</td>\n",
              "      <td>-0.323344</td>\n",
              "    </tr>\n",
              "    <tr>\n",
              "      <th>4</th>\n",
              "      <td>missing</td>\n",
              "      <td>-0.315183</td>\n",
              "    </tr>\n",
              "    <tr>\n",
              "      <th>5</th>\n",
              "      <td>sick</td>\n",
              "      <td>-0.308480</td>\n",
              "    </tr>\n",
              "    <tr>\n",
              "      <th>6</th>\n",
              "      <td>hurts</td>\n",
              "      <td>-0.305853</td>\n",
              "    </tr>\n",
              "    <tr>\n",
              "      <th>7</th>\n",
              "      <td>sucks</td>\n",
              "      <td>-0.304261</td>\n",
              "    </tr>\n",
              "    <tr>\n",
              "      <th>8</th>\n",
              "      <td>lost</td>\n",
              "      <td>-0.287978</td>\n",
              "    </tr>\n",
              "    <tr>\n",
              "      <th>9</th>\n",
              "      <td>sad.</td>\n",
              "      <td>-0.283056</td>\n",
              "    </tr>\n",
              "  </tbody>\n",
              "</table>\n",
              "</div>"
            ],
            "text/plain": [
              "      word     score\n",
              "0      sad -0.450782\n",
              "1     miss -0.330157\n",
              "2     poor -0.328874\n",
              "3     wish -0.323344\n",
              "4  missing -0.315183\n",
              "5     sick -0.308480\n",
              "6    hurts -0.305853\n",
              "7    sucks -0.304261\n",
              "8     lost -0.287978\n",
              "9     sad. -0.283056"
            ]
          },
          "metadata": {
            "tags": []
          }
        },
        {
          "output_type": "display_data",
          "data": {
            "text/html": [
              "<div>\n",
              "<style scoped>\n",
              "    .dataframe tbody tr th:only-of-type {\n",
              "        vertical-align: middle;\n",
              "    }\n",
              "\n",
              "    .dataframe tbody tr th {\n",
              "        vertical-align: top;\n",
              "    }\n",
              "\n",
              "    .dataframe thead th {\n",
              "        text-align: right;\n",
              "    }\n",
              "</style>\n",
              "<table border=\"1\" class=\"dataframe\">\n",
              "  <thead>\n",
              "    <tr style=\"text-align: right;\">\n",
              "      <th></th>\n",
              "      <th>word</th>\n",
              "      <th>score</th>\n",
              "    </tr>\n",
              "  </thead>\n",
              "  <tbody>\n",
              "    <tr>\n",
              "      <th>0</th>\n",
              "      <td>thanks</td>\n",
              "      <td>0.308825</td>\n",
              "    </tr>\n",
              "    <tr>\n",
              "      <th>1</th>\n",
              "      <td>guilt</td>\n",
              "      <td>0.283446</td>\n",
              "    </tr>\n",
              "    <tr>\n",
              "      <th>2</th>\n",
              "      <td>thank</td>\n",
              "      <td>0.281859</td>\n",
              "    </tr>\n",
              "    <tr>\n",
              "      <th>3</th>\n",
              "      <td>welcome</td>\n",
              "      <td>0.272772</td>\n",
              "    </tr>\n",
              "    <tr>\n",
              "      <th>4</th>\n",
              "      <td>owners</td>\n",
              "      <td>0.253157</td>\n",
              "    </tr>\n",
              "    <tr>\n",
              "      <th>5</th>\n",
              "      <td>wiff</td>\n",
              "      <td>0.247450</td>\n",
              "    </tr>\n",
              "    <tr>\n",
              "      <th>6</th>\n",
              "      <td>good</td>\n",
              "      <td>0.237222</td>\n",
              "    </tr>\n",
              "    <tr>\n",
              "      <th>7</th>\n",
              "      <td>kiddos</td>\n",
              "      <td>0.234237</td>\n",
              "    </tr>\n",
              "    <tr>\n",
              "      <th>8</th>\n",
              "      <td>peaceful</td>\n",
              "      <td>0.227550</td>\n",
              "    </tr>\n",
              "    <tr>\n",
              "      <th>9</th>\n",
              "      <td>@jonthanjay</td>\n",
              "      <td>0.224960</td>\n",
              "    </tr>\n",
              "  </tbody>\n",
              "</table>\n",
              "</div>"
            ],
            "text/plain": [
              "          word     score\n",
              "0       thanks  0.308825\n",
              "1        guilt  0.283446\n",
              "2        thank  0.281859\n",
              "3      welcome  0.272772\n",
              "4       owners  0.253157\n",
              "5         wiff  0.247450\n",
              "6         good  0.237222\n",
              "7       kiddos  0.234237\n",
              "8     peaceful  0.227550\n",
              "9  @jonthanjay  0.224960"
            ]
          },
          "metadata": {
            "tags": []
          }
        }
      ]
    },
    {
      "cell_type": "markdown",
      "metadata": {
        "id": "cCmG3zMADF6A"
      },
      "source": [
        "##### Grading Feedback Cell"
      ]
    },
    {
      "cell_type": "markdown",
      "metadata": {
        "id": "GquZfziADF6B"
      },
      "source": [
        "Your explanation here:By removing the unneeded words from the model, the negative and postive words inference makes much more sense.  Now instead of having words that do not seem to relate as in Q5, you are left with words that intuitively relate to being positive or negative."
      ]
    },
    {
      "cell_type": "markdown",
      "metadata": {
        "id": "4HUbjdC4DF6B"
      },
      "source": [
        "##### Grading Feedback Cell"
      ]
    },
    {
      "cell_type": "markdown",
      "metadata": {
        "id": "eTvr9xC9DF6B"
      },
      "source": [
        "# Question 9 (10 pts)\n",
        "Create a receiver operating characteristic (ROC) plot for the best model in question 6.  Briefly describe in words the high level steps needed to build a ROC curve as outlined in lecture.  Convince me you understand the high level steps needed to make a ROC curve."
      ]
    },
    {
      "cell_type": "code",
      "metadata": {
        "id": "SmRxGA8-DF6C",
        "outputId": "369a0be0-2cd7-449f-c3d4-1cd8a560f3dd",
        "colab": {
          "base_uri": "https://localhost:8080/",
          "height": 295
        }
      },
      "source": [
        "# your code here\n",
        "import matplotlib.pyplot as plt\n",
        "\n",
        "plt.plot(lr_pipe_2.stages[-1].summary.roc.select('FPR').collect(),\n",
        "         lr_pipe_2.stages[-1].summary.roc.select('TPR').collect())\n",
        "plt.xlabel('FPR')\n",
        "plt.ylabel('TPR')\n",
        "plt.title('ROC Curve')\n",
        "plt.show()\n"
      ],
      "execution_count": 44,
      "outputs": [
        {
          "output_type": "display_data",
          "data": {
            "image/png": "[encoded data removed]",
            "text/plain": [
              "<Figure size 432x288 with 1 Axes>"
            ]
          },
          "metadata": {
            "tags": [],
            "needs_background": "light"
          }
        }
      ]
    },
    {
      "cell_type": "markdown",
      "metadata": {
        "id": "VqoHo4wKDF6D"
      },
      "source": [
        "Your explanation here:To construct an ROC curve you iterate hundreds to thousands of times over the possible probability thresholds that a model predicts an outcome and calculate the true positive rate and false positive rate using a given threshold.  In this case predicting, the probability of a tweet being positive. You use each probability theshold to create a confusion matrix to calculate the TPR and FPR (e.g. model predicts this tweet as .6 probability of being positive, threshold is .5 so tweet is marked positive.  Then compare it to the true condition to fill in confusion matrix).  Then all points are plotted using TPR and FPR as y and x coordinates for each threshold value."
      ]
    },
    {
      "cell_type": "markdown",
      "metadata": {
        "id": "ywJfQc1tDF6E"
      },
      "source": [
        "##### Grading Feedback Cell"
      ]
    },
    {
      "cell_type": "markdown",
      "metadata": {
        "id": "N7GwjkVdDF6E"
      },
      "source": [
        "# Question 10 (10 pts)\n",
        "Learn about [precision/recall](https://en.wikipedia.org/wiki/Precision_and_recall) curves. Using the logistic regression summary object contained in the linear regression object within lr_pipe_2, create a precision recall plot. Similar to the `roc` object which is available in the logistic regression summary, there is a `pr` object which can be used to help create a precision / recall curve.  Note that the precision recall curve is built using the same high level methodology as the ROC curve, but using different metrics calculated from the confusion matrix.  If you understand how a ROC curve is built, you understand how a precision / recall curve is built.  Compare and contrast the differences between precision / recall and ROC curves.  What axis is common and what axis is different between the 2 curves?"
      ]
    },
    {
      "cell_type": "code",
      "metadata": {
        "id": "QjO8JllcDF6E",
        "outputId": "5e15c4c5-d7cd-4312-dc4d-df92c76921b4",
        "colab": {
          "base_uri": "https://localhost:8080/",
          "height": 295
        }
      },
      "source": [
        "# your code here\n",
        "import matplotlib.pyplot as plt\n",
        "\n",
        "plt.plot(lr_pipe_2.stages[-1].summary.pr.select('Recall').collect(),\n",
        "         lr_pipe_2.stages[-1].summary.pr.select('Precision').collect())\n",
        "plt.xlabel('Recall')\n",
        "plt.ylabel('Precision')\n",
        "plt.title('Precision-Recall Curve')\n",
        "plt.show()"
      ],
      "execution_count": 46,
      "outputs": [
        {
          "output_type": "display_data",
          "data": {
            "image/png": "[encoded data removed]",
            "text/plain": [
              "<Figure size 432x288 with 1 Axes>"
            ]
          },
          "metadata": {
            "tags": [],
            "needs_background": "light"
          }
        }
      ]
    },
    {
      "cell_type": "markdown",
      "metadata": {
        "id": "2Zv4geq5DF6G"
      },
      "source": [
        "Your explanation here:"
      ]
    },
    {
      "cell_type": "markdown",
      "metadata": {
        "id": "IUL8VKNpDF6G"
      },
      "source": [
        "##### Grading Feedback Cell"
      ]
    }
  ]
}