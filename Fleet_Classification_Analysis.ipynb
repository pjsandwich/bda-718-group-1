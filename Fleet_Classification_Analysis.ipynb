{
  "nbformat": 4,
  "nbformat_minor": 0,
  "metadata": {
    "colab": {
      "name": "Fleet Classification Analysis.ipynb",
      "provenance": [],
      "collapsed_sections": [],
      "toc_visible": true,
      "include_colab_link": true
    },
    "kernelspec": {
      "name": "python3",
      "display_name": "Python 3"
    }
  },
  "cells": [
    {
      "cell_type": "markdown",
      "metadata": {
        "id": "view-in-github",
        "colab_type": "text"
      },
      "source": [
        "<a href=\"https://colab.research.google.com/github/baschram/bda-718-group-1/blob/master/Fleet_Classification_Analysis.ipynb\" target=\"_parent\"><img src=\"https://colab.research.google.com/assets/colab-badge.svg\" alt=\"Open In Colab\"/></a>"
      ]
    },
    {
      "cell_type": "markdown",
      "metadata": {
        "id": "LlQq4Eko6W1h"
      },
      "source": [
        "# Pyspark Install and Drive Mounting"
      ]
    },
    {
      "cell_type": "code",
      "metadata": {
        "id": "RP9HfJTEZqJT",
        "colab": {
          "base_uri": "https://localhost:8080/"
        },
        "outputId": "c8cbcfce-ece2-44a8-d7b0-514665f9baff"
      },
      "source": [
        "%%bash\n",
        "# Need to install pyspark\n",
        "# if pyspark is already installed, will print a message indicating pyspark already isntalled\n",
        "pip install pyspark\n",
        "pip install seaborn"
      ],
      "execution_count": 19,
      "outputs": [
        {
          "output_type": "stream",
          "text": [
            "Requirement already satisfied: pyspark in /usr/local/lib/python3.6/dist-packages (3.0.1)\n",
            "Requirement already satisfied: py4j==0.10.9 in /usr/local/lib/python3.6/dist-packages (from pyspark) (0.10.9)\n",
            "Requirement already satisfied: seaborn in /usr/local/lib/python3.6/dist-packages (0.11.0)\n",
            "Requirement already satisfied: scipy>=1.0 in /usr/local/lib/python3.6/dist-packages (from seaborn) (1.4.1)\n",
            "Requirement already satisfied: numpy>=1.15 in /usr/local/lib/python3.6/dist-packages (from seaborn) (1.18.5)\n",
            "Requirement already satisfied: matplotlib>=2.2 in /usr/local/lib/python3.6/dist-packages (from seaborn) (3.2.2)\n",
            "Requirement already satisfied: pandas>=0.23 in /usr/local/lib/python3.6/dist-packages (from seaborn) (1.1.4)\n",
            "Requirement already satisfied: cycler>=0.10 in /usr/local/lib/python3.6/dist-packages (from matplotlib>=2.2->seaborn) (0.10.0)\n",
            "Requirement already satisfied: python-dateutil>=2.1 in /usr/local/lib/python3.6/dist-packages (from matplotlib>=2.2->seaborn) (2.8.1)\n",
            "Requirement already satisfied: kiwisolver>=1.0.1 in /usr/local/lib/python3.6/dist-packages (from matplotlib>=2.2->seaborn) (1.3.1)\n",
            "Requirement already satisfied: pyparsing!=2.0.4,!=2.1.2,!=2.1.6,>=2.0.1 in /usr/local/lib/python3.6/dist-packages (from matplotlib>=2.2->seaborn) (2.4.7)\n",
            "Requirement already satisfied: pytz>=2017.2 in /usr/local/lib/python3.6/dist-packages (from pandas>=0.23->seaborn) (2018.9)\n",
            "Requirement already satisfied: six in /usr/local/lib/python3.6/dist-packages (from cycler>=0.10->matplotlib>=2.2->seaborn) (1.15.0)\n"
          ],
          "name": "stdout"
        }
      ]
    },
    {
      "cell_type": "markdown",
      "metadata": {
        "id": "f9QUgjShvmaf"
      },
      "source": [
        "Import required spark packages and set spark environment to use additoinal memory and cores on colab instance"
      ]
    },
    {
      "cell_type": "code",
      "metadata": {
        "id": "qlRNgJJUOybF",
        "colab": {
          "base_uri": "https://localhost:8080/"
        },
        "outputId": "03b5c77b-98db-4e0c-8b8a-040e489e1086"
      },
      "source": [
        "%matplotlib inline\n",
        "from pyspark.sql import SparkSession\n",
        "from pyspark.sql import SQLContext\n",
        "from pyspark.ml import feature\n",
        "import re\n",
        "from pyspark.sql import functions as fn\n",
        "from pyspark.sql.functions import col, regexp_replace, split\n",
        "from pyspark.sql.utils import AnalysisException\n",
        "from pyspark.sql import Row\n",
        "from pyspark.sql.types import IntegerType, DateType, FloatType, BooleanType\n",
        "from pyspark.ml.classification import LogisticRegression, RandomForestClassifier\n",
        "from pyspark.ml.evaluation import BinaryClassificationEvaluator\n",
        "from pyspark.ml.tuning import ParamGridBuilder\n",
        "from pyspark.ml import Pipeline\n",
        "import os\n",
        "import pandas as pd\n",
        "import seaborn as sns\n",
        "import matplotlib.pyplot as plt\n",
        "\n",
        "spark = SparkSession \\\n",
        "  .builder \\\n",
        "  .master(\"local[*]\")\\\n",
        "  .config(\"spark.memory.fraction\", 0.8) \\\n",
        "  .config(\"spark.executor.memory\", \"12g\") \\\n",
        "  .config(\"spark.driver.memory\", \"12g\")\\\n",
        "  .config(\"spark.memory.offHeap.enabled\",'true')\\\n",
        "  .config(\"spark.memory.offHeap.size\",\"12g\")\\\n",
        "  .getOrCreate()\n",
        "sc = spark.sparkContext\n",
        "sqlContext = SQLContext(sc)\n",
        "\n",
        "from google.colab import drive\n",
        "drive.mount('/content/drive')"
      ],
      "execution_count": 20,
      "outputs": [
        {
          "output_type": "stream",
          "text": [
            "Drive already mounted at /content/drive; to attempt to forcibly remount, call drive.mount(\"/content/drive\", force_remount=True).\n"
          ],
          "name": "stdout"
        }
      ]
    },
    {
      "cell_type": "code",
      "metadata": {
        "id": "fgHnMvNFFcqc"
      },
      "source": [
        "logreg_sampled_df = spark.read.format(\"csv\").option(\"header\", \"true\").option('inferSchema','true').load(\"drive/Shared drives/IST 718 Group1/therightstuff.csv\")"
      ],
      "execution_count": 21,
      "outputs": []
    },
    {
      "cell_type": "code",
      "metadata": {
        "id": "XWDjdPJl-_5v"
      },
      "source": [
        "logreg_sampled_df = logreg_sampled_df.filter('is_new == 0').drop('is_new')"
      ],
      "execution_count": 22,
      "outputs": []
    },
    {
      "cell_type": "code",
      "metadata": {
        "id": "YIP-UaWaHMqU"
      },
      "source": [
        "#Convert boolean columns to integer to change from booleans to 0 and 1\n",
        "#create list of boolena columns\n",
        "bool_cols_input = ['fleet','frame_damaged','franchise_dealer','has_accidents','isCab','is_cpo','is_oemcpo','salvage','theft_title']\n",
        "#Iterate through list and cast to integer type\n",
        "for i in bool_cols_input:\n",
        "  logreg_sampled_df = logreg_sampled_df.withColumn(i, logreg_sampled_df[i].cast(IntegerType()))"
      ],
      "execution_count": 23,
      "outputs": []
    },
    {
      "cell_type": "code",
      "metadata": {
        "colab": {
          "base_uri": "https://localhost:8080/"
        },
        "id": "IgelsiWDeGkQ",
        "outputId": "3bbae7bf-d33a-408c-cef3-1d1cb4ac63c9"
      },
      "source": [
        "logreg_sampled_df.select('fleet').filter('fleet == 1').count()/logreg_sampled_df.select('fleet').count()"
      ],
      "execution_count": 24,
      "outputs": [
        {
          "output_type": "execute_result",
          "data": {
            "text/plain": [
              "0.220903363419114"
            ]
          },
          "metadata": {
            "tags": []
          },
          "execution_count": 24
        }
      ]
    },
    {
      "cell_type": "markdown",
      "metadata": {
        "id": "91quDxcIeqUE"
      },
      "source": [
        "Due to the large class imbalance (only 22 positive for Fleet condition) it makes sense to use Precision/Recall metric as is it concerned with correct prediction of the positive class."
      ]
    },
    {
      "cell_type": "code",
      "metadata": {
        "id": "nZb7NgrREdvV"
      },
      "source": [
        "#Classifier imports and dataset split\n",
        "\n",
        "training_df, validation_df, testing_df = logreg_sampled_df.randomSplit([0.6, 0.3, 0.1], seed=0)"
      ],
      "execution_count": 25,
      "outputs": []
    },
    {
      "cell_type": "code",
      "metadata": {
        "id": "4h8lsd4UMROc"
      },
      "source": [
        "enable_grid = True"
      ],
      "execution_count": 26,
      "outputs": []
    },
    {
      "cell_type": "markdown",
      "metadata": {
        "id": "5qsUlHx67RMi"
      },
      "source": [
        "# Logistic Regression Analysis"
      ]
    },
    {
      "cell_type": "markdown",
      "metadata": {
        "id": "o-8sC6wPyXXp"
      },
      "source": [
        "Grid search for logistic regression on data set. Removed columns that were incomplete, not appliable to the majority of vehicles or were derivatives of other columns.  Since we would likr to look at feature importance by comparing feature weights, all features were scaled using a standard scaler.  Each training run takes approx 20 minutes and the total grid search time is approx 4.5 hours.  Interestingly, adding regularization and elastic net parameters did not improve the model performance.  The scores only marginally decreased\n",
        "\n",
        "COPY scores output from Grid search\n"
      ]
    },
    {
      "cell_type": "code",
      "metadata": {
        "id": "kd_cDy3Aa7N0",
        "colab": {
          "base_uri": "https://localhost:8080/"
        },
        "outputId": "dabdb27e-942d-4d6d-a439-c04674f84e73"
      },
      "source": [
        "#logistical Regression with Grid Search\n",
        "\n",
        "#Create list of feature columns for use in vector assemeble\n",
        "feature_cols = ['back_legroom','city_fuel_economy','daysonmarket','engine_cylinders','engine_displacement','frame_damaged','franchise_dealer','front_legroom',\n",
        "                'fuel_tank_volume','has_accidents','height','highway_fuel_economy','horsepower','is_cpo','is_oemcpo','latitude','length',\n",
        "                'longitude','maximum_seating','mileage','owner_count','price','salvage','savings_amount','seller_rating','theft_title','transmission_display',\n",
        "                'wheelbase','width','year','torque_ftlb','torque_rpm','torque_grade','n_body_type','n_engine_type','n_fuel_type','n_transmission','n_wheel_system',\n",
        "                'n_city','n_make_name','n_franchise_make','n_sp_name','n_interior_color','n_model_name','n_listing_color']\n",
        "\n",
        "#Second preprocessing step to create feature vector and scale so feature coeffcients can be compared for importance\n",
        "lr_va = feature.VectorAssembler(inputCols=feature_cols, outputCol='features')\n",
        "\n",
        "scaler = feature.StandardScaler(withMean=True, inputCol='features')\n",
        "\n",
        "logreg_preprocessing_2 = Pipeline(stages=[lr_va, scaler])\n",
        "\n",
        "if enable_grid:\n",
        "  lr = LogisticRegression(labelCol='fleet',featuresCol='features')\n",
        "\n",
        "  grid = ParamGridBuilder().\\\n",
        "  addGrid(lr.regParam, [0., 0.01, 0.02]).\\\n",
        "  addGrid(lr.elasticNetParam, [0., 0.1, 0.3]).\\\n",
        "  build()\n",
        "\n",
        "  lr_pipe = Pipeline(stages = [logreg_preprocessing_2,lr])\n",
        "\n",
        "  all_models = []\n",
        "  for j in range(len(grid)):\n",
        "    print(\"Fitting model {}\".format(j+1))\n",
        "    model = lr_pipe.fit(training_df, grid[j])\n",
        "    all_models.append(model)\n",
        "      \n",
        "  scores =[]\n",
        "  print('Model fitting complete -> Evaluating Scores')\n",
        "  for m in all_models:\n",
        "    score_lr_pipe_1 = BinaryClassificationEvaluator(labelCol='fleet',metricName = 'areaUnderPR').evaluate(m.transform(validation_df))\n",
        "    scores.append(score_lr_pipe_1)\n",
        "        \n",
        "  print(max(scores), '\\n', grid[scores.index(max(scores))])\n",
        "pass"
      ],
      "execution_count": 27,
      "outputs": [
        {
          "output_type": "stream",
          "text": [
            "Fitting model 1\n",
            "Fitting model 2\n",
            "Fitting model 3\n",
            "Fitting model 1\n",
            "Fitting model 2\n",
            "Fitting model 3\n",
            "Fitting model 4\n",
            "Fitting model 4\n",
            "Fitting model 5\n",
            "Fitting model 5\n",
            "Fitting model 6\n",
            "Fitting model 6\n",
            "Fitting model 7\n",
            "Fitting model 7\n",
            "Fitting model 8\n",
            "Fitting model 8\n",
            "Fitting model 9\n",
            "Fitting model 9\n",
            "Model fitting complete -> Evaluating Scores\n",
            "Model fitting complete -> Evaluating Scores\n",
            "0.38342567012042483 \n",
            " {Param(parent='LogisticRegression_46a6a04fb131', name='regParam', doc='regularization parameter (>= 0).'): 0.01, Param(parent='LogisticRegression_46a6a04fb131', name='elasticNetParam', doc='the ElasticNet mixing parameter, in range [0, 1]. For alpha = 0, the penalty is an L2 penalty. For alpha = 1, it is an L1 penalty.'): 0.1}\n",
            "0.38342567012042483 \n",
            " {Param(parent='LogisticRegression_46a6a04fb131', name='regParam', doc='regularization parameter (>= 0).'): 0.01, Param(parent='LogisticRegression_46a6a04fb131', name='elasticNetParam', doc='the ElasticNet mixing parameter, in range [0, 1]. For alpha = 0, the penalty is an L2 penalty. For alpha = 1, it is an L1 penalty.'): 0.1}\n"
          ],
          "name": "stdout"
        }
      ]
    },
    {
      "cell_type": "code",
      "metadata": {
        "id": "jVOauTrNysU6",
        "outputId": "3cd89e64-d7d1-496d-993b-57b1d1dca7c2",
        "colab": {
          "base_uri": "https://localhost:8080/",
          "height": 1000
        }
      },
      "source": [
        "#Feature Inference\n",
        "if enable_grid:\n",
        "  abs_feature_scores = [abs(i) for i in all_models[scores.index(max(scores))].stages[-1].coefficients.toArray().tolist()]\n",
        "  df_col = ['feature','weight']\n",
        "  abs_coeffs_df = spark.createDataFrame(data=zip(feature_cols,abs_feature_scores),schema = df_col)\n",
        "\n",
        "  lr_important_features = abs_coeffs_df.sort(fn.desc('weight')).limit(10).toPandas()\n",
        "\n",
        "  display(lr_important_features)\n",
        "\n",
        "  feature_scores = all_models[scores.index(max(scores))].stages[-1].coefficients.toArray().tolist()\n",
        "  coeffs_df = spark.createDataFrame(data=zip(feature_cols,feature_scores),schema = df_col)\n",
        "\n",
        "  lr_features_pos = coeffs_df.sort(fn.desc('weight')).limit(10).toPandas()\n",
        "  lr_features_neg = coeffs_df.sort('weight').limit(10).toPandas()\n",
        "\n",
        "  display(lr_features_pos)\n",
        "  display(lr_features_neg)\n",
        "pass"
      ],
      "execution_count": 28,
      "outputs": [
        {
          "output_type": "display_data",
          "data": {
            "text/html": [
              "<div>\n",
              "<style scoped>\n",
              "    .dataframe tbody tr th:only-of-type {\n",
              "        vertical-align: middle;\n",
              "    }\n",
              "\n",
              "    .dataframe tbody tr th {\n",
              "        vertical-align: top;\n",
              "    }\n",
              "\n",
              "    .dataframe thead th {\n",
              "        text-align: right;\n",
              "    }\n",
              "</style>\n",
              "<table border=\"1\" class=\"dataframe\">\n",
              "  <thead>\n",
              "    <tr style=\"text-align: right;\">\n",
              "      <th></th>\n",
              "      <th>feature</th>\n",
              "      <th>weight</th>\n",
              "    </tr>\n",
              "  </thead>\n",
              "  <tbody>\n",
              "    <tr>\n",
              "      <th>0</th>\n",
              "      <td>salvage</td>\n",
              "      <td>1.113535</td>\n",
              "    </tr>\n",
              "    <tr>\n",
              "      <th>1</th>\n",
              "      <td>torque_grade</td>\n",
              "      <td>0.741218</td>\n",
              "    </tr>\n",
              "    <tr>\n",
              "      <th>2</th>\n",
              "      <td>owner_count</td>\n",
              "      <td>0.414979</td>\n",
              "    </tr>\n",
              "    <tr>\n",
              "      <th>3</th>\n",
              "      <td>frame_damaged</td>\n",
              "      <td>0.390089</td>\n",
              "    </tr>\n",
              "    <tr>\n",
              "      <th>4</th>\n",
              "      <td>is_cpo</td>\n",
              "      <td>0.382678</td>\n",
              "    </tr>\n",
              "    <tr>\n",
              "      <th>5</th>\n",
              "      <td>theft_title</td>\n",
              "      <td>0.271235</td>\n",
              "    </tr>\n",
              "    <tr>\n",
              "      <th>6</th>\n",
              "      <td>maximum_seating</td>\n",
              "      <td>0.249936</td>\n",
              "    </tr>\n",
              "    <tr>\n",
              "      <th>7</th>\n",
              "      <td>franchise_dealer</td>\n",
              "      <td>0.236199</td>\n",
              "    </tr>\n",
              "    <tr>\n",
              "      <th>8</th>\n",
              "      <td>n_wheel_system</td>\n",
              "      <td>0.169123</td>\n",
              "    </tr>\n",
              "    <tr>\n",
              "      <th>9</th>\n",
              "      <td>has_accidents</td>\n",
              "      <td>0.061210</td>\n",
              "    </tr>\n",
              "  </tbody>\n",
              "</table>\n",
              "</div>"
            ],
            "text/plain": [
              "            feature    weight\n",
              "0           salvage  1.113535\n",
              "1      torque_grade  0.741218\n",
              "2       owner_count  0.414979\n",
              "3     frame_damaged  0.390089\n",
              "4            is_cpo  0.382678\n",
              "5       theft_title  0.271235\n",
              "6   maximum_seating  0.249936\n",
              "7  franchise_dealer  0.236199\n",
              "8    n_wheel_system  0.169123\n",
              "9     has_accidents  0.061210"
            ]
          },
          "metadata": {
            "tags": []
          }
        },
        {
          "output_type": "display_data",
          "data": {
            "text/html": [
              "<div>\n",
              "<style scoped>\n",
              "    .dataframe tbody tr th:only-of-type {\n",
              "        vertical-align: middle;\n",
              "    }\n",
              "\n",
              "    .dataframe tbody tr th {\n",
              "        vertical-align: top;\n",
              "    }\n",
              "\n",
              "    .dataframe thead th {\n",
              "        text-align: right;\n",
              "    }\n",
              "</style>\n",
              "<table border=\"1\" class=\"dataframe\">\n",
              "  <thead>\n",
              "    <tr style=\"text-align: right;\">\n",
              "      <th></th>\n",
              "      <th>feature</th>\n",
              "      <th>weight</th>\n",
              "    </tr>\n",
              "  </thead>\n",
              "  <tbody>\n",
              "    <tr>\n",
              "      <th>0</th>\n",
              "      <td>owner_count</td>\n",
              "      <td>0.414979</td>\n",
              "    </tr>\n",
              "    <tr>\n",
              "      <th>1</th>\n",
              "      <td>frame_damaged</td>\n",
              "      <td>0.390089</td>\n",
              "    </tr>\n",
              "    <tr>\n",
              "      <th>2</th>\n",
              "      <td>theft_title</td>\n",
              "      <td>0.271235</td>\n",
              "    </tr>\n",
              "    <tr>\n",
              "      <th>3</th>\n",
              "      <td>maximum_seating</td>\n",
              "      <td>0.249936</td>\n",
              "    </tr>\n",
              "    <tr>\n",
              "      <th>4</th>\n",
              "      <td>is_oemcpo</td>\n",
              "      <td>0.018124</td>\n",
              "    </tr>\n",
              "    <tr>\n",
              "      <th>5</th>\n",
              "      <td>back_legroom</td>\n",
              "      <td>0.012594</td>\n",
              "    </tr>\n",
              "    <tr>\n",
              "      <th>6</th>\n",
              "      <td>n_franchise_make</td>\n",
              "      <td>0.004544</td>\n",
              "    </tr>\n",
              "    <tr>\n",
              "      <th>7</th>\n",
              "      <td>n_transmission</td>\n",
              "      <td>0.002673</td>\n",
              "    </tr>\n",
              "    <tr>\n",
              "      <th>8</th>\n",
              "      <td>highway_fuel_economy</td>\n",
              "      <td>0.002613</td>\n",
              "    </tr>\n",
              "    <tr>\n",
              "      <th>9</th>\n",
              "      <td>transmission_display</td>\n",
              "      <td>0.001297</td>\n",
              "    </tr>\n",
              "  </tbody>\n",
              "</table>\n",
              "</div>"
            ],
            "text/plain": [
              "                feature    weight\n",
              "0           owner_count  0.414979\n",
              "1         frame_damaged  0.390089\n",
              "2           theft_title  0.271235\n",
              "3       maximum_seating  0.249936\n",
              "4             is_oemcpo  0.018124\n",
              "5          back_legroom  0.012594\n",
              "6      n_franchise_make  0.004544\n",
              "7        n_transmission  0.002673\n",
              "8  highway_fuel_economy  0.002613\n",
              "9  transmission_display  0.001297"
            ]
          },
          "metadata": {
            "tags": []
          }
        },
        {
          "output_type": "display_data",
          "data": {
            "text/html": [
              "<div>\n",
              "<style scoped>\n",
              "    .dataframe tbody tr th:only-of-type {\n",
              "        vertical-align: middle;\n",
              "    }\n",
              "\n",
              "    .dataframe tbody tr th {\n",
              "        vertical-align: top;\n",
              "    }\n",
              "\n",
              "    .dataframe thead th {\n",
              "        text-align: right;\n",
              "    }\n",
              "</style>\n",
              "<table border=\"1\" class=\"dataframe\">\n",
              "  <thead>\n",
              "    <tr style=\"text-align: right;\">\n",
              "      <th></th>\n",
              "      <th>feature</th>\n",
              "      <th>weight</th>\n",
              "    </tr>\n",
              "  </thead>\n",
              "  <tbody>\n",
              "    <tr>\n",
              "      <th>0</th>\n",
              "      <td>salvage</td>\n",
              "      <td>-1.113535</td>\n",
              "    </tr>\n",
              "    <tr>\n",
              "      <th>1</th>\n",
              "      <td>torque_grade</td>\n",
              "      <td>-0.741218</td>\n",
              "    </tr>\n",
              "    <tr>\n",
              "      <th>2</th>\n",
              "      <td>is_cpo</td>\n",
              "      <td>-0.382678</td>\n",
              "    </tr>\n",
              "    <tr>\n",
              "      <th>3</th>\n",
              "      <td>franchise_dealer</td>\n",
              "      <td>-0.236199</td>\n",
              "    </tr>\n",
              "    <tr>\n",
              "      <th>4</th>\n",
              "      <td>n_wheel_system</td>\n",
              "      <td>-0.169123</td>\n",
              "    </tr>\n",
              "    <tr>\n",
              "      <th>5</th>\n",
              "      <td>has_accidents</td>\n",
              "      <td>-0.061210</td>\n",
              "    </tr>\n",
              "    <tr>\n",
              "      <th>6</th>\n",
              "      <td>n_body_type</td>\n",
              "      <td>-0.033242</td>\n",
              "    </tr>\n",
              "    <tr>\n",
              "      <th>7</th>\n",
              "      <td>latitude</td>\n",
              "      <td>-0.030091</td>\n",
              "    </tr>\n",
              "    <tr>\n",
              "      <th>8</th>\n",
              "      <td>seller_rating</td>\n",
              "      <td>-0.029441</td>\n",
              "    </tr>\n",
              "    <tr>\n",
              "      <th>9</th>\n",
              "      <td>n_listing_color</td>\n",
              "      <td>-0.027994</td>\n",
              "    </tr>\n",
              "  </tbody>\n",
              "</table>\n",
              "</div>"
            ],
            "text/plain": [
              "            feature    weight\n",
              "0           salvage -1.113535\n",
              "1      torque_grade -0.741218\n",
              "2            is_cpo -0.382678\n",
              "3  franchise_dealer -0.236199\n",
              "4    n_wheel_system -0.169123\n",
              "5     has_accidents -0.061210\n",
              "6       n_body_type -0.033242\n",
              "7          latitude -0.030091\n",
              "8     seller_rating -0.029441\n",
              "9   n_listing_color -0.027994"
            ]
          },
          "metadata": {
            "tags": []
          }
        }
      ]
    },
    {
      "cell_type": "markdown",
      "metadata": {
        "id": "moQ619zgzmpF"
      },
      "source": [
        "Below is the optimized model"
      ]
    },
    {
      "cell_type": "code",
      "metadata": {
        "id": "vMKhTwUvbpyA",
        "colab": {
          "base_uri": "https://localhost:8080/"
        },
        "outputId": "1ff888a2-9caf-4efe-a1cc-adaf655a28fd"
      },
      "source": [
        "#LR Optimized Model\n",
        "alpha_par = 0.01\n",
        "lambda_par = 0.1\n",
        "\n",
        "lr = LogisticRegression(labelCol='fleet',featuresCol='features',regParam=lambda_par, elasticNetParam=alpha_par)\n",
        "\n",
        "lr_pipe = Pipeline(stages = [logreg_preprocessing_2,lr])\n",
        "\n",
        "opt_lr = lr_pipe.fit(training_df)\n",
        "\n",
        "score_lr_pipe_1_pr = BinaryClassificationEvaluator(labelCol='fleet',metricName = 'areaUnderPR').evaluate(opt_lr.transform(validation_df))\n",
        "score_lr_pipe_1_roc = BinaryClassificationEvaluator(labelCol='fleet',metricName = 'areaUnderROC').evaluate(opt_lr.transform(validation_df))\n",
        "\n",
        "print(score_lr_pipe_1)\n",
        "print('AUC ROC: ',score_rf_roc)\n",
        "print('AUC PR: ',score_rf_pr)"
      ],
      "execution_count": 30,
      "outputs": [
        {
          "output_type": "stream",
          "text": [
            "0.3812550516933841\n"
          ],
          "name": "stdout"
        }
      ]
    },
    {
      "cell_type": "markdown",
      "metadata": {
        "id": "1ZzTsq1QzqJQ"
      },
      "source": [
        "Code to look at feature importance.  The first table shows the absolute values of feature weights giving an idication the most imporant features in determining if a vehicle was in a fleet or not.  The following two show the actual values to give an indication on which features indicate positive correlation to being a fleet vehicle or neagtive correlation respectively."
      ]
    },
    {
      "cell_type": "code",
      "metadata": {
        "id": "DKRRhBes9YN9",
        "colab": {
          "base_uri": "https://localhost:8080/",
          "height": 1000
        },
        "outputId": "22a4b050-5593-4a9c-ad7f-c2cfc29980cf"
      },
      "source": [
        "feature_scores = opt_lr.stages[-1].coefficients.toArray().tolist()\n",
        "abs_feature_scores = [abs(i) for i in opt_lr.stages[-1].coefficients.toArray().tolist()]\n",
        "\n",
        "df_col = ['feature','weight','abs_weight']\n",
        "abs_coeffs_df = pd.DataFrame({'feature': feature_cols,\n",
        "                              'weight': feature_scores,\n",
        "                              'abs_weight': abs_feature_scores})\n",
        "\n",
        "lr_important_features = abs_coeffs_df.sort_values('abs_weight',ascending=False)\n",
        "\n",
        "display(lr_important_features)\n",
        "\n",
        "#feature_scores = opt_lr.stages[-1].coefficients.toArray().tolist()\n",
        "#coeffs_df = spark.createDataFrame(data=zip(feature_cols,feature_scores),schema = df_col)\n",
        "\n",
        "#lr_features_pos = coeffs_df.sort(fn.desc('weight')).toPandas()\n",
        "#lr_features_neg = coeffs_df.sort('weight').toPandas()\n",
        "\n",
        "#display(lr_features_pos)\n",
        "#display(lr_features_neg)"
      ],
      "execution_count": 31,
      "outputs": [
        {
          "output_type": "display_data",
          "data": {
            "text/html": [
              "<div>\n",
              "<style scoped>\n",
              "    .dataframe tbody tr th:only-of-type {\n",
              "        vertical-align: middle;\n",
              "    }\n",
              "\n",
              "    .dataframe tbody tr th {\n",
              "        vertical-align: top;\n",
              "    }\n",
              "\n",
              "    .dataframe thead th {\n",
              "        text-align: right;\n",
              "    }\n",
              "</style>\n",
              "<table border=\"1\" class=\"dataframe\">\n",
              "  <thead>\n",
              "    <tr style=\"text-align: right;\">\n",
              "      <th></th>\n",
              "      <th>feature</th>\n",
              "      <th>weight</th>\n",
              "      <th>abs_weight</th>\n",
              "    </tr>\n",
              "  </thead>\n",
              "  <tbody>\n",
              "    <tr>\n",
              "      <th>32</th>\n",
              "      <td>torque_grade</td>\n",
              "      <td>-0.709929</td>\n",
              "      <td>0.709929</td>\n",
              "    </tr>\n",
              "    <tr>\n",
              "      <th>22</th>\n",
              "      <td>salvage</td>\n",
              "      <td>-0.494289</td>\n",
              "      <td>0.494289</td>\n",
              "    </tr>\n",
              "    <tr>\n",
              "      <th>5</th>\n",
              "      <td>frame_damaged</td>\n",
              "      <td>0.337285</td>\n",
              "      <td>0.337285</td>\n",
              "    </tr>\n",
              "    <tr>\n",
              "      <th>13</th>\n",
              "      <td>is_cpo</td>\n",
              "      <td>-0.248896</td>\n",
              "      <td>0.248896</td>\n",
              "    </tr>\n",
              "    <tr>\n",
              "      <th>25</th>\n",
              "      <td>theft_title</td>\n",
              "      <td>0.210891</td>\n",
              "      <td>0.210891</td>\n",
              "    </tr>\n",
              "    <tr>\n",
              "      <th>20</th>\n",
              "      <td>owner_count</td>\n",
              "      <td>0.175646</td>\n",
              "      <td>0.175646</td>\n",
              "    </tr>\n",
              "    <tr>\n",
              "      <th>6</th>\n",
              "      <td>franchise_dealer</td>\n",
              "      <td>-0.162414</td>\n",
              "      <td>0.162414</td>\n",
              "    </tr>\n",
              "    <tr>\n",
              "      <th>37</th>\n",
              "      <td>n_wheel_system</td>\n",
              "      <td>-0.125713</td>\n",
              "      <td>0.125713</td>\n",
              "    </tr>\n",
              "    <tr>\n",
              "      <th>18</th>\n",
              "      <td>maximum_seating</td>\n",
              "      <td>0.115323</td>\n",
              "      <td>0.115323</td>\n",
              "    </tr>\n",
              "    <tr>\n",
              "      <th>9</th>\n",
              "      <td>has_accidents</td>\n",
              "      <td>-0.063154</td>\n",
              "      <td>0.063154</td>\n",
              "    </tr>\n",
              "    <tr>\n",
              "      <th>14</th>\n",
              "      <td>is_oemcpo</td>\n",
              "      <td>-0.045656</td>\n",
              "      <td>0.045656</td>\n",
              "    </tr>\n",
              "    <tr>\n",
              "      <th>33</th>\n",
              "      <td>n_body_type</td>\n",
              "      <td>-0.024309</td>\n",
              "      <td>0.024309</td>\n",
              "    </tr>\n",
              "    <tr>\n",
              "      <th>15</th>\n",
              "      <td>latitude</td>\n",
              "      <td>-0.020744</td>\n",
              "      <td>0.020744</td>\n",
              "    </tr>\n",
              "    <tr>\n",
              "      <th>44</th>\n",
              "      <td>n_listing_color</td>\n",
              "      <td>-0.020678</td>\n",
              "      <td>0.020678</td>\n",
              "    </tr>\n",
              "    <tr>\n",
              "      <th>24</th>\n",
              "      <td>seller_rating</td>\n",
              "      <td>-0.017227</td>\n",
              "      <td>0.017227</td>\n",
              "    </tr>\n",
              "    <tr>\n",
              "      <th>39</th>\n",
              "      <td>n_make_name</td>\n",
              "      <td>-0.012042</td>\n",
              "      <td>0.012042</td>\n",
              "    </tr>\n",
              "    <tr>\n",
              "      <th>26</th>\n",
              "      <td>transmission_display</td>\n",
              "      <td>0.011944</td>\n",
              "      <td>0.011944</td>\n",
              "    </tr>\n",
              "    <tr>\n",
              "      <th>0</th>\n",
              "      <td>back_legroom</td>\n",
              "      <td>0.007596</td>\n",
              "      <td>0.007596</td>\n",
              "    </tr>\n",
              "    <tr>\n",
              "      <th>17</th>\n",
              "      <td>longitude</td>\n",
              "      <td>-0.006368</td>\n",
              "      <td>0.006368</td>\n",
              "    </tr>\n",
              "    <tr>\n",
              "      <th>34</th>\n",
              "      <td>n_engine_type</td>\n",
              "      <td>-0.006117</td>\n",
              "      <td>0.006117</td>\n",
              "    </tr>\n",
              "    <tr>\n",
              "      <th>7</th>\n",
              "      <td>front_legroom</td>\n",
              "      <td>-0.004674</td>\n",
              "      <td>0.004674</td>\n",
              "    </tr>\n",
              "    <tr>\n",
              "      <th>3</th>\n",
              "      <td>engine_cylinders</td>\n",
              "      <td>-0.003908</td>\n",
              "      <td>0.003908</td>\n",
              "    </tr>\n",
              "    <tr>\n",
              "      <th>36</th>\n",
              "      <td>n_transmission</td>\n",
              "      <td>0.003623</td>\n",
              "      <td>0.003623</td>\n",
              "    </tr>\n",
              "    <tr>\n",
              "      <th>35</th>\n",
              "      <td>n_fuel_type</td>\n",
              "      <td>-0.003152</td>\n",
              "      <td>0.003152</td>\n",
              "    </tr>\n",
              "    <tr>\n",
              "      <th>40</th>\n",
              "      <td>n_franchise_make</td>\n",
              "      <td>0.002892</td>\n",
              "      <td>0.002892</td>\n",
              "    </tr>\n",
              "    <tr>\n",
              "      <th>11</th>\n",
              "      <td>highway_fuel_economy</td>\n",
              "      <td>0.001819</td>\n",
              "      <td>0.001819</td>\n",
              "    </tr>\n",
              "    <tr>\n",
              "      <th>8</th>\n",
              "      <td>fuel_tank_volume</td>\n",
              "      <td>-0.001123</td>\n",
              "      <td>0.001123</td>\n",
              "    </tr>\n",
              "    <tr>\n",
              "      <th>43</th>\n",
              "      <td>n_model_name</td>\n",
              "      <td>-0.000723</td>\n",
              "      <td>0.000723</td>\n",
              "    </tr>\n",
              "    <tr>\n",
              "      <th>12</th>\n",
              "      <td>horsepower</td>\n",
              "      <td>-0.000546</td>\n",
              "      <td>0.000546</td>\n",
              "    </tr>\n",
              "    <tr>\n",
              "      <th>10</th>\n",
              "      <td>height</td>\n",
              "      <td>-0.000516</td>\n",
              "      <td>0.000516</td>\n",
              "    </tr>\n",
              "    <tr>\n",
              "      <th>2</th>\n",
              "      <td>daysonmarket</td>\n",
              "      <td>0.000451</td>\n",
              "      <td>0.000451</td>\n",
              "    </tr>\n",
              "    <tr>\n",
              "      <th>1</th>\n",
              "      <td>city_fuel_economy</td>\n",
              "      <td>-0.000384</td>\n",
              "      <td>0.000384</td>\n",
              "    </tr>\n",
              "    <tr>\n",
              "      <th>27</th>\n",
              "      <td>wheelbase</td>\n",
              "      <td>-0.000358</td>\n",
              "      <td>0.000358</td>\n",
              "    </tr>\n",
              "    <tr>\n",
              "      <th>28</th>\n",
              "      <td>width</td>\n",
              "      <td>-0.000355</td>\n",
              "      <td>0.000355</td>\n",
              "    </tr>\n",
              "    <tr>\n",
              "      <th>31</th>\n",
              "      <td>torque_rpm</td>\n",
              "      <td>0.000087</td>\n",
              "      <td>0.000087</td>\n",
              "    </tr>\n",
              "    <tr>\n",
              "      <th>30</th>\n",
              "      <td>torque_ftlb</td>\n",
              "      <td>-0.000071</td>\n",
              "      <td>0.000071</td>\n",
              "    </tr>\n",
              "    <tr>\n",
              "      <th>29</th>\n",
              "      <td>year</td>\n",
              "      <td>0.000046</td>\n",
              "      <td>0.000046</td>\n",
              "    </tr>\n",
              "    <tr>\n",
              "      <th>42</th>\n",
              "      <td>n_interior_color</td>\n",
              "      <td>-0.000030</td>\n",
              "      <td>0.000030</td>\n",
              "    </tr>\n",
              "    <tr>\n",
              "      <th>23</th>\n",
              "      <td>savings_amount</td>\n",
              "      <td>0.000020</td>\n",
              "      <td>0.000020</td>\n",
              "    </tr>\n",
              "    <tr>\n",
              "      <th>41</th>\n",
              "      <td>n_sp_name</td>\n",
              "      <td>-0.000006</td>\n",
              "      <td>0.000006</td>\n",
              "    </tr>\n",
              "    <tr>\n",
              "      <th>38</th>\n",
              "      <td>n_city</td>\n",
              "      <td>-0.000005</td>\n",
              "      <td>0.000005</td>\n",
              "    </tr>\n",
              "    <tr>\n",
              "      <th>16</th>\n",
              "      <td>length</td>\n",
              "      <td>0.000005</td>\n",
              "      <td>0.000005</td>\n",
              "    </tr>\n",
              "    <tr>\n",
              "      <th>4</th>\n",
              "      <td>engine_displacement</td>\n",
              "      <td>-0.000004</td>\n",
              "      <td>0.000004</td>\n",
              "    </tr>\n",
              "    <tr>\n",
              "      <th>19</th>\n",
              "      <td>mileage</td>\n",
              "      <td>-0.000003</td>\n",
              "      <td>0.000003</td>\n",
              "    </tr>\n",
              "    <tr>\n",
              "      <th>21</th>\n",
              "      <td>price</td>\n",
              "      <td>-0.000003</td>\n",
              "      <td>0.000003</td>\n",
              "    </tr>\n",
              "  </tbody>\n",
              "</table>\n",
              "</div>"
            ],
            "text/plain": [
              "                 feature    weight  abs_weight\n",
              "32          torque_grade -0.709929    0.709929\n",
              "22               salvage -0.494289    0.494289\n",
              "5          frame_damaged  0.337285    0.337285\n",
              "13                is_cpo -0.248896    0.248896\n",
              "25           theft_title  0.210891    0.210891\n",
              "20           owner_count  0.175646    0.175646\n",
              "6       franchise_dealer -0.162414    0.162414\n",
              "37        n_wheel_system -0.125713    0.125713\n",
              "18       maximum_seating  0.115323    0.115323\n",
              "9          has_accidents -0.063154    0.063154\n",
              "14             is_oemcpo -0.045656    0.045656\n",
              "33           n_body_type -0.024309    0.024309\n",
              "15              latitude -0.020744    0.020744\n",
              "44       n_listing_color -0.020678    0.020678\n",
              "24         seller_rating -0.017227    0.017227\n",
              "39           n_make_name -0.012042    0.012042\n",
              "26  transmission_display  0.011944    0.011944\n",
              "0           back_legroom  0.007596    0.007596\n",
              "17             longitude -0.006368    0.006368\n",
              "34         n_engine_type -0.006117    0.006117\n",
              "7          front_legroom -0.004674    0.004674\n",
              "3       engine_cylinders -0.003908    0.003908\n",
              "36        n_transmission  0.003623    0.003623\n",
              "35           n_fuel_type -0.003152    0.003152\n",
              "40      n_franchise_make  0.002892    0.002892\n",
              "11  highway_fuel_economy  0.001819    0.001819\n",
              "8       fuel_tank_volume -0.001123    0.001123\n",
              "43          n_model_name -0.000723    0.000723\n",
              "12            horsepower -0.000546    0.000546\n",
              "10                height -0.000516    0.000516\n",
              "2           daysonmarket  0.000451    0.000451\n",
              "1      city_fuel_economy -0.000384    0.000384\n",
              "27             wheelbase -0.000358    0.000358\n",
              "28                 width -0.000355    0.000355\n",
              "31            torque_rpm  0.000087    0.000087\n",
              "30           torque_ftlb -0.000071    0.000071\n",
              "29                  year  0.000046    0.000046\n",
              "42      n_interior_color -0.000030    0.000030\n",
              "23        savings_amount  0.000020    0.000020\n",
              "41             n_sp_name -0.000006    0.000006\n",
              "38                n_city -0.000005    0.000005\n",
              "16                length  0.000005    0.000005\n",
              "4    engine_displacement -0.000004    0.000004\n",
              "19               mileage -0.000003    0.000003\n",
              "21                 price -0.000003    0.000003"
            ]
          },
          "metadata": {
            "tags": []
          }
        }
      ]
    },
    {
      "cell_type": "markdown",
      "metadata": {
        "id": "dtRL1GNr62mp"
      },
      "source": [
        "# Random Forest Analysis"
      ]
    },
    {
      "cell_type": "markdown",
      "metadata": {
        "id": "gRLi8A9f2IkU"
      },
      "source": [
        "Examine tranformed trainign dataset to see features with high number of categories.  Random forest models on colab see to suffer from java errors if maxbin size is set too high (maxbin size must be equal to the highest number of categroies in any feature)"
      ]
    },
    {
      "cell_type": "code",
      "metadata": {
        "id": "yRhsyt6C5kKU"
      },
      "source": [
        "logreg_sampled_df.describe().show()"
      ],
      "execution_count": null,
      "outputs": []
    },
    {
      "cell_type": "markdown",
      "metadata": {
        "id": "Mi5NgdWG0LEO"
      },
      "source": [
        "Attempted to build a Random forest model to see if it could perform better than the logistic regression.  There were issues try to run the random forest model with all the features used in the previous model as the maxbin size needed to set to the highest number categories in any feature.  The SP name and Interior color columns were dropped so the maxbin size could be set at 4482 instead of 24607 or 16298."
      ]
    },
    {
      "cell_type": "code",
      "metadata": {
        "id": "QczqnBl7LHmS",
        "colab": {
          "base_uri": "https://localhost:8080/"
        },
        "outputId": "fb5503b4-9e9a-45f9-c55e-f8c904dc529d"
      },
      "source": [
        "rf_feature_cols = ['back_legroom','city_fuel_economy','daysonmarket','engine_cylinders','engine_displacement','frame_damaged','franchise_dealer','front_legroom',\n",
        "                'fuel_tank_volume','has_accidents','height','highway_fuel_economy','horsepower','is_cpo','is_oemcpo','latitude','length',\n",
        "                'longitude','maximum_seating','mileage','owner_count','price','salvage','savings_amount','seller_rating','theft_title','transmission_display',\n",
        "                'wheelbase','width','year','torque_ftlb','torque_rpm','torque_grade','n_body_type','n_engine_type','n_fuel_type','n_transmission','n_wheel_system',\n",
        "                'n_city','n_make_name','n_franchise_make','n_model_name','n_listing_color']\n",
        "\n",
        "if enable_grid:\n",
        "  rf_va = feature.VectorAssembler(inputCols=rf_feature_cols, outputCol='features')\n",
        "\n",
        "  rf = RandomForestClassifier(featuresCol='features', labelCol='fleet', maxBins=4482)\n",
        "  \n",
        "  paramGrid = ParamGridBuilder().\\\n",
        "  addGrid(rf.numTrees, [20,30,40]).\\\n",
        "  addGrid(rf.maxDepth, [5,7,9]).\\\n",
        "  build()\n",
        "\n",
        "  rf_pipe = Pipeline(stages = [rf_va,rf])\n",
        "\n",
        "  all_models = []\n",
        "  for j in range(len(paramGrid)):\n",
        "    print(\"Fitting model {}\".format(j+1))\n",
        "    model = rf_pipe.fit(training_df, paramGrid[j])\n",
        "    all_models.append(model)\n",
        "      \n",
        "  scores =[]\n",
        "  print('Model fitting complete -> Evaluating Scores')\n",
        "  for m in all_models:\n",
        "    score_rf_pipe_1 = BinaryClassificationEvaluator(labelCol='fleet',metricName = 'areaUnderPR').evaluate(m.transform(validation_df))\n",
        "    scores.append(score_rf_pipe_1)\n",
        "        \n",
        "  print(max(scores), '\\n', paramGrid[scores.index(max(scores))])\n",
        "  pass\n"
      ],
      "execution_count": 34,
      "outputs": [
        {
          "output_type": "stream",
          "text": [
            "Fitting model 1\n",
            "Fitting model 2\n",
            "Fitting model 3\n",
            "Fitting model 4\n",
            "Fitting model 5\n",
            "Fitting model 6\n",
            "Fitting model 7\n",
            "Fitting model 8\n",
            "Fitting model 9\n",
            "Model fitting complete -> Evaluating Scores\n",
            "0.7536376780844344 \n",
            " {Param(parent='RandomForestClassifier_235748d2e666', name='numTrees', doc='Number of trees to train (>= 1).'): 40, Param(parent='RandomForestClassifier_235748d2e666', name='maxDepth', doc='Maximum depth of the tree. (>= 0) E.g., depth 0 means 1 leaf node; depth 1 means 1 internal node + 2 leaf nodes.'): 9}\n"
          ],
          "name": "stdout"
        }
      ]
    },
    {
      "cell_type": "code",
      "metadata": {
        "id": "j4RV5pY9hfWX",
        "outputId": "d5e712d0-daee-4c6a-d43a-871421771942",
        "colab": {
          "base_uri": "https://localhost:8080/"
        }
      },
      "source": [
        "scores"
      ],
      "execution_count": 33,
      "outputs": [
        {
          "output_type": "execute_result",
          "data": {
            "text/plain": [
              "[0.6032218499207642,\n",
              " 0.6540203979990387,\n",
              " 0.7123807267860529,\n",
              " 0.5576451927372064,\n",
              " 0.6430365274114613,\n",
              " 0.7043033407792643,\n",
              " 0.5900472647835282,\n",
              " 0.656331368585091,\n",
              " 0.7126878109187197]"
            ]
          },
          "metadata": {
            "tags": []
          },
          "execution_count": 33
        }
      ]
    },
    {
      "cell_type": "code",
      "metadata": {
        "id": "qnpsdT0-Dl1i",
        "colab": {
          "base_uri": "https://localhost:8080/"
        },
        "outputId": "0640d82a-3343-4c57-bca3-3dc7e31c0fce"
      },
      "source": [
        "#Random Forest\n",
        "maxdepth = 9\n",
        "numtrees = 40\n",
        "\n",
        "#Second preprocessing step to create feature vector and scale so feature coeffcients can be compared for importance\n",
        "rf_va = feature.VectorAssembler(inputCols=rf_feature_cols, outputCol='features')\n",
        "\n",
        "rf = RandomForestClassifier(featuresCol='features', labelCol='fleet', maxBins=4482, numTrees = numtrees, maxDepth = maxdepth)\n",
        "\n",
        "rf_pipe = Pipeline(stages = [rf_va,rf]).fit(training_df)\n",
        "\n",
        "trans = rf_pipe.transform(validation_df)\n",
        "score_rf_roc = BinaryClassificationEvaluator(labelCol='fleet',metricName = 'areaUnderROC').evaluate(trans)\n",
        "score_rf_pr = BinaryClassificationEvaluator(labelCol='fleet',metricName = 'areaUnderPR').evaluate(trans)\n",
        "print('AUC ROC: ',score_rf_roc)\n",
        "print('AUC PR: ',score_rf_pr)\n",
        "\n"
      ],
      "execution_count": 35,
      "outputs": [
        {
          "output_type": "stream",
          "text": [
            "AUC ROC:  0.8945151162379057\n",
            "AUC PR:  0.753630863472764\n"
          ],
          "name": "stdout"
        }
      ]
    },
    {
      "cell_type": "code",
      "metadata": {
        "id": "W8w5o-6fFgsT",
        "colab": {
          "base_uri": "https://localhost:8080/",
          "height": 1000
        },
        "outputId": "57478a99-f628-46c6-8484-07ad0e156696"
      },
      "source": [
        "pd.DataFrame(list(zip(rf_feature_cols, rf_pipe.stages[-1].featureImportances.toArray())),\n",
        "            columns = ['column', 'weight']).sort_values('weight', ascending=False)"
      ],
      "execution_count": 36,
      "outputs": [
        {
          "output_type": "execute_result",
          "data": {
            "text/html": [
              "<div>\n",
              "<style scoped>\n",
              "    .dataframe tbody tr th:only-of-type {\n",
              "        vertical-align: middle;\n",
              "    }\n",
              "\n",
              "    .dataframe tbody tr th {\n",
              "        vertical-align: top;\n",
              "    }\n",
              "\n",
              "    .dataframe thead th {\n",
              "        text-align: right;\n",
              "    }\n",
              "</style>\n",
              "<table border=\"1\" class=\"dataframe\">\n",
              "  <thead>\n",
              "    <tr style=\"text-align: right;\">\n",
              "      <th></th>\n",
              "      <th>column</th>\n",
              "      <th>weight</th>\n",
              "    </tr>\n",
              "  </thead>\n",
              "  <tbody>\n",
              "    <tr>\n",
              "      <th>29</th>\n",
              "      <td>year</td>\n",
              "      <td>0.409421</td>\n",
              "    </tr>\n",
              "    <tr>\n",
              "      <th>19</th>\n",
              "      <td>mileage</td>\n",
              "      <td>0.109420</td>\n",
              "    </tr>\n",
              "    <tr>\n",
              "      <th>20</th>\n",
              "      <td>owner_count</td>\n",
              "      <td>0.048645</td>\n",
              "    </tr>\n",
              "    <tr>\n",
              "      <th>39</th>\n",
              "      <td>n_make_name</td>\n",
              "      <td>0.037899</td>\n",
              "    </tr>\n",
              "    <tr>\n",
              "      <th>21</th>\n",
              "      <td>price</td>\n",
              "      <td>0.033223</td>\n",
              "    </tr>\n",
              "    <tr>\n",
              "      <th>16</th>\n",
              "      <td>length</td>\n",
              "      <td>0.024229</td>\n",
              "    </tr>\n",
              "    <tr>\n",
              "      <th>27</th>\n",
              "      <td>wheelbase</td>\n",
              "      <td>0.023218</td>\n",
              "    </tr>\n",
              "    <tr>\n",
              "      <th>15</th>\n",
              "      <td>latitude</td>\n",
              "      <td>0.021761</td>\n",
              "    </tr>\n",
              "    <tr>\n",
              "      <th>41</th>\n",
              "      <td>n_model_name</td>\n",
              "      <td>0.021318</td>\n",
              "    </tr>\n",
              "    <tr>\n",
              "      <th>31</th>\n",
              "      <td>torque_rpm</td>\n",
              "      <td>0.020103</td>\n",
              "    </tr>\n",
              "    <tr>\n",
              "      <th>32</th>\n",
              "      <td>torque_grade</td>\n",
              "      <td>0.019919</td>\n",
              "    </tr>\n",
              "    <tr>\n",
              "      <th>40</th>\n",
              "      <td>n_franchise_make</td>\n",
              "      <td>0.019541</td>\n",
              "    </tr>\n",
              "    <tr>\n",
              "      <th>0</th>\n",
              "      <td>back_legroom</td>\n",
              "      <td>0.019024</td>\n",
              "    </tr>\n",
              "    <tr>\n",
              "      <th>6</th>\n",
              "      <td>franchise_dealer</td>\n",
              "      <td>0.016173</td>\n",
              "    </tr>\n",
              "    <tr>\n",
              "      <th>10</th>\n",
              "      <td>height</td>\n",
              "      <td>0.015510</td>\n",
              "    </tr>\n",
              "    <tr>\n",
              "      <th>12</th>\n",
              "      <td>horsepower</td>\n",
              "      <td>0.014566</td>\n",
              "    </tr>\n",
              "    <tr>\n",
              "      <th>33</th>\n",
              "      <td>n_body_type</td>\n",
              "      <td>0.014481</td>\n",
              "    </tr>\n",
              "    <tr>\n",
              "      <th>30</th>\n",
              "      <td>torque_ftlb</td>\n",
              "      <td>0.011876</td>\n",
              "    </tr>\n",
              "    <tr>\n",
              "      <th>17</th>\n",
              "      <td>longitude</td>\n",
              "      <td>0.011406</td>\n",
              "    </tr>\n",
              "    <tr>\n",
              "      <th>28</th>\n",
              "      <td>width</td>\n",
              "      <td>0.010707</td>\n",
              "    </tr>\n",
              "    <tr>\n",
              "      <th>18</th>\n",
              "      <td>maximum_seating</td>\n",
              "      <td>0.010300</td>\n",
              "    </tr>\n",
              "    <tr>\n",
              "      <th>2</th>\n",
              "      <td>daysonmarket</td>\n",
              "      <td>0.010286</td>\n",
              "    </tr>\n",
              "    <tr>\n",
              "      <th>8</th>\n",
              "      <td>fuel_tank_volume</td>\n",
              "      <td>0.009999</td>\n",
              "    </tr>\n",
              "    <tr>\n",
              "      <th>7</th>\n",
              "      <td>front_legroom</td>\n",
              "      <td>0.009796</td>\n",
              "    </tr>\n",
              "    <tr>\n",
              "      <th>11</th>\n",
              "      <td>highway_fuel_economy</td>\n",
              "      <td>0.008166</td>\n",
              "    </tr>\n",
              "    <tr>\n",
              "      <th>1</th>\n",
              "      <td>city_fuel_economy</td>\n",
              "      <td>0.007932</td>\n",
              "    </tr>\n",
              "    <tr>\n",
              "      <th>37</th>\n",
              "      <td>n_wheel_system</td>\n",
              "      <td>0.007858</td>\n",
              "    </tr>\n",
              "    <tr>\n",
              "      <th>4</th>\n",
              "      <td>engine_displacement</td>\n",
              "      <td>0.007719</td>\n",
              "    </tr>\n",
              "    <tr>\n",
              "      <th>35</th>\n",
              "      <td>n_fuel_type</td>\n",
              "      <td>0.003462</td>\n",
              "    </tr>\n",
              "    <tr>\n",
              "      <th>23</th>\n",
              "      <td>savings_amount</td>\n",
              "      <td>0.003263</td>\n",
              "    </tr>\n",
              "    <tr>\n",
              "      <th>38</th>\n",
              "      <td>n_city</td>\n",
              "      <td>0.003128</td>\n",
              "    </tr>\n",
              "    <tr>\n",
              "      <th>13</th>\n",
              "      <td>is_cpo</td>\n",
              "      <td>0.002897</td>\n",
              "    </tr>\n",
              "    <tr>\n",
              "      <th>24</th>\n",
              "      <td>seller_rating</td>\n",
              "      <td>0.002774</td>\n",
              "    </tr>\n",
              "    <tr>\n",
              "      <th>3</th>\n",
              "      <td>engine_cylinders</td>\n",
              "      <td>0.002024</td>\n",
              "    </tr>\n",
              "    <tr>\n",
              "      <th>5</th>\n",
              "      <td>frame_damaged</td>\n",
              "      <td>0.001982</td>\n",
              "    </tr>\n",
              "    <tr>\n",
              "      <th>26</th>\n",
              "      <td>transmission_display</td>\n",
              "      <td>0.001542</td>\n",
              "    </tr>\n",
              "    <tr>\n",
              "      <th>42</th>\n",
              "      <td>n_listing_color</td>\n",
              "      <td>0.001058</td>\n",
              "    </tr>\n",
              "    <tr>\n",
              "      <th>36</th>\n",
              "      <td>n_transmission</td>\n",
              "      <td>0.000903</td>\n",
              "    </tr>\n",
              "    <tr>\n",
              "      <th>34</th>\n",
              "      <td>n_engine_type</td>\n",
              "      <td>0.000847</td>\n",
              "    </tr>\n",
              "    <tr>\n",
              "      <th>22</th>\n",
              "      <td>salvage</td>\n",
              "      <td>0.000598</td>\n",
              "    </tr>\n",
              "    <tr>\n",
              "      <th>14</th>\n",
              "      <td>is_oemcpo</td>\n",
              "      <td>0.000588</td>\n",
              "    </tr>\n",
              "    <tr>\n",
              "      <th>9</th>\n",
              "      <td>has_accidents</td>\n",
              "      <td>0.000289</td>\n",
              "    </tr>\n",
              "    <tr>\n",
              "      <th>25</th>\n",
              "      <td>theft_title</td>\n",
              "      <td>0.000148</td>\n",
              "    </tr>\n",
              "  </tbody>\n",
              "</table>\n",
              "</div>"
            ],
            "text/plain": [
              "                  column    weight\n",
              "29                  year  0.409421\n",
              "19               mileage  0.109420\n",
              "20           owner_count  0.048645\n",
              "39           n_make_name  0.037899\n",
              "21                 price  0.033223\n",
              "16                length  0.024229\n",
              "27             wheelbase  0.023218\n",
              "15              latitude  0.021761\n",
              "41          n_model_name  0.021318\n",
              "31            torque_rpm  0.020103\n",
              "32          torque_grade  0.019919\n",
              "40      n_franchise_make  0.019541\n",
              "0           back_legroom  0.019024\n",
              "6       franchise_dealer  0.016173\n",
              "10                height  0.015510\n",
              "12            horsepower  0.014566\n",
              "33           n_body_type  0.014481\n",
              "30           torque_ftlb  0.011876\n",
              "17             longitude  0.011406\n",
              "28                 width  0.010707\n",
              "18       maximum_seating  0.010300\n",
              "2           daysonmarket  0.010286\n",
              "8       fuel_tank_volume  0.009999\n",
              "7          front_legroom  0.009796\n",
              "11  highway_fuel_economy  0.008166\n",
              "1      city_fuel_economy  0.007932\n",
              "37        n_wheel_system  0.007858\n",
              "4    engine_displacement  0.007719\n",
              "35           n_fuel_type  0.003462\n",
              "23        savings_amount  0.003263\n",
              "38                n_city  0.003128\n",
              "13                is_cpo  0.002897\n",
              "24         seller_rating  0.002774\n",
              "3       engine_cylinders  0.002024\n",
              "5          frame_damaged  0.001982\n",
              "26  transmission_display  0.001542\n",
              "42       n_listing_color  0.001058\n",
              "36        n_transmission  0.000903\n",
              "34         n_engine_type  0.000847\n",
              "22               salvage  0.000598\n",
              "14             is_oemcpo  0.000588\n",
              "9          has_accidents  0.000289\n",
              "25           theft_title  0.000148"
            ]
          },
          "metadata": {
            "tags": []
          },
          "execution_count": 36
        }
      ]
    },
    {
      "cell_type": "markdown",
      "metadata": {
        "id": "jTEnh5Zk6-ZP"
      },
      "source": [
        "# Regression Comparison"
      ]
    },
    {
      "cell_type": "code",
      "metadata": {
        "id": "ojlo8odjjzn-"
      },
      "source": [
        "rf_preds = rf_pipe.transform(testing_df)\n",
        "lr_preds = opt_lr.transform(testing_df)\n",
        "\n",
        "preds_rf_rdd = rf_preds.select('fleet','probability').rdd.map(lambda row: (float(row['probability'][1]), float(row['fleet'])))\n",
        "preds_lr_rdd = lr_preds.select('fleet','probability').rdd.map(lambda row: (float(row['probability'][1]), float(row['fleet'])))\n",
        "\n"
      ],
      "execution_count": 44,
      "outputs": []
    },
    {
      "cell_type": "code",
      "metadata": {
        "id": "kp5Cz4tBGh12",
        "colab": {
          "base_uri": "https://localhost:8080/"
        },
        "outputId": "2839de97-1837-4fc3-9a84-ab4e3f4fb802"
      },
      "source": [
        "comp_score_rf_roc = BinaryClassificationEvaluator(labelCol='fleet',metricName = 'areaUnderROC').evaluate(rf_preds)\n",
        "comp_score_rf_pr = BinaryClassificationEvaluator(labelCol='fleet',metricName = 'areaUnderPR').evaluate(rf_preds)\n",
        "\n",
        "comp_score_lr_roc = BinaryClassificationEvaluator(labelCol='fleet',metricName = 'areaUnderROC').evaluate(lr_preds)\n",
        "comp_score_lr_pr = BinaryClassificationEvaluator(labelCol='fleet',metricName = 'areaUnderPR').evaluate(lr_preds)\n",
        "\n",
        "\n",
        "print('Random Forest AUC ROC Score:',comp_score_rf_roc,\n",
        "      \"\\nRandom Forest AUC PR Score:\",comp_score_rf_pr,\n",
        "      \"\\n\",\n",
        "      \"\\nLinear Regression AUC ROC Score:\",comp_score_lr_roc,\n",
        "      \"\\nLinear Regression AUC PR Score:\",comp_score_lr_pr)\n",
        "\n"
      ],
      "execution_count": 38,
      "outputs": [
        {
          "output_type": "stream",
          "text": [
            "Random Forest AUC ROC Score: 0.8975451410003403 \n",
            "Random Forest AUC PR Score: 0.7613840311285704 \n",
            " \n",
            "Linear Regression AUC ROC Score: 0.709115042717756 \n",
            "Linear Regression AUC PR Score: 0.38537740751254734\n"
          ],
          "name": "stdout"
        }
      ]
    },
    {
      "cell_type": "markdown",
      "metadata": {
        "id": "h62xeTbJJO18"
      },
      "source": [
        "https://stackoverflow.com/questions/52847408/pyspark-extract-roc-curve"
      ]
    },
    {
      "cell_type": "code",
      "metadata": {
        "id": "K0b-5STBn1iw"
      },
      "source": [
        "import matplotlib.pyplot as plt\n",
        "from pyspark.mllib.evaluation import BinaryClassificationMetrics\n",
        "\n",
        "class CurveMetrics(BinaryClassificationMetrics):\n",
        "    def __init__(self, *args):\n",
        "        super(CurveMetrics, self).__init__(*args)\n",
        "\n",
        "    def _to_list(self, rdd):\n",
        "        points = []\n",
        "        # Note this collect could be inefficient for large datasets \n",
        "        # considering there may be one probability per datapoint (at most)\n",
        "        # The Scala version takes a numBins parameter, \n",
        "        # but it doesn't seem possible to pass this from Python to Java\n",
        "        for row in rdd.collect():\n",
        "            # Results are returned as type scala.Tuple2, \n",
        "            # which doesn't appear to have a py4j mapping\n",
        "            points += [(float(row._1()), float(row._2()))]\n",
        "        return points\n",
        "\n",
        "    def get_curve(self, method):\n",
        "        rdd = getattr(self._java_model, method)().toJavaRDD()\n",
        "        return self._to_list(rdd)"
      ],
      "execution_count": 45,
      "outputs": []
    },
    {
      "cell_type": "code",
      "metadata": {
        "colab": {
          "base_uri": "https://localhost:8080/",
          "height": 295
        },
        "id": "5GeBES8-m6o9",
        "outputId": "e410de0a-e725-4546-aee4-848d4e1f324d"
      },
      "source": [
        "points_rf_rdd_pr = CurveMetrics(preds_rf_rdd).get_curve('pr')\n",
        "points_lr_rdd_pr = CurveMetrics(preds_lr_rdd).get_curve('pr')\n",
        "\n",
        "x_val_rf = [x[0] for x in points_rf_rdd_pr]\n",
        "y_val_rf = [x[1] for x in points_rf_rdd_pr]\n",
        "plt.plot(x_val_rf, y_val_rf, label='Random Forest')\n",
        "\n",
        "x_val_lr = [x[0] for x in points_lr_rdd_pr]\n",
        "y_val_lr = [x[1] for x in points_lr_rdd_pr]\n",
        "plt.plot(x_val_lr, y_val_lr, label='Logistic Regression')\n",
        "\n",
        "no_skill = testing_df.select('fleet').filter('fleet ==1').count()/testing_df.select('fleet').count()\n",
        "plt.plot([0, 1], [no_skill, no_skill], linestyle='--', label='No Skill')\n",
        "\n",
        "plt.title('Fleet Prediction PR Curve Comparison')\n",
        "plt.legend()\n",
        "plt.xlabel('Recall')\n",
        "plt.ylabel('Precison')\n",
        "plt.ylim(0,1)\n",
        "plt.show()"
      ],
      "execution_count": 49,
      "outputs": [
        {
          "output_type": "display_data",
          "data": {
            "image/png": "[encoded data removed]",
            "text/plain": [
              "<Figure size 432x288 with 1 Axes>"
            ]
          },
          "metadata": {
            "tags": [],
            "needs_background": "light"
          }
        }
      ]
    },
    {
      "cell_type": "code",
      "metadata": {
        "id": "tkDCNI2tW-Q-",
        "colab": {
          "base_uri": "https://localhost:8080/",
          "height": 295
        },
        "outputId": "244ef0d4-e08c-475e-cec1-b7afebc99886"
      },
      "source": [
        "preds_rf_rdd = rf_preds.select('fleet','probability').rdd.map(lambda row: (float(row['probability'][1]), float(row['fleet'])))\n",
        "points_rf_rdd = CurveMetrics(preds_rf_rdd).get_curve('roc')\n",
        "\n",
        "x_val_rf = [x[0] for x in points_rf_rdd]\n",
        "y_val_rf = [x[1] for x in points_rf_rdd]\n",
        "plt.plot(x_val_rf, y_val_rf, label='Random Forest')\n",
        "\n",
        "preds_lr_rdd = lr_preds.select('fleet','probability').rdd.map(lambda row: (float(row['probability'][1]), float(row['fleet'])))\n",
        "points_lr_rdd = CurveMetrics(preds_lr_rdd).get_curve('roc')\n",
        "\n",
        "x_val_lr = [x[0] for x in points_lr_rdd]\n",
        "y_val_lr = [x[1] for x in points_lr_rdd]\n",
        "plt.plot(x_val_lr, y_val_lr, label='Logistic Regression')\n",
        "\n",
        "plt.title('Fleet Prediction ROC Curve Comparison')\n",
        "plt.legend()\n",
        "plt.xlabel('FPR')\n",
        "plt.ylabel('TPR')\n",
        "plt.show()"
      ],
      "execution_count": 51,
      "outputs": [
        {
          "output_type": "display_data",
          "data": {
            "image/png": "[encoded data removed]",
            "text/plain": [
              "<Figure size 432x288 with 1 Axes>"
            ]
          },
          "metadata": {
            "tags": [],
            "needs_background": "light"
          }
        }
      ]
    },
    {
      "cell_type": "code",
      "metadata": {
        "colab": {
          "base_uri": "https://localhost:8080/"
        },
        "id": "vmo2AcNkl-Ly",
        "outputId": "8e1e7919-c5bb-407e-d093-1379e546a38d"
      },
      "source": [
        "no_skill\n"
      ],
      "execution_count": 50,
      "outputs": [
        {
          "output_type": "execute_result",
          "data": {
            "text/plain": [
              "0.21975582685904552"
            ]
          },
          "metadata": {
            "tags": []
          },
          "execution_count": 50
        }
      ]
    }
  ]
}