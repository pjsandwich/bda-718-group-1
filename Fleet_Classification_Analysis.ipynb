{
  "nbformat": 4,
  "nbformat_minor": 0,
  "metadata": {
    "colab": {
      "name": "Fleet Classification Analysis.ipynb",
      "provenance": [],
      "collapsed_sections": [],
      "include_colab_link": true
    },
    "kernelspec": {
      "name": "python3",
      "display_name": "Python 3"
    }
  },
  "cells": [
    {
      "cell_type": "markdown",
      "metadata": {
        "id": "view-in-github",
        "colab_type": "text"
      },
      "source": [
        "<a href=\"https://colab.research.google.com/github/baschram/bda-718-group-1/blob/master/Fleet_Classification_Analysis.ipynb\" target=\"_parent\"><img src=\"https://colab.research.google.com/assets/colab-badge.svg\" alt=\"Open In Colab\"/></a>"
      ]
    },
    {
      "cell_type": "markdown",
      "metadata": {
        "id": "LlQq4Eko6W1h"
      },
      "source": [
        "# Pyspark Install and Drive Mounting"
      ]
    },
    {
      "cell_type": "code",
      "metadata": {
        "id": "RP9HfJTEZqJT",
        "colab": {
          "base_uri": "https://localhost:8080/"
        },
        "outputId": "a03106f3-5d2a-4785-d095-34047fe16e28"
      },
      "source": [
        "%%bash\n",
        "# Need to install pyspark\n",
        "# if pyspark is already installed, will print a message indicating pyspark already isntalled\n",
        "pip install pyspark\n",
        "pip install seaborn"
      ],
      "execution_count": 2,
      "outputs": [
        {
          "output_type": "stream",
          "text": [
            "Collecting pyspark\n",
            "  Downloading https://files.pythonhosted.org/packages/f0/26/198fc8c0b98580f617cb03cb298c6056587b8f0447e20fa40c5b634ced77/pyspark-3.0.1.tar.gz (204.2MB)\n",
            "Collecting py4j==0.10.9\n",
            "  Downloading https://files.pythonhosted.org/packages/9e/b6/6a4fb90cd235dc8e265a6a2067f2a2c99f0d91787f06aca4bcf7c23f3f80/py4j-0.10.9-py2.py3-none-any.whl (198kB)\n",
            "Building wheels for collected packages: pyspark\n",
            "  Building wheel for pyspark (setup.py): started\n",
            "  Building wheel for pyspark (setup.py): finished with status 'done'\n",
            "  Created wheel for pyspark: filename=pyspark-3.0.1-py2.py3-none-any.whl size=204612243 sha256=6e8768c48509f86c3446c26cf5e6de4697216d3b716984081ab93c66784d90e8\n",
            "  Stored in directory: /root/.cache/pip/wheels/5e/bd/07/031766ca628adec8435bb40f0bd83bb676ce65ff4007f8e73f\n",
            "Successfully built pyspark\n",
            "Installing collected packages: py4j, pyspark\n",
            "Successfully installed py4j-0.10.9 pyspark-3.0.1\n",
            "Requirement already satisfied: seaborn in /usr/local/lib/python3.6/dist-packages (0.11.0)\n",
            "Requirement already satisfied: matplotlib>=2.2 in /usr/local/lib/python3.6/dist-packages (from seaborn) (3.2.2)\n",
            "Requirement already satisfied: numpy>=1.15 in /usr/local/lib/python3.6/dist-packages (from seaborn) (1.18.5)\n",
            "Requirement already satisfied: pandas>=0.23 in /usr/local/lib/python3.6/dist-packages (from seaborn) (1.1.4)\n",
            "Requirement already satisfied: scipy>=1.0 in /usr/local/lib/python3.6/dist-packages (from seaborn) (1.4.1)\n",
            "Requirement already satisfied: cycler>=0.10 in /usr/local/lib/python3.6/dist-packages (from matplotlib>=2.2->seaborn) (0.10.0)\n",
            "Requirement already satisfied: kiwisolver>=1.0.1 in /usr/local/lib/python3.6/dist-packages (from matplotlib>=2.2->seaborn) (1.3.1)\n",
            "Requirement already satisfied: python-dateutil>=2.1 in /usr/local/lib/python3.6/dist-packages (from matplotlib>=2.2->seaborn) (2.8.1)\n",
            "Requirement already satisfied: pyparsing!=2.0.4,!=2.1.2,!=2.1.6,>=2.0.1 in /usr/local/lib/python3.6/dist-packages (from matplotlib>=2.2->seaborn) (2.4.7)\n",
            "Requirement already satisfied: pytz>=2017.2 in /usr/local/lib/python3.6/dist-packages (from pandas>=0.23->seaborn) (2018.9)\n",
            "Requirement already satisfied: six in /usr/local/lib/python3.6/dist-packages (from cycler>=0.10->matplotlib>=2.2->seaborn) (1.15.0)\n"
          ],
          "name": "stdout"
        }
      ]
    },
    {
      "cell_type": "markdown",
      "metadata": {
        "id": "f9QUgjShvmaf"
      },
      "source": [
        "Import required spark packages and set spark environment to use additoinal memory and cores on colab instance"
      ]
    },
    {
      "cell_type": "code",
      "metadata": {
        "id": "qlRNgJJUOybF",
        "colab": {
          "base_uri": "https://localhost:8080/"
        },
        "outputId": "5d55858b-764b-4287-e85d-3ad670911637"
      },
      "source": [
        "%matplotlib inline\n",
        "from pyspark.sql import SparkSession\n",
        "from pyspark.sql import SQLContext\n",
        "from pyspark.ml import feature\n",
        "import re\n",
        "from pyspark.sql import functions as fn\n",
        "from pyspark.sql.functions import col, regexp_replace, split\n",
        "from pyspark.sql.utils import AnalysisException\n",
        "from pyspark.sql import Row\n",
        "from pyspark.sql.types import IntegerType, DateType, FloatType, BooleanType\n",
        "from pyspark.ml.classification import LogisticRegression, RandomForestClassifier\n",
        "from pyspark.ml.evaluation import BinaryClassificationEvaluator\n",
        "from pyspark.ml.tuning import ParamGridBuilder\n",
        "from pyspark.ml import Pipeline\n",
        "import os\n",
        "import pandas as pd\n",
        "import seaborn as sns\n",
        "import matplotlib.pyplot as plt\n",
        "\n",
        "spark = SparkSession \\\n",
        "  .builder \\\n",
        "  .master(\"local[*]\")\\\n",
        "  .config(\"spark.memory.fraction\", 0.8) \\\n",
        "  .config(\"spark.executor.memory\", \"12g\") \\\n",
        "  .config(\"spark.driver.memory\", \"12g\")\\\n",
        "  .config(\"spark.memory.offHeap.enabled\",'true')\\\n",
        "  .config(\"spark.memory.offHeap.size\",\"12g\")\\\n",
        "  .getOrCreate()\n",
        "sc = spark.sparkContext\n",
        "sqlContext = SQLContext(sc)\n",
        "\n",
        "from google.colab import drive\n",
        "drive.mount('/content/drive')"
      ],
      "execution_count": 3,
      "outputs": [
        {
          "output_type": "stream",
          "text": [
            "Mounted at /content/drive\n"
          ],
          "name": "stdout"
        }
      ]
    },
    {
      "cell_type": "code",
      "metadata": {
        "id": "fgHnMvNFFcqc"
      },
      "source": [
        "logreg_sampled_df = spark.read.format(\"csv\").option(\"header\", \"true\").option('inferSchema','true').load(\"drive/Shared drives/IST 718 Group1/spaghetti.csv\")"
      ],
      "execution_count": 4,
      "outputs": []
    },
    {
      "cell_type": "code",
      "metadata": {
        "id": "YIP-UaWaHMqU"
      },
      "source": [
        "#Convert boolean columns to integer to change from booleans to 0 and 1\n",
        "#create list of boolena columns\n",
        "bool_cols_input = ['fleet','frame_damaged','franchise_dealer','has_accidents','isCab','is_cpo','is_new','is_oemcpo','salvage','theft_title']\n",
        "#Iterate through list and cast to integer type\n",
        "for i in bool_cols_input:\n",
        "  logreg_sampled_df = logreg_sampled_df.withColumn(i, logreg_sampled_df[i].cast(IntegerType()))"
      ],
      "execution_count": 5,
      "outputs": []
    },
    {
      "cell_type": "code",
      "metadata": {
        "id": "IgelsiWDeGkQ",
        "outputId": "291e4f68-3367-410a-d64d-21fd4270f322",
        "colab": {
          "base_uri": "https://localhost:8080/"
        }
      },
      "source": [
        "logreg_sampled_df.select('fleet').filter('fleet == 1').count()/logreg_sampled_df.select('fleet').count()"
      ],
      "execution_count": 13,
      "outputs": [
        {
          "output_type": "execute_result",
          "data": {
            "text/plain": [
              "0.112740923635081"
            ]
          },
          "metadata": {
            "tags": []
          },
          "execution_count": 13
        }
      ]
    },
    {
      "cell_type": "markdown",
      "metadata": {
        "id": "91quDxcIeqUE"
      },
      "source": [
        "Due to the large class imbalance (only 11.3 positive for Fleet condition) it makes sense to use Precision/Recall metric as is it concerned with correct prediction of the positive class."
      ]
    },
    {
      "cell_type": "code",
      "metadata": {
        "id": "nZb7NgrREdvV"
      },
      "source": [
        "#Classifier imports and dataset split\n",
        "\n",
        "training_df, validation_df, testing_df = logreg_sampled_df.randomSplit([0.6, 0.3, 0.1], seed=0)"
      ],
      "execution_count": 8,
      "outputs": []
    },
    {
      "cell_type": "code",
      "metadata": {
        "id": "4h8lsd4UMROc"
      },
      "source": [
        "enable_grid = True"
      ],
      "execution_count": 9,
      "outputs": []
    },
    {
      "cell_type": "markdown",
      "metadata": {
        "id": "5qsUlHx67RMi"
      },
      "source": [
        "# Logistic Regression Analysis"
      ]
    },
    {
      "cell_type": "markdown",
      "metadata": {
        "id": "o-8sC6wPyXXp"
      },
      "source": [
        "Grid search for logistic regression on data set. Removed columns that were incomplete, not appliable to the majority of vehicles or were derivatives of other columns.  Since we would likr to look at feature importance by comparing feature weights, all features were scaled using a standard scaler.  Each training run takes approx 20 minutes and the total grid search time is approx 4.5 hours.  Interestingly, adding regularization and elastic net parameters did not improve the model performance.  The scores only marginally decreased\n",
        "\n",
        "COPY scores output from Grid search\n"
      ]
    },
    {
      "cell_type": "code",
      "metadata": {
        "id": "hIhcriEgLfyU",
        "outputId": "9fc78f7f-4734-4adb-f64f-a039d35044fd",
        "colab": {
          "base_uri": "https://localhost:8080/"
        }
      },
      "source": [
        "feature_cols = ['back_legroom','city_fuel_economy','daysonmarket','engine_cylinders','engine_displacement','frame_damaged','franchise_dealer','front_legroom',\n",
        "                'fuel_tank_volume','has_accidents','height','highway_fuel_economy','horsepower','is_cpo','is_new','is_oemcpo','latitude','length',\n",
        "                'longitude','maximum_seating','mileage','owner_count','price','salvage','savings_amount','seller_rating','theft_title','transmission_display',\n",
        "                'wheelbase','width','year','torque_ftlb','torque_rpm','torque_grade','n_body_type','n_engine_type','n_fuel_type','n_transmission','n_wheel_system',\n",
        "                'n_city','n_make_name','n_franchise_make','n_sp_name','n_interior_color','n_model_name','n_listing_color']\n",
        "len(feature_cols)"
      ],
      "execution_count": 1,
      "outputs": [
        {
          "output_type": "execute_result",
          "data": {
            "text/plain": [
              "46"
            ]
          },
          "metadata": {
            "tags": []
          },
          "execution_count": 1
        }
      ]
    },
    {
      "cell_type": "code",
      "metadata": {
        "id": "kd_cDy3Aa7N0",
        "colab": {
          "base_uri": "https://localhost:8080/"
        },
        "outputId": "2a1a1af2-0d5d-4299-fd30-c785e1998187"
      },
      "source": [
        "#logistical Regression with Grid Search\n",
        "\n",
        "#Create list of feature columns for use in vector assemeble\n",
        "feature_cols = ['back_legroom','city_fuel_economy','daysonmarket','engine_cylinders','engine_displacement','frame_damaged','franchise_dealer','front_legroom',\n",
        "                'fuel_tank_volume','has_accidents','height','highway_fuel_economy','horsepower','is_cpo','is_new','is_oemcpo','latitude','length',\n",
        "                'longitude','maximum_seating','mileage','owner_count','price','salvage','savings_amount','seller_rating','theft_title','transmission_display',\n",
        "                'wheelbase','width','year','torque_ftlb','torque_rpm','torque_grade','n_body_type','n_engine_type','n_fuel_type','n_transmission','n_wheel_system',\n",
        "                'n_city','n_make_name','n_franchise_make','n_sp_name','n_interior_color','n_model_name','n_listing_color']\n",
        "\n",
        "#Second preprocessing step to create feature vector and scale so feature coeffcients can be compared for importance\n",
        "lr_va = feature.VectorAssembler(inputCols=feature_cols, outputCol='features')\n",
        "\n",
        "scaler = feature.StandardScaler(withMean=True, inputCol='features')\n",
        "\n",
        "logreg_preprocessing_2 = Pipeline(stages=[lr_va, scaler])\n",
        "\n",
        "if enable_grid:\n",
        "  lr = LogisticRegression(labelCol='fleet',featuresCol='features')\n",
        "\n",
        "  grid = ParamGridBuilder().\\\n",
        "  addGrid(lr.regParam, [0., 0.01, 0.02]).\\\n",
        "  addGrid(lr.elasticNetParam, [0., 0.1, 0.3]).\\\n",
        "  build()\n",
        "\n",
        "  lr_pipe = Pipeline(stages = [logreg_preprocessing_2,lr])\n",
        "\n",
        "  all_models = []\n",
        "  for j in range(len(grid)):\n",
        "    print(\"Fitting model {}\".format(j+1))\n",
        "    model = lr_pipe.fit(training_df, grid[j])\n",
        "    all_models.append(model)\n",
        "      \n",
        "  scores =[]\n",
        "  print('Model fitting complete -> Evaluating Scores')\n",
        "  for m in all_models:\n",
        "    score_lr_pipe_1 = BinaryClassificationEvaluator(labelCol='fleet',metricName = 'areaUnderPR').evaluate(m.transform(validation_df))\n",
        "    scores.append(score_lr_pipe_1)\n",
        "        \n",
        "  print(max(scores), '\\n', grid[scores.index(max(scores))])\n",
        "pass"
      ],
      "execution_count": 10,
      "outputs": [
        {
          "output_type": "stream",
          "text": [
            "Fitting model 1\n",
            "Fitting model 2\n",
            "Fitting model 3\n",
            "Fitting model 4\n",
            "Fitting model 5\n",
            "Fitting model 6\n",
            "Fitting model 7\n",
            "Fitting model 8\n",
            "Fitting model 9\n",
            "Model fitting complete -> Evaluating Scores\n",
            "0.3939441609338116 \n",
            " {Param(parent='LogisticRegression_f469b2b5cea4', name='regParam', doc='regularization parameter (>= 0).'): 0.0, Param(parent='LogisticRegression_f469b2b5cea4', name='elasticNetParam', doc='the ElasticNet mixing parameter, in range [0, 1]. For alpha = 0, the penalty is an L2 penalty. For alpha = 1, it is an L1 penalty.'): 0.1}\n"
          ],
          "name": "stdout"
        }
      ]
    },
    {
      "cell_type": "code",
      "metadata": {
        "colab": {
          "base_uri": "https://localhost:8080/"
        },
        "id": "DB1mLA9IZarL",
        "outputId": "f1f53e34-7761-4f82-a344-59f452e4371f"
      },
      "source": [
        "scores"
      ],
      "execution_count": 14,
      "outputs": [
        {
          "output_type": "execute_result",
          "data": {
            "text/plain": [
              "[0.5960822371352075,\n",
              " 0.6641002065363159,\n",
              " 0.7133201162800078,\n",
              " 0.5466188793877936,\n",
              " 0.6479325791261088,\n",
              " 0.7014709257799304,\n",
              " 0.6408109692191623,\n",
              " 0.6810847810669435,\n",
              " 0.7247336129778318]"
            ]
          },
          "metadata": {
            "tags": []
          },
          "execution_count": 14
        }
      ]
    },
    {
      "cell_type": "code",
      "metadata": {
        "id": "jVOauTrNysU6"
      },
      "source": [
        "#Feature Inference\n",
        "if enable_grid:\n",
        "  abs_feature_scores = [abs(i) for i in all_models[scores.index(max(scores))].stages[-1].coefficients.toArray().tolist()]\n",
        "  df_col = ['feature','weight']\n",
        "  abs_coeffs_df = spark.createDataFrame(data=zip(feature_cols,abs_feature_scores),schema = df_col)\n",
        "\n",
        "  lr_important_features = abs_coeffs_df.sort(fn.desc('weight')).limit(10).toPandas()\n",
        "\n",
        "  display(lr_important_features)\n",
        "\n",
        "  feature_scores = all_models[scores.index(max(scores))].stages[-1].coefficients.toArray().tolist()\n",
        "  coeffs_df = spark.createDataFrame(data=zip(feature_cols,feature_scores),schema = df_col)\n",
        "\n",
        "  lr_features_pos = coeffs_df.sort(fn.desc('weight')).limit(10).toPandas()\n",
        "  lr_features_neg = coeffs_df.sort('weight').limit(10).toPandas()\n",
        "\n",
        "  display(lr_features_pos)\n",
        "  display(lr_features_neg)\n",
        "pass"
      ],
      "execution_count": 46,
      "outputs": []
    },
    {
      "cell_type": "markdown",
      "metadata": {
        "id": "moQ619zgzmpF"
      },
      "source": [
        "Below is the optimized model"
      ]
    },
    {
      "cell_type": "code",
      "metadata": {
        "id": "vMKhTwUvbpyA",
        "colab": {
          "base_uri": "https://localhost:8080/"
        },
        "outputId": "fb2764ac-3b91-442f-d4db-ff0294388979"
      },
      "source": [
        "#LR Optimized Model\n",
        "alpha_par = 0.1\n",
        "lambda_par = 0\n",
        "\n",
        "lr = LogisticRegression(labelCol='fleet',featuresCol='features',regParam=lambda_par, elasticNetParam=alpha_par)\n",
        "\n",
        "lr_pipe = Pipeline(stages = [logreg_preprocessing_2,lr])\n",
        "\n",
        "opt_lr = lr_pipe.fit(training_df)\n",
        "\n",
        "score_lr_pipe_1 = BinaryClassificationEvaluator(labelCol='fleet',metricName = 'areaUnderPR').evaluate(opt_lr.transform(validation_df))\n",
        "\n",
        "print(score_lr_pipe_1)"
      ],
      "execution_count": 15,
      "outputs": [
        {
          "output_type": "stream",
          "text": [
            "0.3939442208060376\n"
          ],
          "name": "stdout"
        }
      ]
    },
    {
      "cell_type": "markdown",
      "metadata": {
        "id": "1ZzTsq1QzqJQ"
      },
      "source": [
        "Code to look at feature importance.  The first table shows the absolute values of feature weights giving an idication the most imporant features in determining if a vehicle was in a fleet or not.  The following two show the actual values to give an indication on which features indicate positive correlation to being a fleet vehicle or neagtive correlation respectively."
      ]
    },
    {
      "cell_type": "code",
      "metadata": {
        "id": "DKRRhBes9YN9",
        "colab": {
          "base_uri": "https://localhost:8080/",
          "height": 1000
        },
        "outputId": "06c34ddb-faf3-47f9-91a3-67b04c99e768"
      },
      "source": [
        "abs_feature_scores = [abs(i) for i in opt_lr.stages[-1].coefficients.toArray().tolist()]\n",
        "df_col = ['feature','weight']\n",
        "abs_coeffs_df = spark.createDataFrame(data=zip(feature_cols,abs_feature_scores),schema = df_col)\n",
        "\n",
        "lr_important_features = abs_coeffs_df.sort(fn.desc('weight')).limit(10).toPandas()\n",
        "\n",
        "display(lr_important_features)\n",
        "\n",
        "feature_scores = opt_lr.stages[-1].coefficients.toArray().tolist()\n",
        "coeffs_df = spark.createDataFrame(data=zip(feature_cols,feature_scores),schema = df_col)\n",
        "\n",
        "lr_features_pos = coeffs_df.sort(fn.desc('weight')).toPandas()\n",
        "lr_features_neg = coeffs_df.sort('weight').toPandas()\n",
        "\n",
        "display(lr_features_pos)\n",
        "display(lr_features_neg)"
      ],
      "execution_count": 16,
      "outputs": [
        {
          "output_type": "display_data",
          "data": {
            "text/html": [
              "<div>\n",
              "<style scoped>\n",
              "    .dataframe tbody tr th:only-of-type {\n",
              "        vertical-align: middle;\n",
              "    }\n",
              "\n",
              "    .dataframe tbody tr th {\n",
              "        vertical-align: top;\n",
              "    }\n",
              "\n",
              "    .dataframe thead th {\n",
              "        text-align: right;\n",
              "    }\n",
              "</style>\n",
              "<table border=\"1\" class=\"dataframe\">\n",
              "  <thead>\n",
              "    <tr style=\"text-align: right;\">\n",
              "      <th></th>\n",
              "      <th>feature</th>\n",
              "      <th>weight</th>\n",
              "    </tr>\n",
              "  </thead>\n",
              "  <tbody>\n",
              "    <tr>\n",
              "      <th>0</th>\n",
              "      <td>is_new</td>\n",
              "      <td>4.921472</td>\n",
              "    </tr>\n",
              "    <tr>\n",
              "      <th>1</th>\n",
              "      <td>salvage</td>\n",
              "      <td>1.484617</td>\n",
              "    </tr>\n",
              "    <tr>\n",
              "      <th>2</th>\n",
              "      <td>torque_grade</td>\n",
              "      <td>0.888385</td>\n",
              "    </tr>\n",
              "    <tr>\n",
              "      <th>3</th>\n",
              "      <td>is_cpo</td>\n",
              "      <td>0.738227</td>\n",
              "    </tr>\n",
              "    <tr>\n",
              "      <th>4</th>\n",
              "      <td>franchise_dealer</td>\n",
              "      <td>0.564076</td>\n",
              "    </tr>\n",
              "    <tr>\n",
              "      <th>5</th>\n",
              "      <td>owner_count</td>\n",
              "      <td>0.474675</td>\n",
              "    </tr>\n",
              "    <tr>\n",
              "      <th>6</th>\n",
              "      <td>is_oemcpo</td>\n",
              "      <td>0.367949</td>\n",
              "    </tr>\n",
              "    <tr>\n",
              "      <th>7</th>\n",
              "      <td>frame_damaged</td>\n",
              "      <td>0.261476</td>\n",
              "    </tr>\n",
              "    <tr>\n",
              "      <th>8</th>\n",
              "      <td>maximum_seating</td>\n",
              "      <td>0.227215</td>\n",
              "    </tr>\n",
              "    <tr>\n",
              "      <th>9</th>\n",
              "      <td>theft_title</td>\n",
              "      <td>0.212801</td>\n",
              "    </tr>\n",
              "  </tbody>\n",
              "</table>\n",
              "</div>"
            ],
            "text/plain": [
              "            feature    weight\n",
              "0            is_new  4.921472\n",
              "1           salvage  1.484617\n",
              "2      torque_grade  0.888385\n",
              "3            is_cpo  0.738227\n",
              "4  franchise_dealer  0.564076\n",
              "5       owner_count  0.474675\n",
              "6         is_oemcpo  0.367949\n",
              "7     frame_damaged  0.261476\n",
              "8   maximum_seating  0.227215\n",
              "9       theft_title  0.212801"
            ]
          },
          "metadata": {
            "tags": []
          }
        },
        {
          "output_type": "display_data",
          "data": {
            "text/html": [
              "<div>\n",
              "<style scoped>\n",
              "    .dataframe tbody tr th:only-of-type {\n",
              "        vertical-align: middle;\n",
              "    }\n",
              "\n",
              "    .dataframe tbody tr th {\n",
              "        vertical-align: top;\n",
              "    }\n",
              "\n",
              "    .dataframe thead th {\n",
              "        text-align: right;\n",
              "    }\n",
              "</style>\n",
              "<table border=\"1\" class=\"dataframe\">\n",
              "  <thead>\n",
              "    <tr style=\"text-align: right;\">\n",
              "      <th></th>\n",
              "      <th>feature</th>\n",
              "      <th>weight</th>\n",
              "    </tr>\n",
              "  </thead>\n",
              "  <tbody>\n",
              "    <tr>\n",
              "      <th>0</th>\n",
              "      <td>owner_count</td>\n",
              "      <td>0.474675</td>\n",
              "    </tr>\n",
              "    <tr>\n",
              "      <th>1</th>\n",
              "      <td>is_oemcpo</td>\n",
              "      <td>0.367949</td>\n",
              "    </tr>\n",
              "    <tr>\n",
              "      <th>2</th>\n",
              "      <td>frame_damaged</td>\n",
              "      <td>0.261476</td>\n",
              "    </tr>\n",
              "    <tr>\n",
              "      <th>3</th>\n",
              "      <td>maximum_seating</td>\n",
              "      <td>0.227215</td>\n",
              "    </tr>\n",
              "    <tr>\n",
              "      <th>4</th>\n",
              "      <td>theft_title</td>\n",
              "      <td>0.212801</td>\n",
              "    </tr>\n",
              "    <tr>\n",
              "      <th>5</th>\n",
              "      <td>transmission_display</td>\n",
              "      <td>0.113250</td>\n",
              "    </tr>\n",
              "    <tr>\n",
              "      <th>6</th>\n",
              "      <td>n_transmission</td>\n",
              "      <td>0.060211</td>\n",
              "    </tr>\n",
              "    <tr>\n",
              "      <th>7</th>\n",
              "      <td>n_fuel_type</td>\n",
              "      <td>0.044396</td>\n",
              "    </tr>\n",
              "    <tr>\n",
              "      <th>8</th>\n",
              "      <td>back_legroom</td>\n",
              "      <td>0.013993</td>\n",
              "    </tr>\n",
              "    <tr>\n",
              "      <th>9</th>\n",
              "      <td>width</td>\n",
              "      <td>0.012666</td>\n",
              "    </tr>\n",
              "    <tr>\n",
              "      <th>10</th>\n",
              "      <td>length</td>\n",
              "      <td>0.010261</td>\n",
              "    </tr>\n",
              "    <tr>\n",
              "      <th>11</th>\n",
              "      <td>fuel_tank_volume</td>\n",
              "      <td>0.006768</td>\n",
              "    </tr>\n",
              "    <tr>\n",
              "      <th>12</th>\n",
              "      <td>height</td>\n",
              "      <td>0.004917</td>\n",
              "    </tr>\n",
              "    <tr>\n",
              "      <th>13</th>\n",
              "      <td>wheelbase</td>\n",
              "      <td>0.001242</td>\n",
              "    </tr>\n",
              "    <tr>\n",
              "      <th>14</th>\n",
              "      <td>n_franchise_make</td>\n",
              "      <td>0.000865</td>\n",
              "    </tr>\n",
              "    <tr>\n",
              "      <th>15</th>\n",
              "      <td>torque_ftlb</td>\n",
              "      <td>0.000800</td>\n",
              "    </tr>\n",
              "    <tr>\n",
              "      <th>16</th>\n",
              "      <td>daysonmarket</td>\n",
              "      <td>0.000743</td>\n",
              "    </tr>\n",
              "    <tr>\n",
              "      <th>17</th>\n",
              "      <td>torque_rpm</td>\n",
              "      <td>0.000174</td>\n",
              "    </tr>\n",
              "    <tr>\n",
              "      <th>18</th>\n",
              "      <td>n_city</td>\n",
              "      <td>0.000046</td>\n",
              "    </tr>\n",
              "    <tr>\n",
              "      <th>19</th>\n",
              "      <td>savings_amount</td>\n",
              "      <td>0.000035</td>\n",
              "    </tr>\n",
              "    <tr>\n",
              "      <th>20</th>\n",
              "      <td>engine_displacement</td>\n",
              "      <td>0.000007</td>\n",
              "    </tr>\n",
              "    <tr>\n",
              "      <th>21</th>\n",
              "      <td>mileage</td>\n",
              "      <td>-0.000014</td>\n",
              "    </tr>\n",
              "    <tr>\n",
              "      <th>22</th>\n",
              "      <td>n_sp_name</td>\n",
              "      <td>-0.000015</td>\n",
              "    </tr>\n",
              "    <tr>\n",
              "      <th>23</th>\n",
              "      <td>price</td>\n",
              "      <td>-0.000022</td>\n",
              "    </tr>\n",
              "    <tr>\n",
              "      <th>24</th>\n",
              "      <td>n_interior_color</td>\n",
              "      <td>-0.000086</td>\n",
              "    </tr>\n",
              "    <tr>\n",
              "      <th>25</th>\n",
              "      <td>year</td>\n",
              "      <td>-0.000765</td>\n",
              "    </tr>\n",
              "    <tr>\n",
              "      <th>26</th>\n",
              "      <td>n_model_name</td>\n",
              "      <td>-0.001095</td>\n",
              "    </tr>\n",
              "    <tr>\n",
              "      <th>27</th>\n",
              "      <td>horsepower</td>\n",
              "      <td>-0.001329</td>\n",
              "    </tr>\n",
              "    <tr>\n",
              "      <th>28</th>\n",
              "      <td>highway_fuel_economy</td>\n",
              "      <td>-0.001617</td>\n",
              "    </tr>\n",
              "    <tr>\n",
              "      <th>29</th>\n",
              "      <td>front_legroom</td>\n",
              "      <td>-0.008140</td>\n",
              "    </tr>\n",
              "    <tr>\n",
              "      <th>30</th>\n",
              "      <td>city_fuel_economy</td>\n",
              "      <td>-0.010230</td>\n",
              "    </tr>\n",
              "    <tr>\n",
              "      <th>31</th>\n",
              "      <td>longitude</td>\n",
              "      <td>-0.011476</td>\n",
              "    </tr>\n",
              "    <tr>\n",
              "      <th>32</th>\n",
              "      <td>n_listing_color</td>\n",
              "      <td>-0.021787</td>\n",
              "    </tr>\n",
              "    <tr>\n",
              "      <th>33</th>\n",
              "      <td>n_make_name</td>\n",
              "      <td>-0.023994</td>\n",
              "    </tr>\n",
              "    <tr>\n",
              "      <th>34</th>\n",
              "      <td>has_accidents</td>\n",
              "      <td>-0.030456</td>\n",
              "    </tr>\n",
              "    <tr>\n",
              "      <th>35</th>\n",
              "      <td>latitude</td>\n",
              "      <td>-0.042902</td>\n",
              "    </tr>\n",
              "    <tr>\n",
              "      <th>36</th>\n",
              "      <td>n_engine_type</td>\n",
              "      <td>-0.047054</td>\n",
              "    </tr>\n",
              "    <tr>\n",
              "      <th>37</th>\n",
              "      <td>engine_cylinders</td>\n",
              "      <td>-0.071787</td>\n",
              "    </tr>\n",
              "    <tr>\n",
              "      <th>38</th>\n",
              "      <td>n_wheel_system</td>\n",
              "      <td>-0.121313</td>\n",
              "    </tr>\n",
              "    <tr>\n",
              "      <th>39</th>\n",
              "      <td>seller_rating</td>\n",
              "      <td>-0.123804</td>\n",
              "    </tr>\n",
              "    <tr>\n",
              "      <th>40</th>\n",
              "      <td>n_body_type</td>\n",
              "      <td>-0.171281</td>\n",
              "    </tr>\n",
              "    <tr>\n",
              "      <th>41</th>\n",
              "      <td>franchise_dealer</td>\n",
              "      <td>-0.564076</td>\n",
              "    </tr>\n",
              "    <tr>\n",
              "      <th>42</th>\n",
              "      <td>is_cpo</td>\n",
              "      <td>-0.738227</td>\n",
              "    </tr>\n",
              "    <tr>\n",
              "      <th>43</th>\n",
              "      <td>torque_grade</td>\n",
              "      <td>-0.888385</td>\n",
              "    </tr>\n",
              "    <tr>\n",
              "      <th>44</th>\n",
              "      <td>salvage</td>\n",
              "      <td>-1.484617</td>\n",
              "    </tr>\n",
              "    <tr>\n",
              "      <th>45</th>\n",
              "      <td>is_new</td>\n",
              "      <td>-4.921472</td>\n",
              "    </tr>\n",
              "  </tbody>\n",
              "</table>\n",
              "</div>"
            ],
            "text/plain": [
              "                 feature    weight\n",
              "0            owner_count  0.474675\n",
              "1              is_oemcpo  0.367949\n",
              "2          frame_damaged  0.261476\n",
              "3        maximum_seating  0.227215\n",
              "4            theft_title  0.212801\n",
              "5   transmission_display  0.113250\n",
              "6         n_transmission  0.060211\n",
              "7            n_fuel_type  0.044396\n",
              "8           back_legroom  0.013993\n",
              "9                  width  0.012666\n",
              "10                length  0.010261\n",
              "11      fuel_tank_volume  0.006768\n",
              "12                height  0.004917\n",
              "13             wheelbase  0.001242\n",
              "14      n_franchise_make  0.000865\n",
              "15           torque_ftlb  0.000800\n",
              "16          daysonmarket  0.000743\n",
              "17            torque_rpm  0.000174\n",
              "18                n_city  0.000046\n",
              "19        savings_amount  0.000035\n",
              "20   engine_displacement  0.000007\n",
              "21               mileage -0.000014\n",
              "22             n_sp_name -0.000015\n",
              "23                 price -0.000022\n",
              "24      n_interior_color -0.000086\n",
              "25                  year -0.000765\n",
              "26          n_model_name -0.001095\n",
              "27            horsepower -0.001329\n",
              "28  highway_fuel_economy -0.001617\n",
              "29         front_legroom -0.008140\n",
              "30     city_fuel_economy -0.010230\n",
              "31             longitude -0.011476\n",
              "32       n_listing_color -0.021787\n",
              "33           n_make_name -0.023994\n",
              "34         has_accidents -0.030456\n",
              "35              latitude -0.042902\n",
              "36         n_engine_type -0.047054\n",
              "37      engine_cylinders -0.071787\n",
              "38        n_wheel_system -0.121313\n",
              "39         seller_rating -0.123804\n",
              "40           n_body_type -0.171281\n",
              "41      franchise_dealer -0.564076\n",
              "42                is_cpo -0.738227\n",
              "43          torque_grade -0.888385\n",
              "44               salvage -1.484617\n",
              "45                is_new -4.921472"
            ]
          },
          "metadata": {
            "tags": []
          }
        },
        {
          "output_type": "display_data",
          "data": {
            "text/html": [
              "<div>\n",
              "<style scoped>\n",
              "    .dataframe tbody tr th:only-of-type {\n",
              "        vertical-align: middle;\n",
              "    }\n",
              "\n",
              "    .dataframe tbody tr th {\n",
              "        vertical-align: top;\n",
              "    }\n",
              "\n",
              "    .dataframe thead th {\n",
              "        text-align: right;\n",
              "    }\n",
              "</style>\n",
              "<table border=\"1\" class=\"dataframe\">\n",
              "  <thead>\n",
              "    <tr style=\"text-align: right;\">\n",
              "      <th></th>\n",
              "      <th>feature</th>\n",
              "      <th>weight</th>\n",
              "    </tr>\n",
              "  </thead>\n",
              "  <tbody>\n",
              "    <tr>\n",
              "      <th>0</th>\n",
              "      <td>is_new</td>\n",
              "      <td>-4.921472</td>\n",
              "    </tr>\n",
              "    <tr>\n",
              "      <th>1</th>\n",
              "      <td>salvage</td>\n",
              "      <td>-1.484617</td>\n",
              "    </tr>\n",
              "    <tr>\n",
              "      <th>2</th>\n",
              "      <td>torque_grade</td>\n",
              "      <td>-0.888385</td>\n",
              "    </tr>\n",
              "    <tr>\n",
              "      <th>3</th>\n",
              "      <td>is_cpo</td>\n",
              "      <td>-0.738227</td>\n",
              "    </tr>\n",
              "    <tr>\n",
              "      <th>4</th>\n",
              "      <td>franchise_dealer</td>\n",
              "      <td>-0.564076</td>\n",
              "    </tr>\n",
              "    <tr>\n",
              "      <th>5</th>\n",
              "      <td>n_body_type</td>\n",
              "      <td>-0.171281</td>\n",
              "    </tr>\n",
              "    <tr>\n",
              "      <th>6</th>\n",
              "      <td>seller_rating</td>\n",
              "      <td>-0.123804</td>\n",
              "    </tr>\n",
              "    <tr>\n",
              "      <th>7</th>\n",
              "      <td>n_wheel_system</td>\n",
              "      <td>-0.121313</td>\n",
              "    </tr>\n",
              "    <tr>\n",
              "      <th>8</th>\n",
              "      <td>engine_cylinders</td>\n",
              "      <td>-0.071787</td>\n",
              "    </tr>\n",
              "    <tr>\n",
              "      <th>9</th>\n",
              "      <td>n_engine_type</td>\n",
              "      <td>-0.047054</td>\n",
              "    </tr>\n",
              "    <tr>\n",
              "      <th>10</th>\n",
              "      <td>latitude</td>\n",
              "      <td>-0.042902</td>\n",
              "    </tr>\n",
              "    <tr>\n",
              "      <th>11</th>\n",
              "      <td>has_accidents</td>\n",
              "      <td>-0.030456</td>\n",
              "    </tr>\n",
              "    <tr>\n",
              "      <th>12</th>\n",
              "      <td>n_make_name</td>\n",
              "      <td>-0.023994</td>\n",
              "    </tr>\n",
              "    <tr>\n",
              "      <th>13</th>\n",
              "      <td>n_listing_color</td>\n",
              "      <td>-0.021787</td>\n",
              "    </tr>\n",
              "    <tr>\n",
              "      <th>14</th>\n",
              "      <td>longitude</td>\n",
              "      <td>-0.011476</td>\n",
              "    </tr>\n",
              "    <tr>\n",
              "      <th>15</th>\n",
              "      <td>city_fuel_economy</td>\n",
              "      <td>-0.010230</td>\n",
              "    </tr>\n",
              "    <tr>\n",
              "      <th>16</th>\n",
              "      <td>front_legroom</td>\n",
              "      <td>-0.008140</td>\n",
              "    </tr>\n",
              "    <tr>\n",
              "      <th>17</th>\n",
              "      <td>highway_fuel_economy</td>\n",
              "      <td>-0.001617</td>\n",
              "    </tr>\n",
              "    <tr>\n",
              "      <th>18</th>\n",
              "      <td>horsepower</td>\n",
              "      <td>-0.001329</td>\n",
              "    </tr>\n",
              "    <tr>\n",
              "      <th>19</th>\n",
              "      <td>n_model_name</td>\n",
              "      <td>-0.001095</td>\n",
              "    </tr>\n",
              "    <tr>\n",
              "      <th>20</th>\n",
              "      <td>year</td>\n",
              "      <td>-0.000765</td>\n",
              "    </tr>\n",
              "    <tr>\n",
              "      <th>21</th>\n",
              "      <td>n_interior_color</td>\n",
              "      <td>-0.000086</td>\n",
              "    </tr>\n",
              "    <tr>\n",
              "      <th>22</th>\n",
              "      <td>price</td>\n",
              "      <td>-0.000022</td>\n",
              "    </tr>\n",
              "    <tr>\n",
              "      <th>23</th>\n",
              "      <td>n_sp_name</td>\n",
              "      <td>-0.000015</td>\n",
              "    </tr>\n",
              "    <tr>\n",
              "      <th>24</th>\n",
              "      <td>mileage</td>\n",
              "      <td>-0.000014</td>\n",
              "    </tr>\n",
              "    <tr>\n",
              "      <th>25</th>\n",
              "      <td>engine_displacement</td>\n",
              "      <td>0.000007</td>\n",
              "    </tr>\n",
              "    <tr>\n",
              "      <th>26</th>\n",
              "      <td>savings_amount</td>\n",
              "      <td>0.000035</td>\n",
              "    </tr>\n",
              "    <tr>\n",
              "      <th>27</th>\n",
              "      <td>n_city</td>\n",
              "      <td>0.000046</td>\n",
              "    </tr>\n",
              "    <tr>\n",
              "      <th>28</th>\n",
              "      <td>torque_rpm</td>\n",
              "      <td>0.000174</td>\n",
              "    </tr>\n",
              "    <tr>\n",
              "      <th>29</th>\n",
              "      <td>daysonmarket</td>\n",
              "      <td>0.000743</td>\n",
              "    </tr>\n",
              "    <tr>\n",
              "      <th>30</th>\n",
              "      <td>torque_ftlb</td>\n",
              "      <td>0.000800</td>\n",
              "    </tr>\n",
              "    <tr>\n",
              "      <th>31</th>\n",
              "      <td>n_franchise_make</td>\n",
              "      <td>0.000865</td>\n",
              "    </tr>\n",
              "    <tr>\n",
              "      <th>32</th>\n",
              "      <td>wheelbase</td>\n",
              "      <td>0.001242</td>\n",
              "    </tr>\n",
              "    <tr>\n",
              "      <th>33</th>\n",
              "      <td>height</td>\n",
              "      <td>0.004917</td>\n",
              "    </tr>\n",
              "    <tr>\n",
              "      <th>34</th>\n",
              "      <td>fuel_tank_volume</td>\n",
              "      <td>0.006768</td>\n",
              "    </tr>\n",
              "    <tr>\n",
              "      <th>35</th>\n",
              "      <td>length</td>\n",
              "      <td>0.010261</td>\n",
              "    </tr>\n",
              "    <tr>\n",
              "      <th>36</th>\n",
              "      <td>width</td>\n",
              "      <td>0.012666</td>\n",
              "    </tr>\n",
              "    <tr>\n",
              "      <th>37</th>\n",
              "      <td>back_legroom</td>\n",
              "      <td>0.013993</td>\n",
              "    </tr>\n",
              "    <tr>\n",
              "      <th>38</th>\n",
              "      <td>n_fuel_type</td>\n",
              "      <td>0.044396</td>\n",
              "    </tr>\n",
              "    <tr>\n",
              "      <th>39</th>\n",
              "      <td>n_transmission</td>\n",
              "      <td>0.060211</td>\n",
              "    </tr>\n",
              "    <tr>\n",
              "      <th>40</th>\n",
              "      <td>transmission_display</td>\n",
              "      <td>0.113250</td>\n",
              "    </tr>\n",
              "    <tr>\n",
              "      <th>41</th>\n",
              "      <td>theft_title</td>\n",
              "      <td>0.212801</td>\n",
              "    </tr>\n",
              "    <tr>\n",
              "      <th>42</th>\n",
              "      <td>maximum_seating</td>\n",
              "      <td>0.227215</td>\n",
              "    </tr>\n",
              "    <tr>\n",
              "      <th>43</th>\n",
              "      <td>frame_damaged</td>\n",
              "      <td>0.261476</td>\n",
              "    </tr>\n",
              "    <tr>\n",
              "      <th>44</th>\n",
              "      <td>is_oemcpo</td>\n",
              "      <td>0.367949</td>\n",
              "    </tr>\n",
              "    <tr>\n",
              "      <th>45</th>\n",
              "      <td>owner_count</td>\n",
              "      <td>0.474675</td>\n",
              "    </tr>\n",
              "  </tbody>\n",
              "</table>\n",
              "</div>"
            ],
            "text/plain": [
              "                 feature    weight\n",
              "0                 is_new -4.921472\n",
              "1                salvage -1.484617\n",
              "2           torque_grade -0.888385\n",
              "3                 is_cpo -0.738227\n",
              "4       franchise_dealer -0.564076\n",
              "5            n_body_type -0.171281\n",
              "6          seller_rating -0.123804\n",
              "7         n_wheel_system -0.121313\n",
              "8       engine_cylinders -0.071787\n",
              "9          n_engine_type -0.047054\n",
              "10              latitude -0.042902\n",
              "11         has_accidents -0.030456\n",
              "12           n_make_name -0.023994\n",
              "13       n_listing_color -0.021787\n",
              "14             longitude -0.011476\n",
              "15     city_fuel_economy -0.010230\n",
              "16         front_legroom -0.008140\n",
              "17  highway_fuel_economy -0.001617\n",
              "18            horsepower -0.001329\n",
              "19          n_model_name -0.001095\n",
              "20                  year -0.000765\n",
              "21      n_interior_color -0.000086\n",
              "22                 price -0.000022\n",
              "23             n_sp_name -0.000015\n",
              "24               mileage -0.000014\n",
              "25   engine_displacement  0.000007\n",
              "26        savings_amount  0.000035\n",
              "27                n_city  0.000046\n",
              "28            torque_rpm  0.000174\n",
              "29          daysonmarket  0.000743\n",
              "30           torque_ftlb  0.000800\n",
              "31      n_franchise_make  0.000865\n",
              "32             wheelbase  0.001242\n",
              "33                height  0.004917\n",
              "34      fuel_tank_volume  0.006768\n",
              "35                length  0.010261\n",
              "36                 width  0.012666\n",
              "37          back_legroom  0.013993\n",
              "38           n_fuel_type  0.044396\n",
              "39        n_transmission  0.060211\n",
              "40  transmission_display  0.113250\n",
              "41           theft_title  0.212801\n",
              "42       maximum_seating  0.227215\n",
              "43         frame_damaged  0.261476\n",
              "44             is_oemcpo  0.367949\n",
              "45           owner_count  0.474675"
            ]
          },
          "metadata": {
            "tags": []
          }
        }
      ]
    },
    {
      "cell_type": "markdown",
      "metadata": {
        "id": "dtRL1GNr62mp"
      },
      "source": [
        "# Random Forest Analysis"
      ]
    },
    {
      "cell_type": "markdown",
      "metadata": {
        "id": "gRLi8A9f2IkU"
      },
      "source": [
        "Examine tranformed trainign dataset to see features with high number of categories.  Random forest models on colab see to suffer from java errors if maxbin size is set too high (maxbin size must be equal to the highest number of categroies in any feature)"
      ]
    },
    {
      "cell_type": "code",
      "metadata": {
        "id": "yRhsyt6C5kKU",
        "colab": {
          "base_uri": "https://localhost:8080/"
        },
        "outputId": "7d620698-6fe4-404f-e075-8266556bb80a"
      },
      "source": [
        "logreg_sampled_df.describe().show()"
      ],
      "execution_count": null,
      "outputs": [
        {
          "output_type": "stream",
          "text": [
            "+-------+-----------------+-----+-----------------+-----------+-----------+--------+-----------------+------------------+-----------------+-----------------+-------------------+-----------+-------------------+--------------------+-------------------+--------------+-----------------+------------------+---------+-------------------+-----------------+--------------------+------------------+-----------------+------------------+-------------------+-------------------+--------------------+-----------------+-----------------+-------------+------------------+-------------+---------+------------------+------------------+------------------+-----------------+------------------+--------------------+-----------------+-----------------+------------------+--------------------+--------------------+------------+--------------------+------------+------------------+------------------+------------------+------------------+------------------+-------------------+-----------------+------------------+------------------+------------------+-------------------+------------------+-----------------+-------------------+-------------------+-----------------+------------------+\n",
            "|summary|     back_legroom|  bed|       bed_length|  body_type|      cabin|    city|city_fuel_economy|      daysonmarket|       dealer_zip| engine_cylinders|engine_displacement|engine_type|              fleet|       frame_damaged|   franchise_dealer|franchise_make|    front_legroom|  fuel_tank_volume|fuel_type|      has_accidents|           height|highway_fuel_economy|        horsepower|   interior_color|             isCab|             is_cpo|             is_new|           is_oemcpo|         latitude|           length|listing_color|         longitude|major_options|make_name|   maximum_seating|           mileage|        model_name|      owner_count|             price|             salvage|   savings_amount|    seller_rating|             sp_id|             sp_name|         theft_title|transmission|transmission_display|wheel_system|         wheelbase|             width|              year|       torque_ftlb|        torque_rpm|       torque_grade|        sp_name_x|  interior_color_x|   listing_color_x|    wheel_system_x|        fuel_type_x|       body_type_x|           city_x|      engine_type_x|     transmission_x|      make_name_x|      model_name_x|\n",
            "+-------+-----------------+-----+-----------------+-----------+-----------+--------+-----------------+------------------+-----------------+-----------------+-------------------+-----------+-------------------+--------------------+-------------------+--------------+-----------------+------------------+---------+-------------------+-----------------+--------------------+------------------+-----------------+------------------+-------------------+-------------------+--------------------+-----------------+-----------------+-------------+------------------+-------------+---------+------------------+------------------+------------------+-----------------+------------------+--------------------+-----------------+-----------------+------------------+--------------------+--------------------+------------+--------------------+------------+------------------+------------------+------------------+------------------+------------------+-------------------+-----------------+------------------+------------------+------------------+-------------------+------------------+-----------------+-------------------+-------------------+-----------------+------------------+\n",
            "|  count|           599998| 3872|            83882|     599998|      12689|  599998|           599998|            599998|           599998|           599998|             599998|     599998|             599998|              599998|             599998|        486290|           599998|            599998|   599998|             599998|           599998|              599998|            599998|           599998|            599998|             599998|             599998|              599998|           599998|           599998|       599998|            599998|       599998|   599998|            599998|            599998|            599998|           599998|            599998|              599998|           599998|           599998|            599976|              599998|              599998|      599998|              599998|      599998|            599998|            599998|            599998|            599998|            599998|             599998|           599998|            599998|            599998|            599998|             599998|            599998|           599998|             599998|             599998|           599998|            599998|\n",
            "|   mean|34.89984083350977| null|72.32459353547942|       null|       null|    null| 22.7077597171143| 76.10546201820672|50683.76169268003|5.087281957606526| 2938.2509608365363|       null|0.11191037303457678|0.004968349894499648| 0.8117410391367971|          null|35.41249248710385|18.596716766600426|     null|0.08038026793422645|65.85699181570386|   29.49218137946314|247.53597345324485|20302.30188679245|0.0958419861399538|0.06084686948956496| 0.4913966379887933|0.045103483678278926|36.98208850532671|193.6605432401078|         null|-90.63666363585857|         null|     null| 5.449401498004994|29859.074530248436|1597.8020671361933|1.261235870786236|29943.769228959765|0.003473344911149704|552.0181517271724| 4.27172862911143|233140.04218668747|                null|0.001758339194463...|        null|   6.335454451514838|        null| 115.3023222826382| 78.36534147994458|2017.7420024733415|263.80525435084786|3590.7677542258475|0.10021348603638598|5485.087118623729| 366.7302791009303| 2.503266677555592| 0.761914206380688|0.20808236027453425|1.1371354571181904|624.7889909633033|0.44992816642722144|0.18559561865206217|7.008466694888983| 81.16458888196294|\n",
            "| stddev|10.77979093706776| null|9.380614532700573|       null|       null|    null|8.084578395254299|108.86033738540897|27346.82368176883|1.456084070205977| 1313.8654484957558|       null| 0.3152564148224995|  0.0703112624926405|0.39091914664679406|          null|14.43145528224599|5.3074828366852005|     null|0.27188123079842275|7.351382991909871|  7.1297055027031595|  87.8682029283275| 48058.7743531833|0.2943746664721528|0.23904941582074812|0.49992639328954264| 0.20753127769243238|5.001275563752286|  19.685574516569|         null|13.892705208811028|         null|     null|1.1472019063025878| 44408.06329091042| 765.6960222014467|0.695952682093045|19395.843179159514| 0.05883269970949871|1104.484068311596|0.508399459004794|132333.62215725135|                null| 0.04189570817122222|        null|  0.9921335298415636|        null|14.120103715951224|7.4584598054931694| 4.184484243128306| 108.8388025262585| 1155.001884779349|0.11122387929196623| 5103.72425421329|1624.7576792151071|2.1934993091821906|0.8034904511840856|   0.71959442147467|1.6333969518611944|755.9811148110103| 0.5446406794153098| 0.4283032006741981|7.460677803695168|108.73246794773323|\n",
            "|    min|              0.0| Long|             41.5|Convertible|   Crew Cab| hayward|              8.0|                 0|       08816-4351|                2|                700|          H|                  0|                   0|                  0|         Acura|              4.0|               1.9|Biodiesel|                  0|             43.5|                10.0|                67|                 |                 0|                  0|                  0|                   0|          18.3988|            106.1|        black|          -157.913|             |    acura|                 2|                 0|          1 series|                1|             165.0|                   0|                0|              1.0|            100004|\t dijie auto sale...|                   0|           A|                   1|         AWD|              73.5|              42.5|              1923|                68|               200|        0.015111111|              0.0|               0.0|               0.0|               0.0|                0.0|               0.0|              0.0|                0.0|                0.0|              0.0|               0.0|\n",
            "|    max|             47.5|Short|             98.6|      Wagon|Regular Cab|zumbrota|            127.0|              2979|            99403|               12|               8400|          W|                  1|                   1|                  1|         smart|             67.0|              63.5|  Propane|                  1|            117.6|               127.0|               808|              zj/|                 1|                  1|                  1|                   1|          48.9237|            290.0|       yellow|          -66.0785|  Z71 Package|   willys|                15|           1225238|            zephyr|               16|         2000000.0|                   1|           147414|              5.0|             99978|   zwains auto sales|                   1|           M|                  10|         RWD|             201.0|             109.0|              2021|               935|              7500|                1.0|          24606.0|           16298.0|              14.0|               2.0|                7.0|               8.0|           4481.0|                4.0|                2.0|             79.0|            1178.0|\n",
            "+-------+-----------------+-----+-----------------+-----------+-----------+--------+-----------------+------------------+-----------------+-----------------+-------------------+-----------+-------------------+--------------------+-------------------+--------------+-----------------+------------------+---------+-------------------+-----------------+--------------------+------------------+-----------------+------------------+-------------------+-------------------+--------------------+-----------------+-----------------+-------------+------------------+-------------+---------+------------------+------------------+------------------+-----------------+------------------+--------------------+-----------------+-----------------+------------------+--------------------+--------------------+------------+--------------------+------------+------------------+------------------+------------------+------------------+------------------+-------------------+-----------------+------------------+------------------+------------------+-------------------+------------------+-----------------+-------------------+-------------------+-----------------+------------------+\n",
            "\n"
          ],
          "name": "stdout"
        }
      ]
    },
    {
      "cell_type": "markdown",
      "metadata": {
        "id": "Mi5NgdWG0LEO"
      },
      "source": [
        "Attempted to build a Random forest model to see if it could perform better than the logistic regression.  There were issues try to run the random forest model with all the features used in the previous model as the maxbin size needed to set to the highest number categories in any feature.  The SP name and Interior color columns were dropped so the maxbin size could be set at 4482 instead of 24607 or 16298."
      ]
    },
    {
      "cell_type": "code",
      "metadata": {
        "id": "QczqnBl7LHmS",
        "colab": {
          "base_uri": "https://localhost:8080/"
        },
        "outputId": "639f0b02-ea45-4b8e-abee-929f9e6837b2"
      },
      "source": [
        "rf_feature_cols = ['back_legroom','city_fuel_economy','daysonmarket','engine_cylinders','engine_displacement','frame_damaged','franchise_dealer','front_legroom',\n",
        "                'fuel_tank_volume','has_accidents','height','highway_fuel_economy','horsepower','is_cpo','is_new','is_oemcpo','latitude','length',\n",
        "                'longitude','maximum_seating','mileage','owner_count','price','salvage','savings_amount','seller_rating','theft_title','transmission_display',\n",
        "                'wheelbase','width','year','torque_ftlb','torque_rpm','torque_grade','n_body_type','n_engine_type','n_fuel_type','n_transmission','n_wheel_system',\n",
        "                'n_city','n_make_name','n_franchise_make','n_model_name','n_listing_color']\n",
        "\n",
        "if enable_grid:\n",
        "  rf_va = feature.VectorAssembler(inputCols=rf_feature_cols, outputCol='features')\n",
        "\n",
        "  rf = RandomForestClassifier(featuresCol='features', labelCol='fleet', maxBins=4482)\n",
        "  \n",
        "  paramGrid = ParamGridBuilder().\\\n",
        "  addGrid(rf.numTrees, [20,30,40]).\\\n",
        "  addGrid(rf.maxDepth, [3,5,7]).\\\n",
        "  build()\n",
        "\n",
        "  \n",
        "\n",
        "  rf_pipe = Pipeline(stages = [rf_va,rf])\n",
        "\n",
        "  all_models = []\n",
        "  for j in range(len(paramGrid)):\n",
        "    print(\"Fitting model {}\".format(j+1))\n",
        "    model = rf_pipe.fit(training_df, paramGrid[j])\n",
        "    all_models.append(model)\n",
        "      \n",
        "  scores =[]\n",
        "  print('Model fitting complete -> Evaluating Scores')\n",
        "  for m in all_models:\n",
        "    score_rf_pipe_1 = BinaryClassificationEvaluator(labelCol='fleet',metricName = 'areaUnderPR').evaluate(m.transform(validation_df))\n",
        "    scores.append(score_rf_pipe_1)\n",
        "        \n",
        "  print(max(scores), '\\n', paramGrid[scores.index(max(scores))])\n",
        "  pass\n"
      ],
      "execution_count": 11,
      "outputs": [
        {
          "output_type": "stream",
          "text": [
            "Fitting model 1\n",
            "Fitting model 2\n",
            "Fitting model 3\n",
            "Fitting model 4\n",
            "Fitting model 5\n",
            "Fitting model 6\n",
            "Fitting model 7\n",
            "Fitting model 8\n",
            "Fitting model 9\n",
            "Model fitting complete -> Evaluating Scores\n",
            "0.7247336129778318 \n",
            " {Param(parent='RandomForestClassifier_104144ceefa9', name='numTrees', doc='Number of trees to train (>= 1).'): 40, Param(parent='RandomForestClassifier_104144ceefa9', name='maxDepth', doc='Maximum depth of the tree. (>= 0) E.g., depth 0 means 1 leaf node; depth 1 means 1 internal node + 2 leaf nodes.'): 7}\n"
          ],
          "name": "stdout"
        }
      ]
    },
    {
      "cell_type": "code",
      "metadata": {
        "id": "qnpsdT0-Dl1i",
        "colab": {
          "base_uri": "https://localhost:8080/"
        },
        "outputId": "7c0432b9-d1ef-49c0-d1e4-10fec072e0e3"
      },
      "source": [
        "#Random Forest\n",
        "#maxdepth = 5\n",
        "#numtrees = 20\n",
        "maxdepth = 7\n",
        "numtrees = 40\n",
        "\n",
        "#Second preprocessing step to create feature vector and scale so feature coeffcients can be compared for importance\n",
        "rf_va = feature.VectorAssembler(inputCols=rf_feature_cols, outputCol='features')\n",
        "\n",
        "rf = RandomForestClassifier(featuresCol='features', labelCol='fleet', maxBins=4482, numTrees = numtrees, maxDepth = maxdepth)\n",
        "\n",
        "rf_pipe = Pipeline(stages = [rf_va,rf]).fit(training_df)\n",
        "\n",
        "trans = rf_pipe.transform(validation_df)\n",
        "score_rf_roc = BinaryClassificationEvaluator(labelCol='fleet',metricName = 'areaUnderROC').evaluate(trans)\n",
        "score_rf_pr = BinaryClassificationEvaluator(labelCol='fleet',metricName = 'areaUnderPR').evaluate(trans)\n",
        "print('AUC ROC: ',score_rf_roc)\n",
        "print('AUC PR: ',score_rf_pr)\n",
        "\n"
      ],
      "execution_count": 19,
      "outputs": [
        {
          "output_type": "stream",
          "text": [
            "AUC ROC:  0.943102859008166\n",
            "AUC PR:  0.7247402927482823\n"
          ],
          "name": "stdout"
        }
      ]
    },
    {
      "cell_type": "code",
      "metadata": {
        "id": "W8w5o-6fFgsT",
        "colab": {
          "base_uri": "https://localhost:8080/",
          "height": 1000
        },
        "outputId": "8cded041-cecb-4a22-d7c0-888c5719a88e"
      },
      "source": [
        "pd.DataFrame(list(zip(rf_feature_cols, rf_pipe.stages[-1].featureImportances.toArray())),\n",
        "            columns = ['column', 'weight']).sort_values('weight', ascending=False)"
      ],
      "execution_count": 72,
      "outputs": [
        {
          "output_type": "execute_result",
          "data": {
            "text/html": [
              "<div>\n",
              "<style scoped>\n",
              "    .dataframe tbody tr th:only-of-type {\n",
              "        vertical-align: middle;\n",
              "    }\n",
              "\n",
              "    .dataframe tbody tr th {\n",
              "        vertical-align: top;\n",
              "    }\n",
              "\n",
              "    .dataframe thead th {\n",
              "        text-align: right;\n",
              "    }\n",
              "</style>\n",
              "<table border=\"1\" class=\"dataframe\">\n",
              "  <thead>\n",
              "    <tr style=\"text-align: right;\">\n",
              "      <th></th>\n",
              "      <th>column</th>\n",
              "      <th>weight</th>\n",
              "    </tr>\n",
              "  </thead>\n",
              "  <tbody>\n",
              "    <tr>\n",
              "      <th>30</th>\n",
              "      <td>year</td>\n",
              "      <td>0.289706</td>\n",
              "    </tr>\n",
              "    <tr>\n",
              "      <th>14</th>\n",
              "      <td>is_new</td>\n",
              "      <td>0.148825</td>\n",
              "    </tr>\n",
              "    <tr>\n",
              "      <th>20</th>\n",
              "      <td>mileage</td>\n",
              "      <td>0.128787</td>\n",
              "    </tr>\n",
              "    <tr>\n",
              "      <th>24</th>\n",
              "      <td>savings_amount</td>\n",
              "      <td>0.083089</td>\n",
              "    </tr>\n",
              "    <tr>\n",
              "      <th>6</th>\n",
              "      <td>franchise_dealer</td>\n",
              "      <td>0.058812</td>\n",
              "    </tr>\n",
              "    <tr>\n",
              "      <th>21</th>\n",
              "      <td>owner_count</td>\n",
              "      <td>0.035265</td>\n",
              "    </tr>\n",
              "    <tr>\n",
              "      <th>22</th>\n",
              "      <td>price</td>\n",
              "      <td>0.032793</td>\n",
              "    </tr>\n",
              "    <tr>\n",
              "      <th>40</th>\n",
              "      <td>n_make_name</td>\n",
              "      <td>0.024676</td>\n",
              "    </tr>\n",
              "    <tr>\n",
              "      <th>41</th>\n",
              "      <td>n_franchise_make</td>\n",
              "      <td>0.024624</td>\n",
              "    </tr>\n",
              "    <tr>\n",
              "      <th>17</th>\n",
              "      <td>length</td>\n",
              "      <td>0.014256</td>\n",
              "    </tr>\n",
              "    <tr>\n",
              "      <th>16</th>\n",
              "      <td>latitude</td>\n",
              "      <td>0.013725</td>\n",
              "    </tr>\n",
              "    <tr>\n",
              "      <th>33</th>\n",
              "      <td>torque_grade</td>\n",
              "      <td>0.013652</td>\n",
              "    </tr>\n",
              "    <tr>\n",
              "      <th>28</th>\n",
              "      <td>wheelbase</td>\n",
              "      <td>0.012531</td>\n",
              "    </tr>\n",
              "    <tr>\n",
              "      <th>32</th>\n",
              "      <td>torque_rpm</td>\n",
              "      <td>0.011133</td>\n",
              "    </tr>\n",
              "    <tr>\n",
              "      <th>34</th>\n",
              "      <td>n_body_type</td>\n",
              "      <td>0.011057</td>\n",
              "    </tr>\n",
              "    <tr>\n",
              "      <th>31</th>\n",
              "      <td>torque_ftlb</td>\n",
              "      <td>0.010244</td>\n",
              "    </tr>\n",
              "    <tr>\n",
              "      <th>42</th>\n",
              "      <td>n_model_name</td>\n",
              "      <td>0.010071</td>\n",
              "    </tr>\n",
              "    <tr>\n",
              "      <th>10</th>\n",
              "      <td>height</td>\n",
              "      <td>0.009205</td>\n",
              "    </tr>\n",
              "    <tr>\n",
              "      <th>0</th>\n",
              "      <td>back_legroom</td>\n",
              "      <td>0.008401</td>\n",
              "    </tr>\n",
              "    <tr>\n",
              "      <th>12</th>\n",
              "      <td>horsepower</td>\n",
              "      <td>0.008210</td>\n",
              "    </tr>\n",
              "    <tr>\n",
              "      <th>38</th>\n",
              "      <td>n_wheel_system</td>\n",
              "      <td>0.007188</td>\n",
              "    </tr>\n",
              "    <tr>\n",
              "      <th>19</th>\n",
              "      <td>maximum_seating</td>\n",
              "      <td>0.005567</td>\n",
              "    </tr>\n",
              "    <tr>\n",
              "      <th>29</th>\n",
              "      <td>width</td>\n",
              "      <td>0.004657</td>\n",
              "    </tr>\n",
              "    <tr>\n",
              "      <th>1</th>\n",
              "      <td>city_fuel_economy</td>\n",
              "      <td>0.004635</td>\n",
              "    </tr>\n",
              "    <tr>\n",
              "      <th>7</th>\n",
              "      <td>front_legroom</td>\n",
              "      <td>0.004548</td>\n",
              "    </tr>\n",
              "    <tr>\n",
              "      <th>2</th>\n",
              "      <td>daysonmarket</td>\n",
              "      <td>0.003512</td>\n",
              "    </tr>\n",
              "    <tr>\n",
              "      <th>36</th>\n",
              "      <td>n_fuel_type</td>\n",
              "      <td>0.002730</td>\n",
              "    </tr>\n",
              "    <tr>\n",
              "      <th>11</th>\n",
              "      <td>highway_fuel_economy</td>\n",
              "      <td>0.002625</td>\n",
              "    </tr>\n",
              "    <tr>\n",
              "      <th>18</th>\n",
              "      <td>longitude</td>\n",
              "      <td>0.002610</td>\n",
              "    </tr>\n",
              "    <tr>\n",
              "      <th>8</th>\n",
              "      <td>fuel_tank_volume</td>\n",
              "      <td>0.002368</td>\n",
              "    </tr>\n",
              "    <tr>\n",
              "      <th>5</th>\n",
              "      <td>frame_damaged</td>\n",
              "      <td>0.002133</td>\n",
              "    </tr>\n",
              "    <tr>\n",
              "      <th>4</th>\n",
              "      <td>engine_displacement</td>\n",
              "      <td>0.001535</td>\n",
              "    </tr>\n",
              "    <tr>\n",
              "      <th>13</th>\n",
              "      <td>is_cpo</td>\n",
              "      <td>0.001297</td>\n",
              "    </tr>\n",
              "    <tr>\n",
              "      <th>9</th>\n",
              "      <td>has_accidents</td>\n",
              "      <td>0.001273</td>\n",
              "    </tr>\n",
              "    <tr>\n",
              "      <th>3</th>\n",
              "      <td>engine_cylinders</td>\n",
              "      <td>0.001076</td>\n",
              "    </tr>\n",
              "    <tr>\n",
              "      <th>15</th>\n",
              "      <td>is_oemcpo</td>\n",
              "      <td>0.001021</td>\n",
              "    </tr>\n",
              "    <tr>\n",
              "      <th>39</th>\n",
              "      <td>n_city</td>\n",
              "      <td>0.000614</td>\n",
              "    </tr>\n",
              "    <tr>\n",
              "      <th>35</th>\n",
              "      <td>n_engine_type</td>\n",
              "      <td>0.000500</td>\n",
              "    </tr>\n",
              "    <tr>\n",
              "      <th>23</th>\n",
              "      <td>salvage</td>\n",
              "      <td>0.000310</td>\n",
              "    </tr>\n",
              "    <tr>\n",
              "      <th>25</th>\n",
              "      <td>seller_rating</td>\n",
              "      <td>0.000299</td>\n",
              "    </tr>\n",
              "    <tr>\n",
              "      <th>37</th>\n",
              "      <td>n_transmission</td>\n",
              "      <td>0.000260</td>\n",
              "    </tr>\n",
              "    <tr>\n",
              "      <th>43</th>\n",
              "      <td>n_listing_color</td>\n",
              "      <td>0.000110</td>\n",
              "    </tr>\n",
              "    <tr>\n",
              "      <th>27</th>\n",
              "      <td>transmission_display</td>\n",
              "      <td>0.000049</td>\n",
              "    </tr>\n",
              "    <tr>\n",
              "      <th>26</th>\n",
              "      <td>theft_title</td>\n",
              "      <td>0.000024</td>\n",
              "    </tr>\n",
              "  </tbody>\n",
              "</table>\n",
              "</div>"
            ],
            "text/plain": [
              "                  column    weight\n",
              "30                  year  0.289706\n",
              "14                is_new  0.148825\n",
              "20               mileage  0.128787\n",
              "24        savings_amount  0.083089\n",
              "6       franchise_dealer  0.058812\n",
              "21           owner_count  0.035265\n",
              "22                 price  0.032793\n",
              "40           n_make_name  0.024676\n",
              "41      n_franchise_make  0.024624\n",
              "17                length  0.014256\n",
              "16              latitude  0.013725\n",
              "33          torque_grade  0.013652\n",
              "28             wheelbase  0.012531\n",
              "32            torque_rpm  0.011133\n",
              "34           n_body_type  0.011057\n",
              "31           torque_ftlb  0.010244\n",
              "42          n_model_name  0.010071\n",
              "10                height  0.009205\n",
              "0           back_legroom  0.008401\n",
              "12            horsepower  0.008210\n",
              "38        n_wheel_system  0.007188\n",
              "19       maximum_seating  0.005567\n",
              "29                 width  0.004657\n",
              "1      city_fuel_economy  0.004635\n",
              "7          front_legroom  0.004548\n",
              "2           daysonmarket  0.003512\n",
              "36           n_fuel_type  0.002730\n",
              "11  highway_fuel_economy  0.002625\n",
              "18             longitude  0.002610\n",
              "8       fuel_tank_volume  0.002368\n",
              "5          frame_damaged  0.002133\n",
              "4    engine_displacement  0.001535\n",
              "13                is_cpo  0.001297\n",
              "9          has_accidents  0.001273\n",
              "3       engine_cylinders  0.001076\n",
              "15             is_oemcpo  0.001021\n",
              "39                n_city  0.000614\n",
              "35         n_engine_type  0.000500\n",
              "23               salvage  0.000310\n",
              "25         seller_rating  0.000299\n",
              "37        n_transmission  0.000260\n",
              "43       n_listing_color  0.000110\n",
              "27  transmission_display  0.000049\n",
              "26           theft_title  0.000024"
            ]
          },
          "metadata": {
            "tags": []
          },
          "execution_count": 72
        }
      ]
    },
    {
      "cell_type": "markdown",
      "metadata": {
        "id": "jTEnh5Zk6-ZP"
      },
      "source": [
        "# Regression Comparison"
      ]
    },
    {
      "cell_type": "code",
      "metadata": {
        "id": "ojlo8odjjzn-"
      },
      "source": [
        "rf_preds = rf_pipe.transform(testing_df)\n",
        "lr_preds = opt_lr.transform(testing_df)"
      ],
      "execution_count": 20,
      "outputs": []
    },
    {
      "cell_type": "code",
      "metadata": {
        "id": "kp5Cz4tBGh12",
        "colab": {
          "base_uri": "https://localhost:8080/"
        },
        "outputId": "e47fec58-5fe6-4693-8234-47c35b8a2b44"
      },
      "source": [
        "comp_score_rf_roc = BinaryClassificationEvaluator(labelCol='fleet',metricName = 'areaUnderROC').evaluate(rf_preds)\n",
        "comp_score_rf_pr = BinaryClassificationEvaluator(labelCol='fleet',metricName = 'areaUnderPR').evaluate(rf_preds)\n",
        "\n",
        "comp_score_lr_roc = BinaryClassificationEvaluator(labelCol='fleet',metricName = 'areaUnderROC').evaluate(lr_preds)\n",
        "comp_score_lr_pr = BinaryClassificationEvaluator(labelCol='fleet',metricName = 'areaUnderPR').evaluate(lr_preds)\n",
        "\n",
        "\n",
        "print('Random Forest AUC ROC Score:',comp_score_rf_roc,\n",
        "      \"\\nRandom Forest AUC PR Score:\",comp_score_rf_pr,\n",
        "      \"\\n\",\n",
        "      \"\\nLinear Regression AUC ROC Score:\",comp_score_lr_roc,\n",
        "      \"\\nLinear Regression AUC PR Score:\",comp_score_lr_pr)\n",
        "\n"
      ],
      "execution_count": 27,
      "outputs": [
        {
          "output_type": "stream",
          "text": [
            "Random Forest AUC ROC Score: 0.9433428798393357 \n",
            "Random Forest AUC PR Score: 0.7231588398876131 \n",
            " \n",
            "Linear Regression AUC ROC Score: 0.8720411915230608 \n",
            "Linear Regression AUC PR Score: 0.39687684398282047\n"
          ],
          "name": "stdout"
        }
      ]
    },
    {
      "cell_type": "markdown",
      "metadata": {
        "id": "h62xeTbJJO18"
      },
      "source": [
        "https://stackoverflow.com/questions/52847408/pyspark-extract-roc-curve"
      ]
    },
    {
      "cell_type": "code",
      "metadata": {
        "colab": {
          "base_uri": "https://localhost:8080/",
          "height": 295
        },
        "id": "5GeBES8-m6o9",
        "outputId": "59803069-1506-452c-dff8-ba15cbae25aa"
      },
      "source": [
        "points_rf_rdd_pr = CurveMetrics(preds_rf_rdd).get_curve('pr')\n",
        "points_lr_rdd_pr = CurveMetrics(preds_lr_rdd).get_curve('pr')\n",
        "\n",
        "x_val_rf = [x[0] for x in points_rf_rdd_pr]\n",
        "y_val_rf = [x[1] for x in points_rf_rdd_pr]\n",
        "plt.plot(x_val_rf, y_val_rf, label='Random Forest')\n",
        "\n",
        "x_val_lr = [x[0] for x in points_lr_rdd_pr]\n",
        "y_val_lr = [x[1] for x in points_lr_rdd_pr]\n",
        "plt.plot(x_val_lr, y_val_lr, label='Logistic Regression')\n",
        "\n",
        "no_skill = testing_df.select('fleet').filter('fleet ==1').count()/testing_df.select('fleet').count()\n",
        "plt.plot([0, 1], [no_skill, no_skill], linestyle='--', label='No Skill')\n",
        "\n",
        "plt.title('Fleet Prediction PR Curve Comparison')\n",
        "plt.legend()\n",
        "plt.xlabel('Recall')\n",
        "plt.ylabel('Precison')\n",
        "plt.show()"
      ],
      "execution_count": 25,
      "outputs": [
        {
          "output_type": "display_data",
          "data": {
            "image/png": "[encoded data removed]",
            "text/plain": [
              "<Figure size 432x288 with 1 Axes>"
            ]
          },
          "metadata": {
            "tags": [],
            "needs_background": "light"
          }
        }
      ]
    },
    {
      "cell_type": "code",
      "metadata": {
        "id": "K0b-5STBn1iw"
      },
      "source": [
        "import matplotlib.pyplot as plt\n",
        "from pyspark.mllib.evaluation import BinaryClassificationMetrics\n",
        "\n",
        "class CurveMetrics(BinaryClassificationMetrics):\n",
        "    def __init__(self, *args):\n",
        "        super(CurveMetrics, self).__init__(*args)\n",
        "\n",
        "    def _to_list(self, rdd):\n",
        "        points = []\n",
        "        # Note this collect could be inefficient for large datasets \n",
        "        # considering there may be one probability per datapoint (at most)\n",
        "        # The Scala version takes a numBins parameter, \n",
        "        # but it doesn't seem possible to pass this from Python to Java\n",
        "        for row in rdd.collect():\n",
        "            # Results are returned as type scala.Tuple2, \n",
        "            # which doesn't appear to have a py4j mapping\n",
        "            points += [(float(row._1()), float(row._2()))]\n",
        "        return points\n",
        "\n",
        "    def get_curve(self, method):\n",
        "        rdd = getattr(self._java_model, method)().toJavaRDD()\n",
        "        return self._to_list(rdd)"
      ],
      "execution_count": 21,
      "outputs": []
    },
    {
      "cell_type": "code",
      "metadata": {
        "id": "tkDCNI2tW-Q-",
        "colab": {
          "base_uri": "https://localhost:8080/",
          "height": 618
        },
        "outputId": "cf1e2601-d2d9-4298-88e6-7bd70f0533ec"
      },
      "source": [
        "preds_rf_rdd = rf_preds.select('fleet','probability').rdd.map(lambda row: (float(row['probability'][1]), float(row['fleet'])))\n",
        "points_rf_rdd = CurveMetrics(preds_rf_rdd).get_curve('roc')\n",
        "\n",
        "x_val_rf = [x[0] for x in points_rf_rdd]\n",
        "y_val_rf = [x[1] for x in points_rf_rdd]\n",
        "plt.plot(x_val_rf, y_val_rf, label='Random Forest')\n",
        "\n",
        "preds_lr_rdd = lr_preds.select('fleet','probability').rdd.map(lambda row: (float(row['probability'][1]), float(row['fleet'])))\n",
        "points_lr_rdd = CurveMetrics(preds_lr_rdd).get_curve('roc')\n",
        "\n",
        "x_val_lr = [x[0] for x in points_lr_rdd]\n",
        "y_val_lr = [x[1] for x in points_lr_rdd]\n",
        "plt.plot(x_val_lr, y_val_lr, label='Logistic Regression')\n",
        "\n",
        "plt.title('Fleet Prediction ROC Curve Comparison')\n",
        "plt.legend()\n",
        "plt.xlabel('FPR')\n",
        "plt.ylabel('TPR')\n",
        "plt.show()"
      ],
      "execution_count": 22,
      "outputs": [
        {
          "output_type": "error",
          "ename": "KeyboardInterrupt",
          "evalue": "ignored",
          "traceback": [
            "\u001b[0;31m---------------------------------------------------------------------------\u001b[0m",
            "\u001b[0;31mKeyboardInterrupt\u001b[0m                         Traceback (most recent call last)",
            "\u001b[0;32m<ipython-input-22-b84a24b2f0b7>\u001b[0m in \u001b[0;36m<module>\u001b[0;34m()\u001b[0m\n\u001b[1;32m      7\u001b[0m \u001b[0;34m\u001b[0m\u001b[0m\n\u001b[1;32m      8\u001b[0m \u001b[0mpreds_lr_rdd\u001b[0m \u001b[0;34m=\u001b[0m \u001b[0mlr_preds\u001b[0m\u001b[0;34m.\u001b[0m\u001b[0mselect\u001b[0m\u001b[0;34m(\u001b[0m\u001b[0;34m'fleet'\u001b[0m\u001b[0;34m,\u001b[0m\u001b[0;34m'probability'\u001b[0m\u001b[0;34m)\u001b[0m\u001b[0;34m.\u001b[0m\u001b[0mrdd\u001b[0m\u001b[0;34m.\u001b[0m\u001b[0mmap\u001b[0m\u001b[0;34m(\u001b[0m\u001b[0;32mlambda\u001b[0m \u001b[0mrow\u001b[0m\u001b[0;34m:\u001b[0m \u001b[0;34m(\u001b[0m\u001b[0mfloat\u001b[0m\u001b[0;34m(\u001b[0m\u001b[0mrow\u001b[0m\u001b[0;34m[\u001b[0m\u001b[0;34m'probability'\u001b[0m\u001b[0;34m]\u001b[0m\u001b[0;34m[\u001b[0m\u001b[0;36m1\u001b[0m\u001b[0;34m]\u001b[0m\u001b[0;34m)\u001b[0m\u001b[0;34m,\u001b[0m \u001b[0mfloat\u001b[0m\u001b[0;34m(\u001b[0m\u001b[0mrow\u001b[0m\u001b[0;34m[\u001b[0m\u001b[0;34m'fleet'\u001b[0m\u001b[0;34m]\u001b[0m\u001b[0;34m)\u001b[0m\u001b[0;34m)\u001b[0m\u001b[0;34m)\u001b[0m\u001b[0;34m\u001b[0m\u001b[0;34m\u001b[0m\u001b[0m\n\u001b[0;32m----> 9\u001b[0;31m \u001b[0mpoints_lr_rdd\u001b[0m \u001b[0;34m=\u001b[0m \u001b[0mCurveMetrics\u001b[0m\u001b[0;34m(\u001b[0m\u001b[0mpreds_lr_rdd\u001b[0m\u001b[0;34m)\u001b[0m\u001b[0;34m.\u001b[0m\u001b[0mget_curve\u001b[0m\u001b[0;34m(\u001b[0m\u001b[0;34m'roc'\u001b[0m\u001b[0;34m)\u001b[0m\u001b[0;34m\u001b[0m\u001b[0;34m\u001b[0m\u001b[0m\n\u001b[0m\u001b[1;32m     10\u001b[0m \u001b[0;34m\u001b[0m\u001b[0m\n\u001b[1;32m     11\u001b[0m \u001b[0mx_val_lr\u001b[0m \u001b[0;34m=\u001b[0m \u001b[0;34m[\u001b[0m\u001b[0mx\u001b[0m\u001b[0;34m[\u001b[0m\u001b[0;36m0\u001b[0m\u001b[0;34m]\u001b[0m \u001b[0;32mfor\u001b[0m \u001b[0mx\u001b[0m \u001b[0;32min\u001b[0m \u001b[0mpoints_lr_rdd\u001b[0m\u001b[0;34m]\u001b[0m\u001b[0;34m\u001b[0m\u001b[0;34m\u001b[0m\u001b[0m\n",
            "\u001b[0;32m<ipython-input-21-866525eac929>\u001b[0m in \u001b[0;36m__init__\u001b[0;34m(self, *args)\u001b[0m\n\u001b[1;32m      4\u001b[0m \u001b[0;32mclass\u001b[0m \u001b[0mCurveMetrics\u001b[0m\u001b[0;34m(\u001b[0m\u001b[0mBinaryClassificationMetrics\u001b[0m\u001b[0;34m)\u001b[0m\u001b[0;34m:\u001b[0m\u001b[0;34m\u001b[0m\u001b[0;34m\u001b[0m\u001b[0m\n\u001b[1;32m      5\u001b[0m     \u001b[0;32mdef\u001b[0m \u001b[0m__init__\u001b[0m\u001b[0;34m(\u001b[0m\u001b[0mself\u001b[0m\u001b[0;34m,\u001b[0m \u001b[0;34m*\u001b[0m\u001b[0margs\u001b[0m\u001b[0;34m)\u001b[0m\u001b[0;34m:\u001b[0m\u001b[0;34m\u001b[0m\u001b[0;34m\u001b[0m\u001b[0m\n\u001b[0;32m----> 6\u001b[0;31m         \u001b[0msuper\u001b[0m\u001b[0;34m(\u001b[0m\u001b[0mCurveMetrics\u001b[0m\u001b[0;34m,\u001b[0m \u001b[0mself\u001b[0m\u001b[0;34m)\u001b[0m\u001b[0;34m.\u001b[0m\u001b[0m__init__\u001b[0m\u001b[0;34m(\u001b[0m\u001b[0;34m*\u001b[0m\u001b[0margs\u001b[0m\u001b[0;34m)\u001b[0m\u001b[0;34m\u001b[0m\u001b[0;34m\u001b[0m\u001b[0m\n\u001b[0m\u001b[1;32m      7\u001b[0m \u001b[0;34m\u001b[0m\u001b[0m\n\u001b[1;32m      8\u001b[0m     \u001b[0;32mdef\u001b[0m \u001b[0m_to_list\u001b[0m\u001b[0;34m(\u001b[0m\u001b[0mself\u001b[0m\u001b[0;34m,\u001b[0m \u001b[0mrdd\u001b[0m\u001b[0;34m)\u001b[0m\u001b[0;34m:\u001b[0m\u001b[0;34m\u001b[0m\u001b[0;34m\u001b[0m\u001b[0m\n",
            "\u001b[0;32m/usr/local/lib/python3.6/dist-packages/pyspark/mllib/evaluation.py\u001b[0m in \u001b[0;36m__init__\u001b[0;34m(self, scoreAndLabels)\u001b[0m\n\u001b[1;32m     56\u001b[0m         \u001b[0msc\u001b[0m \u001b[0;34m=\u001b[0m \u001b[0mscoreAndLabels\u001b[0m\u001b[0;34m.\u001b[0m\u001b[0mctx\u001b[0m\u001b[0;34m\u001b[0m\u001b[0;34m\u001b[0m\u001b[0m\n\u001b[1;32m     57\u001b[0m         \u001b[0msql_ctx\u001b[0m \u001b[0;34m=\u001b[0m \u001b[0mSQLContext\u001b[0m\u001b[0;34m.\u001b[0m\u001b[0mgetOrCreate\u001b[0m\u001b[0;34m(\u001b[0m\u001b[0msc\u001b[0m\u001b[0;34m)\u001b[0m\u001b[0;34m\u001b[0m\u001b[0;34m\u001b[0m\u001b[0m\n\u001b[0;32m---> 58\u001b[0;31m         \u001b[0mnumCol\u001b[0m \u001b[0;34m=\u001b[0m \u001b[0mlen\u001b[0m\u001b[0;34m(\u001b[0m\u001b[0mscoreAndLabels\u001b[0m\u001b[0;34m.\u001b[0m\u001b[0mfirst\u001b[0m\u001b[0;34m(\u001b[0m\u001b[0;34m)\u001b[0m\u001b[0;34m)\u001b[0m\u001b[0;34m\u001b[0m\u001b[0;34m\u001b[0m\u001b[0m\n\u001b[0m\u001b[1;32m     59\u001b[0m         schema = StructType([\n\u001b[1;32m     60\u001b[0m             \u001b[0mStructField\u001b[0m\u001b[0;34m(\u001b[0m\u001b[0;34m\"score\"\u001b[0m\u001b[0;34m,\u001b[0m \u001b[0mDoubleType\u001b[0m\u001b[0;34m(\u001b[0m\u001b[0;34m)\u001b[0m\u001b[0;34m,\u001b[0m \u001b[0mnullable\u001b[0m\u001b[0;34m=\u001b[0m\u001b[0;32mFalse\u001b[0m\u001b[0;34m)\u001b[0m\u001b[0;34m,\u001b[0m\u001b[0;34m\u001b[0m\u001b[0;34m\u001b[0m\u001b[0m\n",
            "\u001b[0;32m/usr/local/lib/python3.6/dist-packages/pyspark/rdd.py\u001b[0m in \u001b[0;36mfirst\u001b[0;34m(self)\u001b[0m\n\u001b[1;32m   1462\u001b[0m         \u001b[0mValueError\u001b[0m\u001b[0;34m:\u001b[0m \u001b[0mRDD\u001b[0m \u001b[0;32mis\u001b[0m \u001b[0mempty\u001b[0m\u001b[0;34m\u001b[0m\u001b[0;34m\u001b[0m\u001b[0m\n\u001b[1;32m   1463\u001b[0m         \"\"\"\n\u001b[0;32m-> 1464\u001b[0;31m         \u001b[0mrs\u001b[0m \u001b[0;34m=\u001b[0m \u001b[0mself\u001b[0m\u001b[0;34m.\u001b[0m\u001b[0mtake\u001b[0m\u001b[0;34m(\u001b[0m\u001b[0;36m1\u001b[0m\u001b[0;34m)\u001b[0m\u001b[0;34m\u001b[0m\u001b[0;34m\u001b[0m\u001b[0m\n\u001b[0m\u001b[1;32m   1465\u001b[0m         \u001b[0;32mif\u001b[0m \u001b[0mrs\u001b[0m\u001b[0;34m:\u001b[0m\u001b[0;34m\u001b[0m\u001b[0;34m\u001b[0m\u001b[0m\n\u001b[1;32m   1466\u001b[0m             \u001b[0;32mreturn\u001b[0m \u001b[0mrs\u001b[0m\u001b[0;34m[\u001b[0m\u001b[0;36m0\u001b[0m\u001b[0;34m]\u001b[0m\u001b[0;34m\u001b[0m\u001b[0;34m\u001b[0m\u001b[0m\n",
            "\u001b[0;32m/usr/local/lib/python3.6/dist-packages/pyspark/rdd.py\u001b[0m in \u001b[0;36mtake\u001b[0;34m(self, num)\u001b[0m\n\u001b[1;32m   1444\u001b[0m \u001b[0;34m\u001b[0m\u001b[0m\n\u001b[1;32m   1445\u001b[0m             \u001b[0mp\u001b[0m \u001b[0;34m=\u001b[0m \u001b[0mrange\u001b[0m\u001b[0;34m(\u001b[0m\u001b[0mpartsScanned\u001b[0m\u001b[0;34m,\u001b[0m \u001b[0mmin\u001b[0m\u001b[0;34m(\u001b[0m\u001b[0mpartsScanned\u001b[0m \u001b[0;34m+\u001b[0m \u001b[0mnumPartsToTry\u001b[0m\u001b[0;34m,\u001b[0m \u001b[0mtotalParts\u001b[0m\u001b[0;34m)\u001b[0m\u001b[0;34m)\u001b[0m\u001b[0;34m\u001b[0m\u001b[0;34m\u001b[0m\u001b[0m\n\u001b[0;32m-> 1446\u001b[0;31m             \u001b[0mres\u001b[0m \u001b[0;34m=\u001b[0m \u001b[0mself\u001b[0m\u001b[0;34m.\u001b[0m\u001b[0mcontext\u001b[0m\u001b[0;34m.\u001b[0m\u001b[0mrunJob\u001b[0m\u001b[0;34m(\u001b[0m\u001b[0mself\u001b[0m\u001b[0;34m,\u001b[0m \u001b[0mtakeUpToNumLeft\u001b[0m\u001b[0;34m,\u001b[0m \u001b[0mp\u001b[0m\u001b[0;34m)\u001b[0m\u001b[0;34m\u001b[0m\u001b[0;34m\u001b[0m\u001b[0m\n\u001b[0m\u001b[1;32m   1447\u001b[0m \u001b[0;34m\u001b[0m\u001b[0m\n\u001b[1;32m   1448\u001b[0m             \u001b[0mitems\u001b[0m \u001b[0;34m+=\u001b[0m \u001b[0mres\u001b[0m\u001b[0;34m\u001b[0m\u001b[0;34m\u001b[0m\u001b[0m\n",
            "\u001b[0;32m/usr/local/lib/python3.6/dist-packages/pyspark/context.py\u001b[0m in \u001b[0;36mrunJob\u001b[0;34m(self, rdd, partitionFunc, partitions, allowLocal)\u001b[0m\n\u001b[1;32m   1116\u001b[0m         \u001b[0;31m# SparkContext#runJob.\u001b[0m\u001b[0;34m\u001b[0m\u001b[0;34m\u001b[0m\u001b[0;34m\u001b[0m\u001b[0m\n\u001b[1;32m   1117\u001b[0m         \u001b[0mmappedRDD\u001b[0m \u001b[0;34m=\u001b[0m \u001b[0mrdd\u001b[0m\u001b[0;34m.\u001b[0m\u001b[0mmapPartitions\u001b[0m\u001b[0;34m(\u001b[0m\u001b[0mpartitionFunc\u001b[0m\u001b[0;34m)\u001b[0m\u001b[0;34m\u001b[0m\u001b[0;34m\u001b[0m\u001b[0m\n\u001b[0;32m-> 1118\u001b[0;31m         \u001b[0msock_info\u001b[0m \u001b[0;34m=\u001b[0m \u001b[0mself\u001b[0m\u001b[0;34m.\u001b[0m\u001b[0m_jvm\u001b[0m\u001b[0;34m.\u001b[0m\u001b[0mPythonRDD\u001b[0m\u001b[0;34m.\u001b[0m\u001b[0mrunJob\u001b[0m\u001b[0;34m(\u001b[0m\u001b[0mself\u001b[0m\u001b[0;34m.\u001b[0m\u001b[0m_jsc\u001b[0m\u001b[0;34m.\u001b[0m\u001b[0msc\u001b[0m\u001b[0;34m(\u001b[0m\u001b[0;34m)\u001b[0m\u001b[0;34m,\u001b[0m \u001b[0mmappedRDD\u001b[0m\u001b[0;34m.\u001b[0m\u001b[0m_jrdd\u001b[0m\u001b[0;34m,\u001b[0m \u001b[0mpartitions\u001b[0m\u001b[0;34m)\u001b[0m\u001b[0;34m\u001b[0m\u001b[0;34m\u001b[0m\u001b[0m\n\u001b[0m\u001b[1;32m   1119\u001b[0m         \u001b[0;32mreturn\u001b[0m \u001b[0mlist\u001b[0m\u001b[0;34m(\u001b[0m\u001b[0m_load_from_socket\u001b[0m\u001b[0;34m(\u001b[0m\u001b[0msock_info\u001b[0m\u001b[0;34m,\u001b[0m \u001b[0mmappedRDD\u001b[0m\u001b[0;34m.\u001b[0m\u001b[0m_jrdd_deserializer\u001b[0m\u001b[0;34m)\u001b[0m\u001b[0;34m)\u001b[0m\u001b[0;34m\u001b[0m\u001b[0;34m\u001b[0m\u001b[0m\n\u001b[1;32m   1120\u001b[0m \u001b[0;34m\u001b[0m\u001b[0m\n",
            "\u001b[0;32m/usr/local/lib/python3.6/dist-packages/py4j/java_gateway.py\u001b[0m in \u001b[0;36m__call__\u001b[0;34m(self, *args)\u001b[0m\n\u001b[1;32m   1301\u001b[0m             \u001b[0mproto\u001b[0m\u001b[0;34m.\u001b[0m\u001b[0mEND_COMMAND_PART\u001b[0m\u001b[0;34m\u001b[0m\u001b[0;34m\u001b[0m\u001b[0m\n\u001b[1;32m   1302\u001b[0m \u001b[0;34m\u001b[0m\u001b[0m\n\u001b[0;32m-> 1303\u001b[0;31m         \u001b[0manswer\u001b[0m \u001b[0;34m=\u001b[0m \u001b[0mself\u001b[0m\u001b[0;34m.\u001b[0m\u001b[0mgateway_client\u001b[0m\u001b[0;34m.\u001b[0m\u001b[0msend_command\u001b[0m\u001b[0;34m(\u001b[0m\u001b[0mcommand\u001b[0m\u001b[0;34m)\u001b[0m\u001b[0;34m\u001b[0m\u001b[0;34m\u001b[0m\u001b[0m\n\u001b[0m\u001b[1;32m   1304\u001b[0m         return_value = get_return_value(\n\u001b[1;32m   1305\u001b[0m             answer, self.gateway_client, self.target_id, self.name)\n",
            "\u001b[0;32m/usr/local/lib/python3.6/dist-packages/py4j/java_gateway.py\u001b[0m in \u001b[0;36msend_command\u001b[0;34m(self, command, retry, binary)\u001b[0m\n\u001b[1;32m   1031\u001b[0m         \u001b[0mconnection\u001b[0m \u001b[0;34m=\u001b[0m \u001b[0mself\u001b[0m\u001b[0;34m.\u001b[0m\u001b[0m_get_connection\u001b[0m\u001b[0;34m(\u001b[0m\u001b[0;34m)\u001b[0m\u001b[0;34m\u001b[0m\u001b[0;34m\u001b[0m\u001b[0m\n\u001b[1;32m   1032\u001b[0m         \u001b[0;32mtry\u001b[0m\u001b[0;34m:\u001b[0m\u001b[0;34m\u001b[0m\u001b[0;34m\u001b[0m\u001b[0m\n\u001b[0;32m-> 1033\u001b[0;31m             \u001b[0mresponse\u001b[0m \u001b[0;34m=\u001b[0m \u001b[0mconnection\u001b[0m\u001b[0;34m.\u001b[0m\u001b[0msend_command\u001b[0m\u001b[0;34m(\u001b[0m\u001b[0mcommand\u001b[0m\u001b[0;34m)\u001b[0m\u001b[0;34m\u001b[0m\u001b[0;34m\u001b[0m\u001b[0m\n\u001b[0m\u001b[1;32m   1034\u001b[0m             \u001b[0;32mif\u001b[0m \u001b[0mbinary\u001b[0m\u001b[0;34m:\u001b[0m\u001b[0;34m\u001b[0m\u001b[0;34m\u001b[0m\u001b[0m\n\u001b[1;32m   1035\u001b[0m                 \u001b[0;32mreturn\u001b[0m \u001b[0mresponse\u001b[0m\u001b[0;34m,\u001b[0m \u001b[0mself\u001b[0m\u001b[0;34m.\u001b[0m\u001b[0m_create_connection_guard\u001b[0m\u001b[0;34m(\u001b[0m\u001b[0mconnection\u001b[0m\u001b[0;34m)\u001b[0m\u001b[0;34m\u001b[0m\u001b[0;34m\u001b[0m\u001b[0m\n",
            "\u001b[0;32m/usr/local/lib/python3.6/dist-packages/py4j/java_gateway.py\u001b[0m in \u001b[0;36msend_command\u001b[0;34m(self, command)\u001b[0m\n\u001b[1;32m   1198\u001b[0m \u001b[0;34m\u001b[0m\u001b[0m\n\u001b[1;32m   1199\u001b[0m         \u001b[0;32mtry\u001b[0m\u001b[0;34m:\u001b[0m\u001b[0;34m\u001b[0m\u001b[0;34m\u001b[0m\u001b[0m\n\u001b[0;32m-> 1200\u001b[0;31m             \u001b[0manswer\u001b[0m \u001b[0;34m=\u001b[0m \u001b[0msmart_decode\u001b[0m\u001b[0;34m(\u001b[0m\u001b[0mself\u001b[0m\u001b[0;34m.\u001b[0m\u001b[0mstream\u001b[0m\u001b[0;34m.\u001b[0m\u001b[0mreadline\u001b[0m\u001b[0;34m(\u001b[0m\u001b[0;34m)\u001b[0m\u001b[0;34m[\u001b[0m\u001b[0;34m:\u001b[0m\u001b[0;34m-\u001b[0m\u001b[0;36m1\u001b[0m\u001b[0;34m]\u001b[0m\u001b[0;34m)\u001b[0m\u001b[0;34m\u001b[0m\u001b[0;34m\u001b[0m\u001b[0m\n\u001b[0m\u001b[1;32m   1201\u001b[0m             \u001b[0mlogger\u001b[0m\u001b[0;34m.\u001b[0m\u001b[0mdebug\u001b[0m\u001b[0;34m(\u001b[0m\u001b[0;34m\"Answer received: {0}\"\u001b[0m\u001b[0;34m.\u001b[0m\u001b[0mformat\u001b[0m\u001b[0;34m(\u001b[0m\u001b[0manswer\u001b[0m\u001b[0;34m)\u001b[0m\u001b[0;34m)\u001b[0m\u001b[0;34m\u001b[0m\u001b[0;34m\u001b[0m\u001b[0m\n\u001b[1;32m   1202\u001b[0m             \u001b[0;32mif\u001b[0m \u001b[0manswer\u001b[0m\u001b[0;34m.\u001b[0m\u001b[0mstartswith\u001b[0m\u001b[0;34m(\u001b[0m\u001b[0mproto\u001b[0m\u001b[0;34m.\u001b[0m\u001b[0mRETURN_MESSAGE\u001b[0m\u001b[0;34m)\u001b[0m\u001b[0;34m:\u001b[0m\u001b[0;34m\u001b[0m\u001b[0;34m\u001b[0m\u001b[0m\n",
            "\u001b[0;32m/usr/lib/python3.6/socket.py\u001b[0m in \u001b[0;36mreadinto\u001b[0;34m(self, b)\u001b[0m\n\u001b[1;32m    584\u001b[0m         \u001b[0;32mwhile\u001b[0m \u001b[0;32mTrue\u001b[0m\u001b[0;34m:\u001b[0m\u001b[0;34m\u001b[0m\u001b[0;34m\u001b[0m\u001b[0m\n\u001b[1;32m    585\u001b[0m             \u001b[0;32mtry\u001b[0m\u001b[0;34m:\u001b[0m\u001b[0;34m\u001b[0m\u001b[0;34m\u001b[0m\u001b[0m\n\u001b[0;32m--> 586\u001b[0;31m                 \u001b[0;32mreturn\u001b[0m \u001b[0mself\u001b[0m\u001b[0;34m.\u001b[0m\u001b[0m_sock\u001b[0m\u001b[0;34m.\u001b[0m\u001b[0mrecv_into\u001b[0m\u001b[0;34m(\u001b[0m\u001b[0mb\u001b[0m\u001b[0;34m)\u001b[0m\u001b[0;34m\u001b[0m\u001b[0;34m\u001b[0m\u001b[0m\n\u001b[0m\u001b[1;32m    587\u001b[0m             \u001b[0;32mexcept\u001b[0m \u001b[0mtimeout\u001b[0m\u001b[0;34m:\u001b[0m\u001b[0;34m\u001b[0m\u001b[0;34m\u001b[0m\u001b[0m\n\u001b[1;32m    588\u001b[0m                 \u001b[0mself\u001b[0m\u001b[0;34m.\u001b[0m\u001b[0m_timeout_occurred\u001b[0m \u001b[0;34m=\u001b[0m \u001b[0;32mTrue\u001b[0m\u001b[0;34m\u001b[0m\u001b[0;34m\u001b[0m\u001b[0m\n",
            "\u001b[0;31mKeyboardInterrupt\u001b[0m: "
          ]
        },
        {
          "output_type": "display_data",
          "data": {
            "image/png": "[encoded data removed]",
            "text/plain": [
              "<Figure size 432x288 with 1 Axes>"
            ]
          },
          "metadata": {
            "tags": [],
            "needs_background": "light"
          }
        }
      ]
    },
    {
      "cell_type": "code",
      "metadata": {
        "id": "vmo2AcNkl-Ly",
        "outputId": "81bb91b4-9151-439a-9275-2f55e870bba8",
        "colab": {
          "base_uri": "https://localhost:8080/"
        }
      },
      "source": [
        "no_skill\n"
      ],
      "execution_count": 26,
      "outputs": [
        {
          "output_type": "execute_result",
          "data": {
            "text/plain": [
              "0.11306578706248854"
            ]
          },
          "metadata": {
            "tags": []
          },
          "execution_count": 26
        }
      ]
    }
  ]
}